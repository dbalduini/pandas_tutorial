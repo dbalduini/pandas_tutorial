{
 "cells": [
  {
   "cell_type": "markdown",
   "metadata": {},
   "source": [
    "Last updated: June 29th 2016"
   ]
  },
  {
   "cell_type": "markdown",
   "metadata": {},
   "source": [
    "# Climate data exploration: a journey through Pandas"
   ]
  },
  {
   "cell_type": "markdown",
   "metadata": {},
   "source": [
    "Welcome to a demo of Python's data analysis package called `Pandas`. Our goal is to learn about Data Analysis and transformation using Pandas while exploring datasets used to analyze climate change. "
   ]
  },
  {
   "cell_type": "markdown",
   "metadata": {},
   "source": [
    "## The story"
   ]
  },
  {
   "cell_type": "markdown",
   "metadata": {},
   "source": [
    "The global goal of this demo is to provide the tools to be able to try and reproduce some of the analysis done in the IPCC global climate reports published in the last decade (see for example https://www.ipcc.ch/pdf/assessment-report/ar5/syr/SYR_AR5_FINAL_full.pdf). \n",
    "\n",
    "We are first going to load a few public datasets containing information about global temperature, global and local sea level infomation, and global concentration of greenhouse gases like CO2, to see if there are correlations and how the trends are to evolve, assuming no fundamental change in the system. For all these datasets, we will download them, visualize them, clean them, search through them, merge them, resample them, transform them and summarize them."
   ]
  },
  {
   "cell_type": "markdown",
   "metadata": {},
   "source": [
    "In the process, we will learn about:\n",
    "\n",
    "Part 1:\n",
    "\n",
    "    1. Loading data\n",
    "    2. Pandas datastructures\n",
    "    3. Cleaning and formatting data\n",
    "    4. Basic visualization\n",
    "   \n",
    "Part 2:\n",
    "\n",
    "    5. Accessing data\n",
    "    6. Working with dates and times\n",
    "    7. Transforming datasets\n",
    "    8. Statistical analysis\n",
    "    9. Data agregation and summarization\n",
    "    10. Correlations and regressions\n",
    "    11. Predictions from auto regression models"
   ]
  },
  {
   "cell_type": "markdown",
   "metadata": {},
   "source": [
    "## Some initial setup"
   ]
  },
  {
   "cell_type": "code",
   "execution_count": 1,
   "metadata": {
    "collapsed": false
   },
   "outputs": [],
   "source": [
    "%matplotlib inline\n",
    "import pandas as pd\n",
    "\n",
    "import numpy as np\n",
    "import matplotlib.pyplot as plt\n",
    "\n",
    "pd.set_option(\"display.max_rows\", 16)\n",
    "\n",
    "LARGE_FIGSIZE = (12, 8)"
   ]
  },
  {
   "cell_type": "code",
   "execution_count": 2,
   "metadata": {
    "collapsed": false
   },
   "outputs": [
    {
     "name": "stdout",
     "output_type": "stream",
     "text": [
      "/Users/dbalduini/Data_Science/pandas_tutorial/climate_timeseries\n",
      "all_data.h5                     \u001b[1m\u001b[36mdata\u001b[m\u001b[m/\r\n",
      "climate_timeseries-Part1.ipynb  giss_temp-export.csv\r\n",
      "climate_timeseries-Part2.ipynb  \u001b[1m\u001b[36msandbox\u001b[m\u001b[m/\r\n"
     ]
    }
   ],
   "source": [
    "# Change this cell to the demo location on YOUR machine\n",
    "%cd ~/Data_Science/pandas_tutorial/climate_timeseries/\n",
    "%ls"
   ]
  },
  {
   "cell_type": "markdown",
   "metadata": {},
   "source": [
    "## Reloading data"
   ]
  },
  {
   "cell_type": "code",
   "execution_count": 3,
   "metadata": {
    "collapsed": false
   },
   "outputs": [],
   "source": [
    "with pd.HDFStore(\"all_data.h5\") as store:\n",
    "    giss_temp = store[\"/temperatures/giss\"]\n",
    "    full_globe_temp = store[\"/temperatures/full_globe\"]\n",
    "    mean_sea_level = store[\"/sea_level/mean_sea_level\"]\n",
    "    local_sea_level_stations = store[\"/sea_level/stations\"]"
   ]
  },
  {
   "cell_type": "markdown",
   "metadata": {},
   "source": [
    "## 5. Accessing data"
   ]
  },
  {
   "cell_type": "markdown",
   "metadata": {},
   "source": [
    "The general philosophy for accessing values inside a Pandas datastructure is that, unlike a numpy array that only allows to index using integers a Series allows to index with the values inside the index. That makes the code more readable."
   ]
  },
  {
   "cell_type": "markdown",
   "metadata": {},
   "source": [
    "### In a series"
   ]
  },
  {
   "cell_type": "code",
   "execution_count": 4,
   "metadata": {
    "collapsed": false
   },
   "outputs": [
    {
     "data": {
      "text/plain": [
       "year\n",
       "1880-01-01   -0.1591\n",
       "1881-01-01   -0.0789\n",
       "1882-01-01   -0.1313\n",
       "1883-01-01   -0.1675\n",
       "1884-01-01   -0.2485\n",
       "1885-01-01   -0.2042\n",
       "1886-01-01   -0.1695\n",
       "1887-01-01   -0.2505\n",
       "               ...  \n",
       "2003-01-01    0.5818\n",
       "2004-01-01    0.5416\n",
       "2005-01-01    0.6154\n",
       "2006-01-01    0.5601\n",
       "2007-01-01    0.5472\n",
       "2008-01-01    0.4804\n",
       "2009-01-01    0.5551\n",
       "2010-01-01       NaN\n",
       "Name: mean temp, dtype: float64"
      ]
     },
     "execution_count": 4,
     "metadata": {},
     "output_type": "execute_result"
    }
   ],
   "source": [
    "full_globe_temp"
   ]
  },
  {
   "cell_type": "code",
   "execution_count": null,
   "metadata": {
    "collapsed": false
   },
   "outputs": [],
   "source": [
    "# By default [] on a series accesses values using the index, not the location in the series"
   ]
  },
  {
   "cell_type": "code",
   "execution_count": 5,
   "metadata": {
    "collapsed": false
   },
   "outputs": [
    {
     "data": {
      "text/plain": [
       "dtype('<M8[ns]')"
      ]
     },
     "execution_count": 5,
     "metadata": {},
     "output_type": "execute_result"
    }
   ],
   "source": [
    "# This index is non-trivial though (will talk more about these datetime objects further down):\n",
    "full_globe_temp.index.dtype"
   ]
  },
  {
   "cell_type": "code",
   "execution_count": 6,
   "metadata": {
    "collapsed": false
   },
   "outputs": [
    {
     "data": {
      "text/plain": [
       "True"
      ]
     },
     "execution_count": 6,
     "metadata": {},
     "output_type": "execute_result"
    }
   ],
   "source": [
    "first_date = full_globe_temp.index[0]\n",
    "first_date == pd.to_datetime('1880')"
   ]
  },
  {
   "cell_type": "code",
   "execution_count": 7,
   "metadata": {
    "collapsed": false
   },
   "outputs": [
    {
     "name": "stdout",
     "output_type": "stream",
     "text": [
      "-0.1591\n"
     ]
    }
   ],
   "source": [
    "# By default [] on a series accesses values using the index, not the location in the series\n",
    "print(full_globe_temp[pd.to_datetime('1880')])\n",
    "# print(temp1[0])  # This would fail!!"
   ]
  },
  {
   "cell_type": "code",
   "execution_count": 8,
   "metadata": {
    "collapsed": false
   },
   "outputs": [
    {
     "name": "stdout",
     "output_type": "stream",
     "text": [
      "0.3861\n",
      "-0.1591 nan\n"
     ]
    }
   ],
   "source": [
    "# Another more explicit way to do the same thing is to use loc\n",
    "print(full_globe_temp.loc[pd.to_datetime('1990')])\n",
    "print(full_globe_temp.iloc[0], full_globe_temp.iloc[-1])"
   ]
  },
  {
   "cell_type": "code",
   "execution_count": 9,
   "metadata": {
    "collapsed": false
   },
   "outputs": [
    {
     "data": {
      "text/plain": [
       "Timestamp('2010-01-01 00:00:00')"
      ]
     },
     "execution_count": 9,
     "metadata": {},
     "output_type": "execute_result"
    }
   ],
   "source": [
    "# Year of the last record?\n",
    "full_globe_temp.index[-1]"
   ]
  },
  {
   "cell_type": "code",
   "execution_count": 10,
   "metadata": {
    "collapsed": false
   },
   "outputs": [],
   "source": [
    "# New records can be added:\n",
    "full_globe_temp[pd.to_datetime('2011')] = np.nan"
   ]
  },
  {
   "cell_type": "markdown",
   "metadata": {},
   "source": [
    "### In a dataframe"
   ]
  },
  {
   "cell_type": "code",
   "execution_count": 11,
   "metadata": {
    "collapsed": false
   },
   "outputs": [
    {
     "data": {
      "text/plain": [
       "Year\n",
       "1880   -34.0\n",
       "1881   -13.0\n",
       "1882     3.0\n",
       "1883   -38.0\n",
       "1884   -20.0\n",
       "1885   -57.0\n",
       "1886   -37.0\n",
       "1887   -60.0\n",
       "        ... \n",
       "2008    22.0\n",
       "2009    56.0\n",
       "2010    66.0\n",
       "2011    45.0\n",
       "2012    38.0\n",
       "2013    62.0\n",
       "2014    68.0\n",
       "2015    75.0\n",
       "Name: Jan, dtype: float32"
      ]
     },
     "execution_count": 11,
     "metadata": {},
     "output_type": "execute_result"
    }
   ],
   "source": [
    "# In 2D, same idea, though in a DF [] accesses columns (Series)\n",
    "giss_temp[\"Jan\"]"
   ]
  },
  {
   "cell_type": "code",
   "execution_count": 12,
   "metadata": {
    "collapsed": false
   },
   "outputs": [
    {
     "name": "stdout",
     "output_type": "stream",
     "text": [
      "43.0\n"
     ]
    }
   ],
   "source": [
    "# while .loc and .iloc allow to access individual values, slices or masked selections:\n",
    "print(giss_temp.loc[1979, \"Dec\"])"
   ]
  },
  {
   "cell_type": "code",
   "execution_count": 14,
   "metadata": {
    "collapsed": false
   },
   "outputs": [
    {
     "name": "stdout",
     "output_type": "stream",
     "text": [
      "Nov    24.0\n",
      "Dec    43.0\n",
      "Name: 1979, dtype: float32\n"
     ]
    }
   ],
   "source": [
    "# the loc operators support fancy indexing:\n",
    "print(giss_temp.loc[1979, [\"Nov\", \"Dec\"]])"
   ]
  },
  {
   "cell_type": "code",
   "execution_count": 15,
   "metadata": {
    "collapsed": false
   },
   "outputs": [
    {
     "name": "stdout",
     "output_type": "stream",
     "text": [
      "Jan    10.0\n",
      "Feb   -12.0\n",
      "Mar    14.0\n",
      "Apr     8.0\n",
      "May     1.0\n",
      "Jun     9.0\n",
      "Name: 1979, dtype: float32\n",
      "Jan    10.0\n",
      "Mar    14.0\n",
      "May     1.0\n",
      "Jul    -3.0\n",
      "Sep    20.0\n",
      "Nov    24.0\n",
      "Name: 1979, dtype: float32\n"
     ]
    }
   ],
   "source": [
    "# Slicing can be done with .loc and .iloc\n",
    "print(giss_temp.loc[1979, \"Jan\":\"Jun\"])  # Note that the end point is included unlike NumPy!!!\n",
    "print(giss_temp.loc[1979, ::2])"
   ]
  },
  {
   "cell_type": "code",
   "execution_count": 16,
   "metadata": {
    "collapsed": false
   },
   "outputs": [
    {
     "name": "stdout",
     "output_type": "stream",
     "text": [
      "Jan   -34.0\n",
      "Mar   -22.0\n",
      "May   -16.0\n",
      "Jul   -19.0\n",
      "Sep   -20.0\n",
      "Nov   -16.0\n",
      "Name: 1880, dtype: float32\n",
      "Jan   -34.0\n",
      "Mar   -22.0\n",
      "May   -16.0\n",
      "Jul   -19.0\n",
      "Sep   -20.0\n",
      "Nov   -16.0\n",
      "Name: 1880, dtype: float32\n"
     ]
    }
   ],
   "source": [
    "# Masking can also be used in one or more dimensions. For example, another way to grab every other month for the first year:\n",
    "mask = [True, False] * 6\n",
    "print(giss_temp.iloc[0, mask])\n",
    "print(giss_temp.loc[1880, mask])"
   ]
  },
  {
   "cell_type": "code",
   "execution_count": 18,
   "metadata": {
    "collapsed": false
   },
   "outputs": [
    {
     "data": {
      "text/html": [
       "<div>\n",
       "<table border=\"1\" class=\"dataframe\">\n",
       "  <thead>\n",
       "    <tr style=\"text-align: right;\">\n",
       "      <th></th>\n",
       "      <th>Jan</th>\n",
       "      <th>Feb</th>\n",
       "      <th>Mar</th>\n",
       "      <th>Apr</th>\n",
       "      <th>May</th>\n",
       "      <th>Jun</th>\n",
       "      <th>Jul</th>\n",
       "      <th>Aug</th>\n",
       "      <th>Sep</th>\n",
       "      <th>Oct</th>\n",
       "      <th>Nov</th>\n",
       "      <th>Dec</th>\n",
       "      <th>totals</th>\n",
       "    </tr>\n",
       "    <tr>\n",
       "      <th>Year</th>\n",
       "      <th></th>\n",
       "      <th></th>\n",
       "      <th></th>\n",
       "      <th></th>\n",
       "      <th></th>\n",
       "      <th></th>\n",
       "      <th></th>\n",
       "      <th></th>\n",
       "      <th></th>\n",
       "      <th></th>\n",
       "      <th></th>\n",
       "      <th></th>\n",
       "      <th></th>\n",
       "    </tr>\n",
       "  </thead>\n",
       "  <tbody>\n",
       "    <tr>\n",
       "      <th>1880</th>\n",
       "      <td>-34.0</td>\n",
       "      <td>-27.0</td>\n",
       "      <td>-22.0</td>\n",
       "      <td>-30.0</td>\n",
       "      <td>-16.0</td>\n",
       "      <td>-24.0</td>\n",
       "      <td>-19.0</td>\n",
       "      <td>-12.0</td>\n",
       "      <td>-20.0</td>\n",
       "      <td>-19.0</td>\n",
       "      <td>-16.0</td>\n",
       "      <td>-21.0</td>\n",
       "      <td>-520.0</td>\n",
       "    </tr>\n",
       "    <tr>\n",
       "      <th>1881</th>\n",
       "      <td>-13.0</td>\n",
       "      <td>-16.0</td>\n",
       "      <td>-2.0</td>\n",
       "      <td>-3.0</td>\n",
       "      <td>-3.0</td>\n",
       "      <td>-27.0</td>\n",
       "      <td>-12.0</td>\n",
       "      <td>-8.0</td>\n",
       "      <td>-18.0</td>\n",
       "      <td>-23.0</td>\n",
       "      <td>-28.0</td>\n",
       "      <td>-18.0</td>\n",
       "      <td>-342.0</td>\n",
       "    </tr>\n",
       "    <tr>\n",
       "      <th>1882</th>\n",
       "      <td>3.0</td>\n",
       "      <td>4.0</td>\n",
       "      <td>-2.0</td>\n",
       "      <td>-24.0</td>\n",
       "      <td>-20.0</td>\n",
       "      <td>-32.0</td>\n",
       "      <td>-27.0</td>\n",
       "      <td>-11.0</td>\n",
       "      <td>-11.0</td>\n",
       "      <td>-25.0</td>\n",
       "      <td>-25.0</td>\n",
       "      <td>-37.0</td>\n",
       "      <td>-414.0</td>\n",
       "    </tr>\n",
       "    <tr>\n",
       "      <th>1883</th>\n",
       "      <td>-38.0</td>\n",
       "      <td>-38.0</td>\n",
       "      <td>-12.0</td>\n",
       "      <td>-20.0</td>\n",
       "      <td>-20.0</td>\n",
       "      <td>-8.0</td>\n",
       "      <td>-3.0</td>\n",
       "      <td>-13.0</td>\n",
       "      <td>-19.0</td>\n",
       "      <td>-19.0</td>\n",
       "      <td>-28.0</td>\n",
       "      <td>-21.0</td>\n",
       "      <td>-478.0</td>\n",
       "    </tr>\n",
       "    <tr>\n",
       "      <th>1884</th>\n",
       "      <td>-20.0</td>\n",
       "      <td>-14.0</td>\n",
       "      <td>-31.0</td>\n",
       "      <td>-36.0</td>\n",
       "      <td>-33.0</td>\n",
       "      <td>-36.0</td>\n",
       "      <td>-31.0</td>\n",
       "      <td>-24.0</td>\n",
       "      <td>-29.0</td>\n",
       "      <td>-25.0</td>\n",
       "      <td>-29.0</td>\n",
       "      <td>-25.0</td>\n",
       "      <td>-666.0</td>\n",
       "    </tr>\n",
       "    <tr>\n",
       "      <th>1885</th>\n",
       "      <td>-57.0</td>\n",
       "      <td>-29.0</td>\n",
       "      <td>-19.0</td>\n",
       "      <td>-36.0</td>\n",
       "      <td>-35.0</td>\n",
       "      <td>-40.0</td>\n",
       "      <td>-28.0</td>\n",
       "      <td>-24.0</td>\n",
       "      <td>-17.0</td>\n",
       "      <td>-14.0</td>\n",
       "      <td>-14.0</td>\n",
       "      <td>0.0</td>\n",
       "      <td>-626.0</td>\n",
       "    </tr>\n",
       "    <tr>\n",
       "      <th>1886</th>\n",
       "      <td>-37.0</td>\n",
       "      <td>-43.0</td>\n",
       "      <td>-34.0</td>\n",
       "      <td>-23.0</td>\n",
       "      <td>-21.0</td>\n",
       "      <td>-30.0</td>\n",
       "      <td>-13.0</td>\n",
       "      <td>-21.0</td>\n",
       "      <td>-12.0</td>\n",
       "      <td>-22.0</td>\n",
       "      <td>-29.0</td>\n",
       "      <td>-18.0</td>\n",
       "      <td>-606.0</td>\n",
       "    </tr>\n",
       "    <tr>\n",
       "      <th>1887</th>\n",
       "      <td>-60.0</td>\n",
       "      <td>-43.0</td>\n",
       "      <td>-26.0</td>\n",
       "      <td>-34.0</td>\n",
       "      <td>-28.0</td>\n",
       "      <td>-25.0</td>\n",
       "      <td>-19.0</td>\n",
       "      <td>-28.0</td>\n",
       "      <td>-24.0</td>\n",
       "      <td>-33.0</td>\n",
       "      <td>-29.0</td>\n",
       "      <td>-40.0</td>\n",
       "      <td>-778.0</td>\n",
       "    </tr>\n",
       "    <tr>\n",
       "      <th>...</th>\n",
       "      <td>...</td>\n",
       "      <td>...</td>\n",
       "      <td>...</td>\n",
       "      <td>...</td>\n",
       "      <td>...</td>\n",
       "      <td>...</td>\n",
       "      <td>...</td>\n",
       "      <td>...</td>\n",
       "      <td>...</td>\n",
       "      <td>...</td>\n",
       "      <td>...</td>\n",
       "      <td>...</td>\n",
       "      <td>...</td>\n",
       "    </tr>\n",
       "    <tr>\n",
       "      <th>2008</th>\n",
       "      <td>22.0</td>\n",
       "      <td>31.0</td>\n",
       "      <td>70.0</td>\n",
       "      <td>48.0</td>\n",
       "      <td>46.0</td>\n",
       "      <td>43.0</td>\n",
       "      <td>54.0</td>\n",
       "      <td>39.0</td>\n",
       "      <td>59.0</td>\n",
       "      <td>62.0</td>\n",
       "      <td>62.0</td>\n",
       "      <td>51.0</td>\n",
       "      <td>1174.0</td>\n",
       "    </tr>\n",
       "    <tr>\n",
       "      <th>2009</th>\n",
       "      <td>56.0</td>\n",
       "      <td>48.0</td>\n",
       "      <td>49.0</td>\n",
       "      <td>57.0</td>\n",
       "      <td>59.0</td>\n",
       "      <td>62.0</td>\n",
       "      <td>66.0</td>\n",
       "      <td>61.0</td>\n",
       "      <td>64.0</td>\n",
       "      <td>58.0</td>\n",
       "      <td>72.0</td>\n",
       "      <td>58.0</td>\n",
       "      <td>1420.0</td>\n",
       "    </tr>\n",
       "    <tr>\n",
       "      <th>2010</th>\n",
       "      <td>66.0</td>\n",
       "      <td>75.0</td>\n",
       "      <td>87.0</td>\n",
       "      <td>82.0</td>\n",
       "      <td>71.0</td>\n",
       "      <td>60.0</td>\n",
       "      <td>56.0</td>\n",
       "      <td>59.0</td>\n",
       "      <td>55.0</td>\n",
       "      <td>65.0</td>\n",
       "      <td>74.0</td>\n",
       "      <td>44.0</td>\n",
       "      <td>1588.0</td>\n",
       "    </tr>\n",
       "    <tr>\n",
       "      <th>2011</th>\n",
       "      <td>45.0</td>\n",
       "      <td>44.0</td>\n",
       "      <td>57.0</td>\n",
       "      <td>60.0</td>\n",
       "      <td>47.0</td>\n",
       "      <td>54.0</td>\n",
       "      <td>70.0</td>\n",
       "      <td>69.0</td>\n",
       "      <td>52.0</td>\n",
       "      <td>60.0</td>\n",
       "      <td>50.0</td>\n",
       "      <td>48.0</td>\n",
       "      <td>1312.0</td>\n",
       "    </tr>\n",
       "    <tr>\n",
       "      <th>2012</th>\n",
       "      <td>38.0</td>\n",
       "      <td>43.0</td>\n",
       "      <td>52.0</td>\n",
       "      <td>62.0</td>\n",
       "      <td>71.0</td>\n",
       "      <td>59.0</td>\n",
       "      <td>50.0</td>\n",
       "      <td>56.0</td>\n",
       "      <td>68.0</td>\n",
       "      <td>73.0</td>\n",
       "      <td>69.0</td>\n",
       "      <td>46.0</td>\n",
       "      <td>1374.0</td>\n",
       "    </tr>\n",
       "    <tr>\n",
       "      <th>2013</th>\n",
       "      <td>62.0</td>\n",
       "      <td>52.0</td>\n",
       "      <td>60.0</td>\n",
       "      <td>48.0</td>\n",
       "      <td>56.0</td>\n",
       "      <td>61.0</td>\n",
       "      <td>53.0</td>\n",
       "      <td>61.0</td>\n",
       "      <td>73.0</td>\n",
       "      <td>61.0</td>\n",
       "      <td>75.0</td>\n",
       "      <td>61.0</td>\n",
       "      <td>1446.0</td>\n",
       "    </tr>\n",
       "    <tr>\n",
       "      <th>2014</th>\n",
       "      <td>68.0</td>\n",
       "      <td>44.0</td>\n",
       "      <td>71.0</td>\n",
       "      <td>72.0</td>\n",
       "      <td>79.0</td>\n",
       "      <td>62.0</td>\n",
       "      <td>50.0</td>\n",
       "      <td>74.0</td>\n",
       "      <td>81.0</td>\n",
       "      <td>78.0</td>\n",
       "      <td>64.0</td>\n",
       "      <td>74.0</td>\n",
       "      <td>1634.0</td>\n",
       "    </tr>\n",
       "    <tr>\n",
       "      <th>2015</th>\n",
       "      <td>75.0</td>\n",
       "      <td>80.0</td>\n",
       "      <td>84.0</td>\n",
       "      <td>71.0</td>\n",
       "      <td>NaN</td>\n",
       "      <td>NaN</td>\n",
       "      <td>NaN</td>\n",
       "      <td>NaN</td>\n",
       "      <td>NaN</td>\n",
       "      <td>NaN</td>\n",
       "      <td>NaN</td>\n",
       "      <td>NaN</td>\n",
       "      <td>620.0</td>\n",
       "    </tr>\n",
       "  </tbody>\n",
       "</table>\n",
       "<p>136 rows × 13 columns</p>\n",
       "</div>"
      ],
      "text/plain": [
       "       Jan   Feb   Mar   Apr   May   Jun   Jul   Aug   Sep   Oct   Nov   Dec  \\\n",
       "Year                                                                           \n",
       "1880 -34.0 -27.0 -22.0 -30.0 -16.0 -24.0 -19.0 -12.0 -20.0 -19.0 -16.0 -21.0   \n",
       "1881 -13.0 -16.0  -2.0  -3.0  -3.0 -27.0 -12.0  -8.0 -18.0 -23.0 -28.0 -18.0   \n",
       "1882   3.0   4.0  -2.0 -24.0 -20.0 -32.0 -27.0 -11.0 -11.0 -25.0 -25.0 -37.0   \n",
       "1883 -38.0 -38.0 -12.0 -20.0 -20.0  -8.0  -3.0 -13.0 -19.0 -19.0 -28.0 -21.0   \n",
       "1884 -20.0 -14.0 -31.0 -36.0 -33.0 -36.0 -31.0 -24.0 -29.0 -25.0 -29.0 -25.0   \n",
       "1885 -57.0 -29.0 -19.0 -36.0 -35.0 -40.0 -28.0 -24.0 -17.0 -14.0 -14.0   0.0   \n",
       "1886 -37.0 -43.0 -34.0 -23.0 -21.0 -30.0 -13.0 -21.0 -12.0 -22.0 -29.0 -18.0   \n",
       "1887 -60.0 -43.0 -26.0 -34.0 -28.0 -25.0 -19.0 -28.0 -24.0 -33.0 -29.0 -40.0   \n",
       "...    ...   ...   ...   ...   ...   ...   ...   ...   ...   ...   ...   ...   \n",
       "2008  22.0  31.0  70.0  48.0  46.0  43.0  54.0  39.0  59.0  62.0  62.0  51.0   \n",
       "2009  56.0  48.0  49.0  57.0  59.0  62.0  66.0  61.0  64.0  58.0  72.0  58.0   \n",
       "2010  66.0  75.0  87.0  82.0  71.0  60.0  56.0  59.0  55.0  65.0  74.0  44.0   \n",
       "2011  45.0  44.0  57.0  60.0  47.0  54.0  70.0  69.0  52.0  60.0  50.0  48.0   \n",
       "2012  38.0  43.0  52.0  62.0  71.0  59.0  50.0  56.0  68.0  73.0  69.0  46.0   \n",
       "2013  62.0  52.0  60.0  48.0  56.0  61.0  53.0  61.0  73.0  61.0  75.0  61.0   \n",
       "2014  68.0  44.0  71.0  72.0  79.0  62.0  50.0  74.0  81.0  78.0  64.0  74.0   \n",
       "2015  75.0  80.0  84.0  71.0   NaN   NaN   NaN   NaN   NaN   NaN   NaN   NaN   \n",
       "\n",
       "      totals  \n",
       "Year          \n",
       "1880  -520.0  \n",
       "1881  -342.0  \n",
       "1882  -414.0  \n",
       "1883  -478.0  \n",
       "1884  -666.0  \n",
       "1885  -626.0  \n",
       "1886  -606.0  \n",
       "1887  -778.0  \n",
       "...      ...  \n",
       "2008  1174.0  \n",
       "2009  1420.0  \n",
       "2010  1588.0  \n",
       "2011  1312.0  \n",
       "2012  1374.0  \n",
       "2013  1446.0  \n",
       "2014  1634.0  \n",
       "2015   620.0  \n",
       "\n",
       "[136 rows x 13 columns]"
      ]
     },
     "execution_count": 18,
     "metadata": {},
     "output_type": "execute_result"
    }
   ],
   "source": [
    "# We could also add a new column like a new entry in a dictionary\n",
    "giss_temp[\"totals\"] = giss_temp.sum(axis=1)\n",
    "giss_temp"
   ]
  },
  {
   "cell_type": "code",
   "execution_count": 19,
   "metadata": {
    "collapsed": false
   },
   "outputs": [],
   "source": [
    "# Let's remove this new column, we will learn to do this differently\n",
    "giss_temp = giss_temp.drop(\"totals\", axis=1)"
   ]
  },
  {
   "cell_type": "markdown",
   "metadata": {},
   "source": [
    "More complex queries rely on the same concepts. For example what are the names, and IDs of the sea level stations in the USA?"
   ]
  },
  {
   "cell_type": "code",
   "execution_count": 20,
   "metadata": {
    "collapsed": false
   },
   "outputs": [
    {
     "data": {
      "text/plain": [
       "Index(['Station Name', 'ID', 'Lat', 'Lon', 'GLOSS ID', 'Country', 'Date',\n",
       "       'Coastline', 'Station'],\n",
       "      dtype='object')"
      ]
     },
     "execution_count": 20,
     "metadata": {},
     "output_type": "execute_result"
    }
   ],
   "source": [
    "local_sea_level_stations.columns"
   ]
  },
  {
   "cell_type": "code",
   "execution_count": 24,
   "metadata": {
    "collapsed": false
   },
   "outputs": [
    {
     "data": {
      "text/html": [
       "<div>\n",
       "<table border=\"1\" class=\"dataframe\">\n",
       "  <thead>\n",
       "    <tr style=\"text-align: right;\">\n",
       "      <th></th>\n",
       "      <th>ID</th>\n",
       "      <th>Station Name</th>\n",
       "    </tr>\n",
       "  </thead>\n",
       "  <tbody>\n",
       "    <tr>\n",
       "      <th>1287</th>\n",
       "      <td>1372</td>\n",
       "      <td>FRENCH FRIGATE SHOALS</td>\n",
       "    </tr>\n",
       "    <tr>\n",
       "      <th>1288</th>\n",
       "      <td>2192</td>\n",
       "      <td>FRENCH FRIGATE SHOALS B</td>\n",
       "    </tr>\n",
       "    <tr>\n",
       "      <th>1289</th>\n",
       "      <td>2129</td>\n",
       "      <td>PORT ALLEN, HANAPEPE BAY, KAUAI ISLAND</td>\n",
       "    </tr>\n",
       "    <tr>\n",
       "      <th>1290</th>\n",
       "      <td>756</td>\n",
       "      <td>NAWILIWILI BAY, KAUAI ISLAND</td>\n",
       "    </tr>\n",
       "    <tr>\n",
       "      <th>1291</th>\n",
       "      <td>155</td>\n",
       "      <td>HONOLULU</td>\n",
       "    </tr>\n",
       "    <tr>\n",
       "      <th>1292</th>\n",
       "      <td>823</td>\n",
       "      <td>MOKUOLOE ISLAND</td>\n",
       "    </tr>\n",
       "    <tr>\n",
       "      <th>1293</th>\n",
       "      <td>2273</td>\n",
       "      <td>LANAI ISLAND, KAUMALAPAU</td>\n",
       "    </tr>\n",
       "    <tr>\n",
       "      <th>1294</th>\n",
       "      <td>521</td>\n",
       "      <td>KAHULUI HARBOR, MAUI ISLAND</td>\n",
       "    </tr>\n",
       "    <tr>\n",
       "      <th>...</th>\n",
       "      <td>...</td>\n",
       "      <td>...</td>\n",
       "    </tr>\n",
       "    <tr>\n",
       "      <th>1457</th>\n",
       "      <td>288</td>\n",
       "      <td>SEAVEY ISLAND</td>\n",
       "    </tr>\n",
       "    <tr>\n",
       "      <th>1458</th>\n",
       "      <td>2291</td>\n",
       "      <td>FORT POINT, NEWCASTLE ISLAND</td>\n",
       "    </tr>\n",
       "    <tr>\n",
       "      <th>1459</th>\n",
       "      <td>183</td>\n",
       "      <td>PORTLAND (MAINE)</td>\n",
       "    </tr>\n",
       "    <tr>\n",
       "      <th>1460</th>\n",
       "      <td>1279</td>\n",
       "      <td>ROCKLAND</td>\n",
       "    </tr>\n",
       "    <tr>\n",
       "      <th>1461</th>\n",
       "      <td>525</td>\n",
       "      <td>BAR HARBOR, FRENCHMAN BAY, ME</td>\n",
       "    </tr>\n",
       "    <tr>\n",
       "      <th>1462</th>\n",
       "      <td>1524</td>\n",
       "      <td>CUTLER II</td>\n",
       "    </tr>\n",
       "    <tr>\n",
       "      <th>1463</th>\n",
       "      <td>1081</td>\n",
       "      <td>CUTLER</td>\n",
       "    </tr>\n",
       "    <tr>\n",
       "      <th>1464</th>\n",
       "      <td>332</td>\n",
       "      <td>EASTPORT</td>\n",
       "    </tr>\n",
       "  </tbody>\n",
       "</table>\n",
       "<p>178 rows × 2 columns</p>\n",
       "</div>"
      ],
      "text/plain": [
       "        ID                            Station Name\n",
       "1287  1372                   FRENCH FRIGATE SHOALS\n",
       "1288  2192                 FRENCH FRIGATE SHOALS B\n",
       "1289  2129  PORT ALLEN, HANAPEPE BAY, KAUAI ISLAND\n",
       "1290   756            NAWILIWILI BAY, KAUAI ISLAND\n",
       "1291   155                                HONOLULU\n",
       "1292   823                         MOKUOLOE ISLAND\n",
       "1293  2273                LANAI ISLAND, KAUMALAPAU\n",
       "1294   521             KAHULUI HARBOR, MAUI ISLAND\n",
       "...    ...                                     ...\n",
       "1457   288                           SEAVEY ISLAND\n",
       "1458  2291            FORT POINT, NEWCASTLE ISLAND\n",
       "1459   183                        PORTLAND (MAINE)\n",
       "1460  1279                                ROCKLAND\n",
       "1461   525           BAR HARBOR, FRENCHMAN BAY, ME\n",
       "1462  1524                               CUTLER II\n",
       "1463  1081                                  CUTLER\n",
       "1464   332                                EASTPORT\n",
       "\n",
       "[178 rows x 2 columns]"
      ]
     },
     "execution_count": 24,
     "metadata": {},
     "output_type": "execute_result"
    }
   ],
   "source": [
    "american_stations = local_sea_level_stations[\"Country\"] == \"USA\"\n",
    "\n",
    "local_sea_level_stations.loc[american_stations, [\"ID\", \"Station Name\"]]"
   ]
  },
  {
   "cell_type": "markdown",
   "metadata": {},
   "source": [
    "**EXERCISE**: Print all European countries that have sea level stations. We will for now define Europe as being a country that has a station within the 30-70 latitude and a longitude in -10 to 40. You will need to combine masks using the `&` (`and`) and/or the `|` (`or`) operators, just like in Numpy.\n",
    "\n",
    "Bonus: print each country only once."
   ]
  },
  {
   "cell_type": "code",
   "execution_count": 26,
   "metadata": {
    "collapsed": false
   },
   "outputs": [
    {
     "data": {
      "text/html": [
       "<div>\n",
       "<table border=\"1\" class=\"dataframe\">\n",
       "  <thead>\n",
       "    <tr style=\"text-align: right;\">\n",
       "      <th></th>\n",
       "      <th>Station Name</th>\n",
       "      <th>ID</th>\n",
       "      <th>Lat</th>\n",
       "      <th>Lon</th>\n",
       "      <th>GLOSS ID</th>\n",
       "      <th>Country</th>\n",
       "      <th>Date</th>\n",
       "      <th>Coastline</th>\n",
       "      <th>Station</th>\n",
       "    </tr>\n",
       "  </thead>\n",
       "  <tbody>\n",
       "    <tr>\n",
       "      <th>0</th>\n",
       "      <td>HELIGMAN</td>\n",
       "      <td>231</td>\n",
       "      <td>60.200</td>\n",
       "      <td>19.300</td>\n",
       "      <td>NaN</td>\n",
       "      <td>ALA</td>\n",
       "      <td>01/01/1980</td>\n",
       "      <td>60</td>\n",
       "      <td>251</td>\n",
       "    </tr>\n",
       "    <tr>\n",
       "      <th>1</th>\n",
       "      <td>KOBBAKLINTAR</td>\n",
       "      <td>63</td>\n",
       "      <td>60.033</td>\n",
       "      <td>19.883</td>\n",
       "      <td>NaN</td>\n",
       "      <td>ALA</td>\n",
       "      <td>01/01/1980</td>\n",
       "      <td>60</td>\n",
       "      <td>261</td>\n",
       "    </tr>\n",
       "    <tr>\n",
       "      <th>2</th>\n",
       "      <td>LEMSTROM</td>\n",
       "      <td>84</td>\n",
       "      <td>60.100</td>\n",
       "      <td>20.017</td>\n",
       "      <td>NaN</td>\n",
       "      <td>ALA</td>\n",
       "      <td>01/01/1980</td>\n",
       "      <td>60</td>\n",
       "      <td>271</td>\n",
       "    </tr>\n",
       "    <tr>\n",
       "      <th>3</th>\n",
       "      <td>FOGLO / DEGERBY</td>\n",
       "      <td>249</td>\n",
       "      <td>60.032</td>\n",
       "      <td>20.385</td>\n",
       "      <td>NaN</td>\n",
       "      <td>ALA</td>\n",
       "      <td>06/10/2015</td>\n",
       "      <td>60</td>\n",
       "      <td>281</td>\n",
       "    </tr>\n",
       "    <tr>\n",
       "      <th>4</th>\n",
       "      <td>PAGO PAGO</td>\n",
       "      <td>539</td>\n",
       "      <td>-14.280</td>\n",
       "      <td>-170.690</td>\n",
       "      <td>144.0</td>\n",
       "      <td>ASM</td>\n",
       "      <td>08/03/2016</td>\n",
       "      <td>745</td>\n",
       "      <td>1</td>\n",
       "    </tr>\n",
       "  </tbody>\n",
       "</table>\n",
       "</div>"
      ],
      "text/plain": [
       "      Station Name   ID     Lat      Lon  GLOSS ID Country        Date  \\\n",
       "0         HELIGMAN  231  60.200   19.300       NaN     ALA  01/01/1980   \n",
       "1     KOBBAKLINTAR   63  60.033   19.883       NaN     ALA  01/01/1980   \n",
       "2         LEMSTROM   84  60.100   20.017       NaN     ALA  01/01/1980   \n",
       "3  FOGLO / DEGERBY  249  60.032   20.385       NaN     ALA  06/10/2015   \n",
       "4        PAGO PAGO  539 -14.280 -170.690     144.0     ASM  08/03/2016   \n",
       "\n",
       "   Coastline  Station  \n",
       "0         60      251  \n",
       "1         60      261  \n",
       "2         60      271  \n",
       "3         60      281  \n",
       "4        745        1  "
      ]
     },
     "execution_count": 26,
     "metadata": {},
     "output_type": "execute_result"
    }
   ],
   "source": [
    "local_sea_level_stations.head()"
   ]
  },
  {
   "cell_type": "code",
   "execution_count": 49,
   "metadata": {
    "collapsed": false
   },
   "outputs": [],
   "source": [
    "eu_lat_mask = (local_sea_level_stations.Lat > 30) & (local_sea_level_stations.Lat < 70)"
   ]
  },
  {
   "cell_type": "code",
   "execution_count": 50,
   "metadata": {
    "collapsed": false
   },
   "outputs": [],
   "source": [
    "eu_lon_mask = (local_sea_level_stations.Lon > -10) & (local_sea_level_stations.Lon < 40)"
   ]
  },
  {
   "cell_type": "code",
   "execution_count": 51,
   "metadata": {
    "collapsed": false
   },
   "outputs": [
    {
     "data": {
      "text/plain": [
       "array(['ALA', 'BEL', 'BGR', 'CYP', 'DEU', 'DNK', 'EGY', 'ESP', 'EST',\n",
       "       'FIN', 'FRA', 'FRO', 'GBR', 'GIB', 'GRC', 'HRV', 'IMN', 'IRL',\n",
       "       'ISR', 'ITA', 'JEY', 'LTU', 'LVA', 'MAR', 'MCO', 'MLT', 'MNE',\n",
       "       'NLD', 'NOR', 'POL', 'PRT', 'ROU', 'RUS', 'SVN', 'SWE', 'TUR', 'UKR'], dtype=object)"
      ]
     },
     "execution_count": 51,
     "metadata": {},
     "output_type": "execute_result"
    }
   ],
   "source": [
    "np.unique(local_sea_level_stations.loc[eu_lat_mask & eu_lon_mask, \"Country\"])"
   ]
  },
  {
   "cell_type": "markdown",
   "metadata": {},
   "source": [
    "## Warning: modifying a dataframe with multiple indexing"
   ]
  },
  {
   "cell_type": "code",
   "execution_count": 52,
   "metadata": {
    "collapsed": false
   },
   "outputs": [
    {
     "data": {
      "text/html": [
       "<div>\n",
       "<table border=\"1\" class=\"dataframe\">\n",
       "  <thead>\n",
       "    <tr style=\"text-align: right;\">\n",
       "      <th></th>\n",
       "      <th>Jan</th>\n",
       "      <th>Feb</th>\n",
       "      <th>Mar</th>\n",
       "      <th>Apr</th>\n",
       "      <th>May</th>\n",
       "      <th>Jun</th>\n",
       "      <th>Jul</th>\n",
       "      <th>Aug</th>\n",
       "      <th>Sep</th>\n",
       "      <th>Oct</th>\n",
       "      <th>Nov</th>\n",
       "      <th>Dec</th>\n",
       "    </tr>\n",
       "    <tr>\n",
       "      <th>Year</th>\n",
       "      <th></th>\n",
       "      <th></th>\n",
       "      <th></th>\n",
       "      <th></th>\n",
       "      <th></th>\n",
       "      <th></th>\n",
       "      <th></th>\n",
       "      <th></th>\n",
       "      <th></th>\n",
       "      <th></th>\n",
       "      <th></th>\n",
       "      <th></th>\n",
       "    </tr>\n",
       "  </thead>\n",
       "  <tbody>\n",
       "    <tr>\n",
       "      <th>1880</th>\n",
       "      <td>-34.0</td>\n",
       "      <td>-27.0</td>\n",
       "      <td>-22.0</td>\n",
       "      <td>-30.0</td>\n",
       "      <td>-16.0</td>\n",
       "      <td>-24.0</td>\n",
       "      <td>-19.0</td>\n",
       "      <td>-12.0</td>\n",
       "      <td>-20.0</td>\n",
       "      <td>-19.0</td>\n",
       "      <td>-16.0</td>\n",
       "      <td>-21.0</td>\n",
       "    </tr>\n",
       "    <tr>\n",
       "      <th>1881</th>\n",
       "      <td>-13.0</td>\n",
       "      <td>-16.0</td>\n",
       "      <td>-2.0</td>\n",
       "      <td>-3.0</td>\n",
       "      <td>-3.0</td>\n",
       "      <td>-27.0</td>\n",
       "      <td>-12.0</td>\n",
       "      <td>-8.0</td>\n",
       "      <td>-18.0</td>\n",
       "      <td>-23.0</td>\n",
       "      <td>-28.0</td>\n",
       "      <td>-18.0</td>\n",
       "    </tr>\n",
       "    <tr>\n",
       "      <th>1882</th>\n",
       "      <td>3.0</td>\n",
       "      <td>4.0</td>\n",
       "      <td>-2.0</td>\n",
       "      <td>-24.0</td>\n",
       "      <td>-20.0</td>\n",
       "      <td>-32.0</td>\n",
       "      <td>-27.0</td>\n",
       "      <td>-11.0</td>\n",
       "      <td>-11.0</td>\n",
       "      <td>-25.0</td>\n",
       "      <td>-25.0</td>\n",
       "      <td>-37.0</td>\n",
       "    </tr>\n",
       "    <tr>\n",
       "      <th>1883</th>\n",
       "      <td>-38.0</td>\n",
       "      <td>-38.0</td>\n",
       "      <td>-12.0</td>\n",
       "      <td>-20.0</td>\n",
       "      <td>-20.0</td>\n",
       "      <td>-8.0</td>\n",
       "      <td>-3.0</td>\n",
       "      <td>-13.0</td>\n",
       "      <td>-19.0</td>\n",
       "      <td>-19.0</td>\n",
       "      <td>-28.0</td>\n",
       "      <td>-21.0</td>\n",
       "    </tr>\n",
       "    <tr>\n",
       "      <th>1884</th>\n",
       "      <td>-20.0</td>\n",
       "      <td>-14.0</td>\n",
       "      <td>-31.0</td>\n",
       "      <td>-36.0</td>\n",
       "      <td>-33.0</td>\n",
       "      <td>-36.0</td>\n",
       "      <td>-31.0</td>\n",
       "      <td>-24.0</td>\n",
       "      <td>-29.0</td>\n",
       "      <td>-25.0</td>\n",
       "      <td>-29.0</td>\n",
       "      <td>-25.0</td>\n",
       "    </tr>\n",
       "    <tr>\n",
       "      <th>1885</th>\n",
       "      <td>-57.0</td>\n",
       "      <td>-29.0</td>\n",
       "      <td>-19.0</td>\n",
       "      <td>-36.0</td>\n",
       "      <td>-35.0</td>\n",
       "      <td>-40.0</td>\n",
       "      <td>-28.0</td>\n",
       "      <td>-24.0</td>\n",
       "      <td>-17.0</td>\n",
       "      <td>-14.0</td>\n",
       "      <td>-14.0</td>\n",
       "      <td>0.0</td>\n",
       "    </tr>\n",
       "    <tr>\n",
       "      <th>1886</th>\n",
       "      <td>-37.0</td>\n",
       "      <td>-43.0</td>\n",
       "      <td>-34.0</td>\n",
       "      <td>-23.0</td>\n",
       "      <td>-21.0</td>\n",
       "      <td>-30.0</td>\n",
       "      <td>-13.0</td>\n",
       "      <td>-21.0</td>\n",
       "      <td>-12.0</td>\n",
       "      <td>-22.0</td>\n",
       "      <td>-29.0</td>\n",
       "      <td>-18.0</td>\n",
       "    </tr>\n",
       "    <tr>\n",
       "      <th>1887</th>\n",
       "      <td>-60.0</td>\n",
       "      <td>-43.0</td>\n",
       "      <td>-26.0</td>\n",
       "      <td>-34.0</td>\n",
       "      <td>-28.0</td>\n",
       "      <td>-25.0</td>\n",
       "      <td>-19.0</td>\n",
       "      <td>-28.0</td>\n",
       "      <td>-24.0</td>\n",
       "      <td>-33.0</td>\n",
       "      <td>-29.0</td>\n",
       "      <td>-40.0</td>\n",
       "    </tr>\n",
       "    <tr>\n",
       "      <th>...</th>\n",
       "      <td>...</td>\n",
       "      <td>...</td>\n",
       "      <td>...</td>\n",
       "      <td>...</td>\n",
       "      <td>...</td>\n",
       "      <td>...</td>\n",
       "      <td>...</td>\n",
       "      <td>...</td>\n",
       "      <td>...</td>\n",
       "      <td>...</td>\n",
       "      <td>...</td>\n",
       "      <td>...</td>\n",
       "    </tr>\n",
       "    <tr>\n",
       "      <th>2008</th>\n",
       "      <td>22.0</td>\n",
       "      <td>31.0</td>\n",
       "      <td>70.0</td>\n",
       "      <td>48.0</td>\n",
       "      <td>46.0</td>\n",
       "      <td>43.0</td>\n",
       "      <td>54.0</td>\n",
       "      <td>39.0</td>\n",
       "      <td>59.0</td>\n",
       "      <td>62.0</td>\n",
       "      <td>62.0</td>\n",
       "      <td>51.0</td>\n",
       "    </tr>\n",
       "    <tr>\n",
       "      <th>2009</th>\n",
       "      <td>56.0</td>\n",
       "      <td>48.0</td>\n",
       "      <td>49.0</td>\n",
       "      <td>57.0</td>\n",
       "      <td>59.0</td>\n",
       "      <td>62.0</td>\n",
       "      <td>66.0</td>\n",
       "      <td>61.0</td>\n",
       "      <td>64.0</td>\n",
       "      <td>58.0</td>\n",
       "      <td>72.0</td>\n",
       "      <td>58.0</td>\n",
       "    </tr>\n",
       "    <tr>\n",
       "      <th>2010</th>\n",
       "      <td>66.0</td>\n",
       "      <td>75.0</td>\n",
       "      <td>87.0</td>\n",
       "      <td>82.0</td>\n",
       "      <td>71.0</td>\n",
       "      <td>60.0</td>\n",
       "      <td>56.0</td>\n",
       "      <td>59.0</td>\n",
       "      <td>55.0</td>\n",
       "      <td>65.0</td>\n",
       "      <td>74.0</td>\n",
       "      <td>44.0</td>\n",
       "    </tr>\n",
       "    <tr>\n",
       "      <th>2011</th>\n",
       "      <td>45.0</td>\n",
       "      <td>44.0</td>\n",
       "      <td>57.0</td>\n",
       "      <td>60.0</td>\n",
       "      <td>47.0</td>\n",
       "      <td>54.0</td>\n",
       "      <td>70.0</td>\n",
       "      <td>69.0</td>\n",
       "      <td>52.0</td>\n",
       "      <td>60.0</td>\n",
       "      <td>50.0</td>\n",
       "      <td>48.0</td>\n",
       "    </tr>\n",
       "    <tr>\n",
       "      <th>2012</th>\n",
       "      <td>38.0</td>\n",
       "      <td>43.0</td>\n",
       "      <td>52.0</td>\n",
       "      <td>62.0</td>\n",
       "      <td>71.0</td>\n",
       "      <td>59.0</td>\n",
       "      <td>50.0</td>\n",
       "      <td>56.0</td>\n",
       "      <td>68.0</td>\n",
       "      <td>73.0</td>\n",
       "      <td>69.0</td>\n",
       "      <td>46.0</td>\n",
       "    </tr>\n",
       "    <tr>\n",
       "      <th>2013</th>\n",
       "      <td>62.0</td>\n",
       "      <td>52.0</td>\n",
       "      <td>60.0</td>\n",
       "      <td>48.0</td>\n",
       "      <td>56.0</td>\n",
       "      <td>61.0</td>\n",
       "      <td>53.0</td>\n",
       "      <td>61.0</td>\n",
       "      <td>73.0</td>\n",
       "      <td>61.0</td>\n",
       "      <td>75.0</td>\n",
       "      <td>61.0</td>\n",
       "    </tr>\n",
       "    <tr>\n",
       "      <th>2014</th>\n",
       "      <td>68.0</td>\n",
       "      <td>44.0</td>\n",
       "      <td>71.0</td>\n",
       "      <td>72.0</td>\n",
       "      <td>79.0</td>\n",
       "      <td>62.0</td>\n",
       "      <td>50.0</td>\n",
       "      <td>74.0</td>\n",
       "      <td>81.0</td>\n",
       "      <td>78.0</td>\n",
       "      <td>64.0</td>\n",
       "      <td>74.0</td>\n",
       "    </tr>\n",
       "    <tr>\n",
       "      <th>2015</th>\n",
       "      <td>75.0</td>\n",
       "      <td>80.0</td>\n",
       "      <td>84.0</td>\n",
       "      <td>71.0</td>\n",
       "      <td>NaN</td>\n",
       "      <td>NaN</td>\n",
       "      <td>NaN</td>\n",
       "      <td>NaN</td>\n",
       "      <td>NaN</td>\n",
       "      <td>NaN</td>\n",
       "      <td>NaN</td>\n",
       "      <td>NaN</td>\n",
       "    </tr>\n",
       "  </tbody>\n",
       "</table>\n",
       "<p>136 rows × 12 columns</p>\n",
       "</div>"
      ],
      "text/plain": [
       "       Jan   Feb   Mar   Apr   May   Jun   Jul   Aug   Sep   Oct   Nov   Dec\n",
       "Year                                                                        \n",
       "1880 -34.0 -27.0 -22.0 -30.0 -16.0 -24.0 -19.0 -12.0 -20.0 -19.0 -16.0 -21.0\n",
       "1881 -13.0 -16.0  -2.0  -3.0  -3.0 -27.0 -12.0  -8.0 -18.0 -23.0 -28.0 -18.0\n",
       "1882   3.0   4.0  -2.0 -24.0 -20.0 -32.0 -27.0 -11.0 -11.0 -25.0 -25.0 -37.0\n",
       "1883 -38.0 -38.0 -12.0 -20.0 -20.0  -8.0  -3.0 -13.0 -19.0 -19.0 -28.0 -21.0\n",
       "1884 -20.0 -14.0 -31.0 -36.0 -33.0 -36.0 -31.0 -24.0 -29.0 -25.0 -29.0 -25.0\n",
       "1885 -57.0 -29.0 -19.0 -36.0 -35.0 -40.0 -28.0 -24.0 -17.0 -14.0 -14.0   0.0\n",
       "1886 -37.0 -43.0 -34.0 -23.0 -21.0 -30.0 -13.0 -21.0 -12.0 -22.0 -29.0 -18.0\n",
       "1887 -60.0 -43.0 -26.0 -34.0 -28.0 -25.0 -19.0 -28.0 -24.0 -33.0 -29.0 -40.0\n",
       "...    ...   ...   ...   ...   ...   ...   ...   ...   ...   ...   ...   ...\n",
       "2008  22.0  31.0  70.0  48.0  46.0  43.0  54.0  39.0  59.0  62.0  62.0  51.0\n",
       "2009  56.0  48.0  49.0  57.0  59.0  62.0  66.0  61.0  64.0  58.0  72.0  58.0\n",
       "2010  66.0  75.0  87.0  82.0  71.0  60.0  56.0  59.0  55.0  65.0  74.0  44.0\n",
       "2011  45.0  44.0  57.0  60.0  47.0  54.0  70.0  69.0  52.0  60.0  50.0  48.0\n",
       "2012  38.0  43.0  52.0  62.0  71.0  59.0  50.0  56.0  68.0  73.0  69.0  46.0\n",
       "2013  62.0  52.0  60.0  48.0  56.0  61.0  53.0  61.0  73.0  61.0  75.0  61.0\n",
       "2014  68.0  44.0  71.0  72.0  79.0  62.0  50.0  74.0  81.0  78.0  64.0  74.0\n",
       "2015  75.0  80.0  84.0  71.0   NaN   NaN   NaN   NaN   NaN   NaN   NaN   NaN\n",
       "\n",
       "[136 rows x 12 columns]"
      ]
     },
     "execution_count": 52,
     "metadata": {},
     "output_type": "execute_result"
    }
   ],
   "source": [
    "giss_temp"
   ]
  },
  {
   "cell_type": "code",
   "execution_count": 56,
   "metadata": {
    "collapsed": false
   },
   "outputs": [
    {
     "name": "stdout",
     "output_type": "stream",
     "text": [
      "<class 'pandas.core.series.Series'>\n",
      "<class 'pandas.core.frame.DataFrame'>\n"
     ]
    }
   ],
   "source": [
    "print(type(giss_temp['Jan']))\n",
    "print(type(giss_temp[['Jan']]))"
   ]
  },
  {
   "cell_type": "code",
   "execution_count": 57,
   "metadata": {
    "collapsed": false
   },
   "outputs": [
    {
     "data": {
      "text/plain": [
       "Year\n",
       "1880   -34.0\n",
       "1881   -13.0\n",
       "1882     3.0\n",
       "1883   -38.0\n",
       "1884   -20.0\n",
       "1885   -57.0\n",
       "1886   -37.0\n",
       "1887   -60.0\n",
       "        ... \n",
       "2008    22.0\n",
       "2009    56.0\n",
       "2010    66.0\n",
       "2011    45.0\n",
       "2012    38.0\n",
       "2013    62.0\n",
       "2014    68.0\n",
       "2015    75.0\n",
       "Name: Jan, dtype: float32"
      ]
     },
     "execution_count": 57,
     "metadata": {},
     "output_type": "execute_result"
    }
   ],
   "source": [
    "giss_temp['Jan']"
   ]
  },
  {
   "cell_type": "code",
   "execution_count": 58,
   "metadata": {
    "collapsed": false
   },
   "outputs": [
    {
     "data": {
      "text/html": [
       "<div>\n",
       "<table border=\"1\" class=\"dataframe\">\n",
       "  <thead>\n",
       "    <tr style=\"text-align: right;\">\n",
       "      <th></th>\n",
       "      <th>Jan</th>\n",
       "    </tr>\n",
       "    <tr>\n",
       "      <th>Year</th>\n",
       "      <th></th>\n",
       "    </tr>\n",
       "  </thead>\n",
       "  <tbody>\n",
       "    <tr>\n",
       "      <th>1880</th>\n",
       "      <td>-34.0</td>\n",
       "    </tr>\n",
       "    <tr>\n",
       "      <th>1881</th>\n",
       "      <td>-13.0</td>\n",
       "    </tr>\n",
       "    <tr>\n",
       "      <th>1882</th>\n",
       "      <td>3.0</td>\n",
       "    </tr>\n",
       "    <tr>\n",
       "      <th>1883</th>\n",
       "      <td>-38.0</td>\n",
       "    </tr>\n",
       "    <tr>\n",
       "      <th>1884</th>\n",
       "      <td>-20.0</td>\n",
       "    </tr>\n",
       "    <tr>\n",
       "      <th>1885</th>\n",
       "      <td>-57.0</td>\n",
       "    </tr>\n",
       "    <tr>\n",
       "      <th>1886</th>\n",
       "      <td>-37.0</td>\n",
       "    </tr>\n",
       "    <tr>\n",
       "      <th>1887</th>\n",
       "      <td>-60.0</td>\n",
       "    </tr>\n",
       "    <tr>\n",
       "      <th>...</th>\n",
       "      <td>...</td>\n",
       "    </tr>\n",
       "    <tr>\n",
       "      <th>2008</th>\n",
       "      <td>22.0</td>\n",
       "    </tr>\n",
       "    <tr>\n",
       "      <th>2009</th>\n",
       "      <td>56.0</td>\n",
       "    </tr>\n",
       "    <tr>\n",
       "      <th>2010</th>\n",
       "      <td>66.0</td>\n",
       "    </tr>\n",
       "    <tr>\n",
       "      <th>2011</th>\n",
       "      <td>45.0</td>\n",
       "    </tr>\n",
       "    <tr>\n",
       "      <th>2012</th>\n",
       "      <td>38.0</td>\n",
       "    </tr>\n",
       "    <tr>\n",
       "      <th>2013</th>\n",
       "      <td>62.0</td>\n",
       "    </tr>\n",
       "    <tr>\n",
       "      <th>2014</th>\n",
       "      <td>68.0</td>\n",
       "    </tr>\n",
       "    <tr>\n",
       "      <th>2015</th>\n",
       "      <td>75.0</td>\n",
       "    </tr>\n",
       "  </tbody>\n",
       "</table>\n",
       "<p>136 rows × 1 columns</p>\n",
       "</div>"
      ],
      "text/plain": [
       "       Jan\n",
       "Year      \n",
       "1880 -34.0\n",
       "1881 -13.0\n",
       "1882   3.0\n",
       "1883 -38.0\n",
       "1884 -20.0\n",
       "1885 -57.0\n",
       "1886 -37.0\n",
       "1887 -60.0\n",
       "...    ...\n",
       "2008  22.0\n",
       "2009  56.0\n",
       "2010  66.0\n",
       "2011  45.0\n",
       "2012  38.0\n",
       "2013  62.0\n",
       "2014  68.0\n",
       "2015  75.0\n",
       "\n",
       "[136 rows x 1 columns]"
      ]
     },
     "execution_count": 58,
     "metadata": {},
     "output_type": "execute_result"
    }
   ],
   "source": [
    "giss_temp[['Jan']]"
   ]
  },
  {
   "cell_type": "code",
   "execution_count": null,
   "metadata": {
    "collapsed": false
   },
   "outputs": [],
   "source": [
    "# This works right now, but this is dangerous:\n",
    "#giss_temp['Jan'][1880] = -33.9"
   ]
  },
  {
   "cell_type": "code",
   "execution_count": null,
   "metadata": {
    "collapsed": false
   },
   "outputs": [],
   "source": [
    "#giss_temp"
   ]
  },
  {
   "cell_type": "code",
   "execution_count": null,
   "metadata": {
    "collapsed": true
   },
   "outputs": [],
   "source": [
    "# This is the safe way to do it:\n",
    "#giss_temp.loc[1880, 'Jan'] = -33.9"
   ]
  },
  {
   "cell_type": "markdown",
   "metadata": {},
   "source": [
    "## 6. Working with dates and times"
   ]
  },
  {
   "cell_type": "markdown",
   "metadata": {},
   "source": [
    "More details at http://pandas.pydata.org/pandas-docs/stable/timeseries.html"
   ]
  },
  {
   "cell_type": "markdown",
   "metadata": {},
   "source": [
    "Let's work some more with `full_globe_temp`'s index since we saw it is special."
   ]
  },
  {
   "cell_type": "code",
   "execution_count": 59,
   "metadata": {
    "collapsed": false
   },
   "outputs": [
    {
     "data": {
      "text/plain": [
       "dtype('<M8[ns]')"
      ]
     },
     "execution_count": 59,
     "metadata": {},
     "output_type": "execute_result"
    }
   ],
   "source": [
    "# Its dtype is NumPy's new 'datetime64[ns]':\n",
    "full_globe_temp.index.dtype"
   ]
  },
  {
   "cell_type": "markdown",
   "metadata": {},
   "source": [
    "The advantage of having a real datetime index is that operations can be done efficiently on it. Let's add a flag to signal if the value is before or after the great depression's black Friday:"
   ]
  },
  {
   "cell_type": "code",
   "execution_count": 60,
   "metadata": {
    "collapsed": false
   },
   "outputs": [
    {
     "data": {
      "text/plain": [
       "array([False, False, False, False, False, False, False, False, False,\n",
       "       False, False, False, False, False, False, False, False, False,\n",
       "       False, False, False, False, False, False, False, False, False,\n",
       "       False, False, False, False, False, False, False, False, False,\n",
       "       False, False, False, False, False, False, False, False, False,\n",
       "       False, False, False, False, False,  True,  True,  True,  True,\n",
       "        True,  True,  True,  True,  True,  True,  True,  True,  True,\n",
       "        True,  True,  True,  True,  True,  True,  True,  True,  True,\n",
       "        True,  True,  True,  True,  True,  True,  True,  True,  True,\n",
       "        True,  True,  True,  True,  True,  True,  True,  True,  True,\n",
       "        True,  True,  True,  True,  True,  True,  True,  True,  True,\n",
       "        True,  True,  True,  True,  True,  True,  True,  True,  True,\n",
       "        True,  True,  True,  True,  True,  True,  True,  True,  True,\n",
       "        True,  True,  True,  True,  True,  True,  True,  True,  True,\n",
       "        True,  True,  True,  True,  True,  True], dtype=bool)"
      ]
     },
     "execution_count": 60,
     "metadata": {},
     "output_type": "execute_result"
    }
   ],
   "source": [
    "black_friday = pd.to_datetime('1929-10-29')\n",
    "full_globe_temp.index > black_friday"
   ]
  },
  {
   "cell_type": "markdown",
   "metadata": {},
   "source": [
    "### Timestamps or periods?"
   ]
  },
  {
   "cell_type": "code",
   "execution_count": 61,
   "metadata": {
    "collapsed": false
   },
   "outputs": [
    {
     "data": {
      "text/plain": [
       "year\n",
       "1880   -0.1591\n",
       "1881   -0.0789\n",
       "1882   -0.1313\n",
       "1883   -0.1675\n",
       "1884   -0.2485\n",
       "1885   -0.2042\n",
       "1886   -0.1695\n",
       "1887   -0.2505\n",
       "         ...  \n",
       "2004    0.5416\n",
       "2005    0.6154\n",
       "2006    0.5601\n",
       "2007    0.5472\n",
       "2008    0.4804\n",
       "2009    0.5551\n",
       "2010       NaN\n",
       "2011       NaN\n",
       "Freq: A-DEC, Name: mean temp, dtype: float64"
      ]
     },
     "execution_count": 61,
     "metadata": {},
     "output_type": "execute_result"
    }
   ],
   "source": [
    "# Convert its index from timestamp to period: it is more meaningfull since it was measured and averaged over the year...\n",
    "full_globe_temp.index = full_globe_temp.index.to_period()\n",
    "full_globe_temp"
   ]
  },
  {
   "cell_type": "markdown",
   "metadata": {},
   "source": [
    "See also `to_timestamp` to conver back to timestamps and its `how` method to specify when inside the range to set the timestamp."
   ]
  },
  {
   "cell_type": "markdown",
   "metadata": {},
   "source": [
    "### Resampling"
   ]
  },
  {
   "cell_type": "markdown",
   "metadata": {},
   "source": [
    "Another thing that can be done is to resample the series, downsample or upsample. Let's see the series converted to 10 year blocks or upscale to a monthly series:"
   ]
  },
  {
   "cell_type": "code",
   "execution_count": 62,
   "metadata": {
    "collapsed": false
   },
   "outputs": [
    {
     "data": {
      "text/plain": [
       "year\n",
       "1880-01   -0.1591\n",
       "1880-02       NaN\n",
       "1880-03       NaN\n",
       "1880-04       NaN\n",
       "1880-05       NaN\n",
       "1880-06       NaN\n",
       "1880-07       NaN\n",
       "1880-08       NaN\n",
       "            ...  \n",
       "2011-05       NaN\n",
       "2011-06       NaN\n",
       "2011-07       NaN\n",
       "2011-08       NaN\n",
       "2011-09       NaN\n",
       "2011-10       NaN\n",
       "2011-11       NaN\n",
       "2011-12       NaN\n",
       "Freq: M, Name: mean temp, dtype: float64"
      ]
     },
     "execution_count": 62,
     "metadata": {},
     "output_type": "execute_result"
    }
   ],
   "source": [
    "# Frequencies can be specified as strings: \"us\", \"ms\", \"S\", \"T\", \"H\", \"D\", \"B\", \"W\", \"M\", \"A\", \"3min\", \"2h20\", ...\n",
    "# More aliases at http://pandas.pydata.org/pandas-docs/stable/timeseries.html#offset-aliases\n",
    "full_globe_temp.resample(\"M\").mean()"
   ]
  },
  {
   "cell_type": "code",
   "execution_count": 63,
   "metadata": {
    "collapsed": false
   },
   "outputs": [
    {
     "data": {
      "text/plain": [
       "year\n",
       "1880-12-31   -0.15910\n",
       "1890-12-31   -0.18226\n",
       "1900-12-31   -0.21054\n",
       "1910-12-31   -0.31381\n",
       "1920-12-31   -0.25518\n",
       "1930-12-31   -0.13395\n",
       "1940-12-31    0.00786\n",
       "1950-12-31    0.04548\n",
       "1960-12-31   -0.00198\n",
       "1970-12-31    0.02566\n",
       "1980-12-31    0.04817\n",
       "1990-12-31    0.21491\n",
       "2000-12-31    0.36288\n",
       "2010-12-31    0.55260\n",
       "2020-12-31        NaN\n",
       "Freq: 10A-DEC, Name: mean temp, dtype: float64"
      ]
     },
     "execution_count": 63,
     "metadata": {},
     "output_type": "execute_result"
    }
   ],
   "source": [
    "full_globe_temp.resample(\"10A\").mean()"
   ]
  },
  {
   "cell_type": "markdown",
   "metadata": {},
   "source": [
    "### Generating DatetimeIndex objects"
   ]
  },
  {
   "cell_type": "markdown",
   "metadata": {},
   "source": [
    "The index for `giss_temp` isn't an instance of datetimes so we may want to generate such `DatetimeIndex` objects. This can be done with `date_range` and `period_range`:"
   ]
  },
  {
   "cell_type": "code",
   "execution_count": 64,
   "metadata": {
    "collapsed": false
   },
   "outputs": [
    {
     "data": {
      "text/plain": [
       "DatetimeIndex(['1880-01-01', '1880-01-02', '1880-01-03', '1880-01-04'], dtype='datetime64[ns]', freq='D')"
      ]
     },
     "execution_count": 64,
     "metadata": {},
     "output_type": "execute_result"
    }
   ],
   "source": [
    "# Can specify a start date and a number of values desired. By default it will assume an interval of 1 day:\n",
    "pd.date_range('1/1/1880', periods=4)"
   ]
  },
  {
   "cell_type": "code",
   "execution_count": 65,
   "metadata": {
    "collapsed": false
   },
   "outputs": [
    {
     "data": {
      "text/plain": [
       "DatetimeIndex(['1880-12-31', '1881-12-31', '1882-12-31', '1883-12-31',\n",
       "               '1884-12-31', '1885-12-31', '1886-12-31', '1887-12-31',\n",
       "               '1888-12-31', '1889-12-31',\n",
       "               ...\n",
       "               '2006-12-31', '2007-12-31', '2008-12-31', '2009-12-31',\n",
       "               '2010-12-31', '2011-12-31', '2012-12-31', '2013-12-31',\n",
       "               '2014-12-31', '2015-12-31'],\n",
       "              dtype='datetime64[ns]', length=136, freq='A-DEC')"
      ]
     },
     "execution_count": 65,
     "metadata": {},
     "output_type": "execute_result"
    }
   ],
   "source": [
    "# Can also specify a start and a stop date, as well as a frequency\n",
    "pd.date_range('1/1/1880', '1/1/2016', freq=\"A\")"
   ]
  },
  {
   "cell_type": "markdown",
   "metadata": {},
   "source": [
    "Note that `\"A\"` by default means the end of the year. Other times in the year can be specified with `\"AS\"` (start), `\"A-JAN\"` or `\"A-JUN\"`. Even more options can be imported from `pandas.tseries.offsets`:"
   ]
  },
  {
   "cell_type": "code",
   "execution_count": 66,
   "metadata": {
    "collapsed": false
   },
   "outputs": [
    {
     "data": {
      "text/plain": [
       "DatetimeIndex(['1880-01-01', '1881-01-01', '1882-01-01', '1883-01-01',\n",
       "               '1884-01-01', '1885-01-01', '1886-01-01', '1887-01-01',\n",
       "               '1888-01-01', '1889-01-01',\n",
       "               ...\n",
       "               '2006-01-01', '2007-01-01', '2008-01-01', '2009-01-01',\n",
       "               '2010-01-01', '2011-01-01', '2012-01-01', '2013-01-01',\n",
       "               '2014-01-01', '2015-01-01'],\n",
       "              dtype='datetime64[ns]', length=136, freq='AS-JAN')"
      ]
     },
     "execution_count": 66,
     "metadata": {},
     "output_type": "execute_result"
    }
   ],
   "source": [
    "from pandas.tseries.offsets import YearBegin\n",
    "pd.date_range('1/1/1880', '1/1/2015', freq=YearBegin())"
   ]
  },
  {
   "cell_type": "markdown",
   "metadata": {},
   "source": [
    "Actually we will convert that dataset to a 1D dataset, and build a monthly index, so lets build a monthly period index"
   ]
  },
  {
   "cell_type": "code",
   "execution_count": 67,
   "metadata": {
    "collapsed": false
   },
   "outputs": [
    {
     "data": {
      "text/plain": [
       "PeriodIndex(['1880-01', '1880-02', '1880-03', '1880-04', '1880-05', '1880-06',\n",
       "             '1880-07', '1880-08', '1880-09', '1880-10',\n",
       "             ...\n",
       "             '2015-03', '2015-04', '2015-05', '2015-06', '2015-07', '2015-08',\n",
       "             '2015-09', '2015-10', '2015-11', '2015-12'],\n",
       "            dtype='int64', length=1632, freq='M')"
      ]
     },
     "execution_count": 67,
     "metadata": {},
     "output_type": "execute_result"
    }
   ],
   "source": [
    "giss_temp_index = pd.period_range('1/1/1880', '12/1/2015', freq=\"M\")\n",
    "giss_temp_index"
   ]
  },
  {
   "cell_type": "markdown",
   "metadata": {},
   "source": [
    "## 7. Transforming datasets: apply, sort, stack/unstack and transpose"
   ]
  },
  {
   "cell_type": "markdown",
   "metadata": {},
   "source": [
    "Let's look at our `local_sea_level_stations` dataset some more, to learn more about it and also do some formatting. What is the range of dates and lattitudes we have, the list of countries, the range of variations, ..."
   ]
  },
  {
   "cell_type": "code",
   "execution_count": 70,
   "metadata": {
    "collapsed": false
   },
   "outputs": [
    {
     "name": "stdout",
     "output_type": "stream",
     "text": [
      "01/01/1980 31/07/2014 01/02/2016\n"
     ]
    }
   ],
   "source": [
    "# What about the range of dates?\n",
    "print(\n",
    "    local_sea_level_stations[\"Date\"].min(),\n",
    "    local_sea_level_stations[\"Date\"].max(),\n",
    "    local_sea_level_stations[\"Date\"].iloc[-1]\n",
    ")"
   ]
  },
  {
   "cell_type": "code",
   "execution_count": 71,
   "metadata": {
    "collapsed": false
   },
   "outputs": [
    {
     "data": {
      "text/plain": [
       "Station Name     object\n",
       "ID                int64\n",
       "Lat             float64\n",
       "Lon             float64\n",
       "GLOSS ID        float64\n",
       "Country          object\n",
       "Date             object\n",
       "Coastline         int64\n",
       "Station           int64\n",
       "dtype: object"
      ]
     },
     "execution_count": 71,
     "metadata": {},
     "output_type": "execute_result"
    }
   ],
   "source": [
    "local_sea_level_stations.dtypes"
   ]
  },
  {
   "cell_type": "markdown",
   "metadata": {},
   "source": [
    "### Apply: transforming Series"
   ]
  },
  {
   "cell_type": "markdown",
   "metadata": {},
   "source": [
    "We don't see the range of dates because the dates are of dtype \"Object\", (usually meaning strings). Let's convert that using `apply`:"
   ]
  },
  {
   "cell_type": "code",
   "execution_count": 72,
   "metadata": {
    "collapsed": false
   },
   "outputs": [
    {
     "data": {
      "text/plain": [
       "0      1980-01-01\n",
       "1      1980-01-01\n",
       "2      1980-01-01\n",
       "3      2015-06-10\n",
       "4      2016-08-03\n",
       "5      1999-11-05\n",
       "6      2015-05-21\n",
       "7      2004-09-30\n",
       "          ...    \n",
       "1478   2015-11-17\n",
       "1479   2015-11-17\n",
       "1480   2015-11-17\n",
       "1481   2016-08-03\n",
       "1482   2016-08-03\n",
       "1483   2016-09-03\n",
       "1484   2016-09-03\n",
       "1485   2016-01-02\n",
       "Name: Date, dtype: datetime64[ns]"
      ]
     },
     "execution_count": 72,
     "metadata": {},
     "output_type": "execute_result"
    }
   ],
   "source": [
    "local_sea_level_stations[\"Date\"].apply(pd.to_datetime)"
   ]
  },
  {
   "cell_type": "markdown",
   "metadata": {},
   "source": [
    "This `apply` method is very powerful and general. We have used it to do something we could have done with `astype`, but any custom function can be provided to `apply`."
   ]
  },
  {
   "cell_type": "code",
   "execution_count": 73,
   "metadata": {
    "collapsed": false
   },
   "outputs": [
    {
     "name": "stdout",
     "output_type": "stream",
     "text": [
      "1980-01-01 00:00:00 2016-12-13 00:00:00\n"
     ]
    }
   ],
   "source": [
    "local_sea_level_stations[\"Date\"] = local_sea_level_stations[\"Date\"].apply(pd.to_datetime)\n",
    "\n",
    "# Now we can really compare the dates, and therefore get a real range:\n",
    "print(local_sea_level_stations[\"Date\"].min(), local_sea_level_stations[\"Date\"].max())"
   ]
  },
  {
   "cell_type": "markdown",
   "metadata": {},
   "source": [
    "**EXERCISE:** Use the `apply` method to search through the stations names for a station in New York. What is the ID of the station?"
   ]
  },
  {
   "cell_type": "code",
   "execution_count": null,
   "metadata": {
    "collapsed": false
   },
   "outputs": [],
   "source": [
    "# Your code here"
   ]
  },
  {
   "cell_type": "markdown",
   "metadata": {},
   "source": [
    "Now that we know the range of dates, to look at the data, sorting it following the dates is done with `sort`:"
   ]
  },
  {
   "cell_type": "code",
   "execution_count": 74,
   "metadata": {
    "collapsed": false
   },
   "outputs": [
    {
     "data": {
      "text/html": [
       "<div>\n",
       "<table border=\"1\" class=\"dataframe\">\n",
       "  <thead>\n",
       "    <tr style=\"text-align: right;\">\n",
       "      <th></th>\n",
       "      <th>Station Name</th>\n",
       "      <th>ID</th>\n",
       "      <th>Lat</th>\n",
       "      <th>Lon</th>\n",
       "      <th>GLOSS ID</th>\n",
       "      <th>Country</th>\n",
       "      <th>Date</th>\n",
       "      <th>Coastline</th>\n",
       "      <th>Station</th>\n",
       "    </tr>\n",
       "  </thead>\n",
       "  <tbody>\n",
       "    <tr>\n",
       "      <th>0</th>\n",
       "      <td>HELIGMAN</td>\n",
       "      <td>231</td>\n",
       "      <td>60.200</td>\n",
       "      <td>19.300</td>\n",
       "      <td>NaN</td>\n",
       "      <td>ALA</td>\n",
       "      <td>1980-01-01</td>\n",
       "      <td>60</td>\n",
       "      <td>251</td>\n",
       "    </tr>\n",
       "    <tr>\n",
       "      <th>151</th>\n",
       "      <td>BELLA COOLA</td>\n",
       "      <td>1084</td>\n",
       "      <td>52.367</td>\n",
       "      <td>-126.783</td>\n",
       "      <td>NaN</td>\n",
       "      <td>CAN</td>\n",
       "      <td>1980-01-01</td>\n",
       "      <td>822</td>\n",
       "      <td>13</td>\n",
       "    </tr>\n",
       "    <tr>\n",
       "      <th>633</th>\n",
       "      <td>KURE III</td>\n",
       "      <td>1023</td>\n",
       "      <td>34.233</td>\n",
       "      <td>132.550</td>\n",
       "      <td>NaN</td>\n",
       "      <td>JPN</td>\n",
       "      <td>1980-01-01</td>\n",
       "      <td>643</td>\n",
       "      <td>42</td>\n",
       "    </tr>\n",
       "    <tr>\n",
       "      <th>632</th>\n",
       "      <td>KURE II</td>\n",
       "      <td>749</td>\n",
       "      <td>34.233</td>\n",
       "      <td>132.533</td>\n",
       "      <td>NaN</td>\n",
       "      <td>JPN</td>\n",
       "      <td>1980-01-01</td>\n",
       "      <td>643</td>\n",
       "      <td>41</td>\n",
       "    </tr>\n",
       "    <tr>\n",
       "      <th>154</th>\n",
       "      <td>ALERT BAY</td>\n",
       "      <td>554</td>\n",
       "      <td>50.583</td>\n",
       "      <td>-126.950</td>\n",
       "      <td>NaN</td>\n",
       "      <td>CAN</td>\n",
       "      <td>1980-01-01</td>\n",
       "      <td>822</td>\n",
       "      <td>21</td>\n",
       "    </tr>\n",
       "    <tr>\n",
       "      <th>619</th>\n",
       "      <td>TOBA</td>\n",
       "      <td>627</td>\n",
       "      <td>34.467</td>\n",
       "      <td>136.850</td>\n",
       "      <td>NaN</td>\n",
       "      <td>JPN</td>\n",
       "      <td>1980-01-01</td>\n",
       "      <td>642</td>\n",
       "      <td>134</td>\n",
       "    </tr>\n",
       "    <tr>\n",
       "      <th>156</th>\n",
       "      <td>COMOX</td>\n",
       "      <td>630</td>\n",
       "      <td>49.667</td>\n",
       "      <td>-124.917</td>\n",
       "      <td>NaN</td>\n",
       "      <td>CAN</td>\n",
       "      <td>1980-01-01</td>\n",
       "      <td>822</td>\n",
       "      <td>31</td>\n",
       "    </tr>\n",
       "    <tr>\n",
       "      <th>607</th>\n",
       "      <td>ITO I</td>\n",
       "      <td>876</td>\n",
       "      <td>34.967</td>\n",
       "      <td>139.117</td>\n",
       "      <td>NaN</td>\n",
       "      <td>JPN</td>\n",
       "      <td>1980-01-01</td>\n",
       "      <td>642</td>\n",
       "      <td>111</td>\n",
       "    </tr>\n",
       "    <tr>\n",
       "      <th>...</th>\n",
       "      <td>...</td>\n",
       "      <td>...</td>\n",
       "      <td>...</td>\n",
       "      <td>...</td>\n",
       "      <td>...</td>\n",
       "      <td>...</td>\n",
       "      <td>...</td>\n",
       "      <td>...</td>\n",
       "      <td>...</td>\n",
       "    </tr>\n",
       "    <tr>\n",
       "      <th>251</th>\n",
       "      <td>PUNTA ARENAS II</td>\n",
       "      <td>2263</td>\n",
       "      <td>-53.124</td>\n",
       "      <td>-70.860</td>\n",
       "      <td>NaN</td>\n",
       "      <td>CHL</td>\n",
       "      <td>2016-12-10</td>\n",
       "      <td>850</td>\n",
       "      <td>62</td>\n",
       "    </tr>\n",
       "    <tr>\n",
       "      <th>244</th>\n",
       "      <td>JUAN FERNANDEZ-C</td>\n",
       "      <td>1644</td>\n",
       "      <td>-33.636</td>\n",
       "      <td>-78.830</td>\n",
       "      <td>176.0</td>\n",
       "      <td>CHL</td>\n",
       "      <td>2016-12-10</td>\n",
       "      <td>850</td>\n",
       "      <td>39</td>\n",
       "    </tr>\n",
       "    <tr>\n",
       "      <th>243</th>\n",
       "      <td>VALPARAISO</td>\n",
       "      <td>499</td>\n",
       "      <td>-33.027</td>\n",
       "      <td>-71.626</td>\n",
       "      <td>175.0</td>\n",
       "      <td>CHL</td>\n",
       "      <td>2016-12-10</td>\n",
       "      <td>850</td>\n",
       "      <td>31</td>\n",
       "    </tr>\n",
       "    <tr>\n",
       "      <th>241</th>\n",
       "      <td>SAN FELIX</td>\n",
       "      <td>1751</td>\n",
       "      <td>-26.292</td>\n",
       "      <td>-80.109</td>\n",
       "      <td>177.0</td>\n",
       "      <td>CHL</td>\n",
       "      <td>2016-12-10</td>\n",
       "      <td>850</td>\n",
       "      <td>16</td>\n",
       "    </tr>\n",
       "    <tr>\n",
       "      <th>247</th>\n",
       "      <td>CORRAL II</td>\n",
       "      <td>2262</td>\n",
       "      <td>-39.878</td>\n",
       "      <td>-73.423</td>\n",
       "      <td>NaN</td>\n",
       "      <td>CHL</td>\n",
       "      <td>2016-12-10</td>\n",
       "      <td>850</td>\n",
       "      <td>48</td>\n",
       "    </tr>\n",
       "    <tr>\n",
       "      <th>240</th>\n",
       "      <td>ANTOFAGASTA 2</td>\n",
       "      <td>510</td>\n",
       "      <td>-23.653</td>\n",
       "      <td>-70.404</td>\n",
       "      <td>174.0</td>\n",
       "      <td>CHL</td>\n",
       "      <td>2016-12-10</td>\n",
       "      <td>850</td>\n",
       "      <td>12</td>\n",
       "    </tr>\n",
       "    <tr>\n",
       "      <th>248</th>\n",
       "      <td>ANCUD</td>\n",
       "      <td>2264</td>\n",
       "      <td>-41.867</td>\n",
       "      <td>-73.832</td>\n",
       "      <td>NaN</td>\n",
       "      <td>CHL</td>\n",
       "      <td>2016-12-10</td>\n",
       "      <td>850</td>\n",
       "      <td>53</td>\n",
       "    </tr>\n",
       "    <tr>\n",
       "      <th>914</th>\n",
       "      <td>SAN JOSE</td>\n",
       "      <td>1711</td>\n",
       "      <td>12.333</td>\n",
       "      <td>121.083</td>\n",
       "      <td>NaN</td>\n",
       "      <td>PHL</td>\n",
       "      <td>2016-12-13</td>\n",
       "      <td>660</td>\n",
       "      <td>2</td>\n",
       "    </tr>\n",
       "  </tbody>\n",
       "</table>\n",
       "<p>1486 rows × 9 columns</p>\n",
       "</div>"
      ],
      "text/plain": [
       "         Station Name    ID     Lat      Lon  GLOSS ID Country       Date  \\\n",
       "0            HELIGMAN   231  60.200   19.300       NaN     ALA 1980-01-01   \n",
       "151       BELLA COOLA  1084  52.367 -126.783       NaN     CAN 1980-01-01   \n",
       "633          KURE III  1023  34.233  132.550       NaN     JPN 1980-01-01   \n",
       "632           KURE II   749  34.233  132.533       NaN     JPN 1980-01-01   \n",
       "154         ALERT BAY   554  50.583 -126.950       NaN     CAN 1980-01-01   \n",
       "619              TOBA   627  34.467  136.850       NaN     JPN 1980-01-01   \n",
       "156             COMOX   630  49.667 -124.917       NaN     CAN 1980-01-01   \n",
       "607             ITO I   876  34.967  139.117       NaN     JPN 1980-01-01   \n",
       "..                ...   ...     ...      ...       ...     ...        ...   \n",
       "251   PUNTA ARENAS II  2263 -53.124  -70.860       NaN     CHL 2016-12-10   \n",
       "244  JUAN FERNANDEZ-C  1644 -33.636  -78.830     176.0     CHL 2016-12-10   \n",
       "243        VALPARAISO   499 -33.027  -71.626     175.0     CHL 2016-12-10   \n",
       "241         SAN FELIX  1751 -26.292  -80.109     177.0     CHL 2016-12-10   \n",
       "247         CORRAL II  2262 -39.878  -73.423       NaN     CHL 2016-12-10   \n",
       "240     ANTOFAGASTA 2   510 -23.653  -70.404     174.0     CHL 2016-12-10   \n",
       "248             ANCUD  2264 -41.867  -73.832       NaN     CHL 2016-12-10   \n",
       "914          SAN JOSE  1711  12.333  121.083       NaN     PHL 2016-12-13   \n",
       "\n",
       "     Coastline  Station  \n",
       "0           60      251  \n",
       "151        822       13  \n",
       "633        643       42  \n",
       "632        643       41  \n",
       "154        822       21  \n",
       "619        642      134  \n",
       "156        822       31  \n",
       "607        642      111  \n",
       "..         ...      ...  \n",
       "251        850       62  \n",
       "244        850       39  \n",
       "243        850       31  \n",
       "241        850       16  \n",
       "247        850       48  \n",
       "240        850       12  \n",
       "248        850       53  \n",
       "914        660        2  \n",
       "\n",
       "[1486 rows x 9 columns]"
      ]
     },
     "execution_count": 74,
     "metadata": {},
     "output_type": "execute_result"
    }
   ],
   "source": [
    "local_sea_level_stations.sort_values(by=\"Date\")"
   ]
  },
  {
   "cell_type": "markdown",
   "metadata": {},
   "source": [
    "Since many stations last updated on the same dates, it is logical to want to sort further, for example, by `Country` at constant date:"
   ]
  },
  {
   "cell_type": "code",
   "execution_count": 75,
   "metadata": {
    "collapsed": false
   },
   "outputs": [
    {
     "data": {
      "text/html": [
       "<div>\n",
       "<table border=\"1\" class=\"dataframe\">\n",
       "  <thead>\n",
       "    <tr style=\"text-align: right;\">\n",
       "      <th></th>\n",
       "      <th>Station Name</th>\n",
       "      <th>ID</th>\n",
       "      <th>Lat</th>\n",
       "      <th>Lon</th>\n",
       "      <th>GLOSS ID</th>\n",
       "      <th>Country</th>\n",
       "      <th>Date</th>\n",
       "      <th>Coastline</th>\n",
       "      <th>Station</th>\n",
       "    </tr>\n",
       "  </thead>\n",
       "  <tbody>\n",
       "    <tr>\n",
       "      <th>914</th>\n",
       "      <td>SAN JOSE</td>\n",
       "      <td>1711</td>\n",
       "      <td>12.333</td>\n",
       "      <td>121.083</td>\n",
       "      <td>NaN</td>\n",
       "      <td>PHL</td>\n",
       "      <td>2016-12-13</td>\n",
       "      <td>660</td>\n",
       "      <td>2</td>\n",
       "    </tr>\n",
       "    <tr>\n",
       "      <th>238</th>\n",
       "      <td>IQUIQUE II</td>\n",
       "      <td>2261</td>\n",
       "      <td>-20.204</td>\n",
       "      <td>-70.148</td>\n",
       "      <td>NaN</td>\n",
       "      <td>CHL</td>\n",
       "      <td>2016-12-10</td>\n",
       "      <td>850</td>\n",
       "      <td>7</td>\n",
       "    </tr>\n",
       "    <tr>\n",
       "      <th>240</th>\n",
       "      <td>ANTOFAGASTA 2</td>\n",
       "      <td>510</td>\n",
       "      <td>-23.653</td>\n",
       "      <td>-70.404</td>\n",
       "      <td>174.0</td>\n",
       "      <td>CHL</td>\n",
       "      <td>2016-12-10</td>\n",
       "      <td>850</td>\n",
       "      <td>12</td>\n",
       "    </tr>\n",
       "    <tr>\n",
       "      <th>241</th>\n",
       "      <td>SAN FELIX</td>\n",
       "      <td>1751</td>\n",
       "      <td>-26.292</td>\n",
       "      <td>-80.109</td>\n",
       "      <td>177.0</td>\n",
       "      <td>CHL</td>\n",
       "      <td>2016-12-10</td>\n",
       "      <td>850</td>\n",
       "      <td>16</td>\n",
       "    </tr>\n",
       "    <tr>\n",
       "      <th>243</th>\n",
       "      <td>VALPARAISO</td>\n",
       "      <td>499</td>\n",
       "      <td>-33.027</td>\n",
       "      <td>-71.626</td>\n",
       "      <td>175.0</td>\n",
       "      <td>CHL</td>\n",
       "      <td>2016-12-10</td>\n",
       "      <td>850</td>\n",
       "      <td>31</td>\n",
       "    </tr>\n",
       "    <tr>\n",
       "      <th>244</th>\n",
       "      <td>JUAN FERNANDEZ-C</td>\n",
       "      <td>1644</td>\n",
       "      <td>-33.636</td>\n",
       "      <td>-78.830</td>\n",
       "      <td>176.0</td>\n",
       "      <td>CHL</td>\n",
       "      <td>2016-12-10</td>\n",
       "      <td>850</td>\n",
       "      <td>39</td>\n",
       "    </tr>\n",
       "    <tr>\n",
       "      <th>247</th>\n",
       "      <td>CORRAL II</td>\n",
       "      <td>2262</td>\n",
       "      <td>-39.878</td>\n",
       "      <td>-73.423</td>\n",
       "      <td>NaN</td>\n",
       "      <td>CHL</td>\n",
       "      <td>2016-12-10</td>\n",
       "      <td>850</td>\n",
       "      <td>48</td>\n",
       "    </tr>\n",
       "    <tr>\n",
       "      <th>248</th>\n",
       "      <td>ANCUD</td>\n",
       "      <td>2264</td>\n",
       "      <td>-41.867</td>\n",
       "      <td>-73.832</td>\n",
       "      <td>NaN</td>\n",
       "      <td>CHL</td>\n",
       "      <td>2016-12-10</td>\n",
       "      <td>850</td>\n",
       "      <td>53</td>\n",
       "    </tr>\n",
       "    <tr>\n",
       "      <th>...</th>\n",
       "      <td>...</td>\n",
       "      <td>...</td>\n",
       "      <td>...</td>\n",
       "      <td>...</td>\n",
       "      <td>...</td>\n",
       "      <td>...</td>\n",
       "      <td>...</td>\n",
       "      <td>...</td>\n",
       "      <td>...</td>\n",
       "    </tr>\n",
       "    <tr>\n",
       "      <th>17</th>\n",
       "      <td>PIRAMIDE</td>\n",
       "      <td>867</td>\n",
       "      <td>-42.583</td>\n",
       "      <td>-64.283</td>\n",
       "      <td>NaN</td>\n",
       "      <td>ARG</td>\n",
       "      <td>1980-01-01</td>\n",
       "      <td>860</td>\n",
       "      <td>41</td>\n",
       "    </tr>\n",
       "    <tr>\n",
       "      <th>18</th>\n",
       "      <td>ROSALES</td>\n",
       "      <td>870</td>\n",
       "      <td>-38.933</td>\n",
       "      <td>-62.067</td>\n",
       "      <td>NaN</td>\n",
       "      <td>ARG</td>\n",
       "      <td>1980-01-01</td>\n",
       "      <td>860</td>\n",
       "      <td>61</td>\n",
       "    </tr>\n",
       "    <tr>\n",
       "      <th>20</th>\n",
       "      <td>MAR DEL PLATA (PUERTO)</td>\n",
       "      <td>857</td>\n",
       "      <td>-38.033</td>\n",
       "      <td>-57.533</td>\n",
       "      <td>192.0</td>\n",
       "      <td>ARG</td>\n",
       "      <td>1980-01-01</td>\n",
       "      <td>860</td>\n",
       "      <td>91</td>\n",
       "    </tr>\n",
       "    <tr>\n",
       "      <th>23</th>\n",
       "      <td>RIO SANTIAGO</td>\n",
       "      <td>897</td>\n",
       "      <td>-34.850</td>\n",
       "      <td>-57.900</td>\n",
       "      <td>NaN</td>\n",
       "      <td>ARG</td>\n",
       "      <td>1980-01-01</td>\n",
       "      <td>860</td>\n",
       "      <td>141</td>\n",
       "    </tr>\n",
       "    <tr>\n",
       "      <th>26</th>\n",
       "      <td>ISLA MARTIN GARCIA</td>\n",
       "      <td>864</td>\n",
       "      <td>-34.183</td>\n",
       "      <td>-58.250</td>\n",
       "      <td>NaN</td>\n",
       "      <td>ARG</td>\n",
       "      <td>1980-01-01</td>\n",
       "      <td>860</td>\n",
       "      <td>171</td>\n",
       "    </tr>\n",
       "    <tr>\n",
       "      <th>0</th>\n",
       "      <td>HELIGMAN</td>\n",
       "      <td>231</td>\n",
       "      <td>60.200</td>\n",
       "      <td>19.300</td>\n",
       "      <td>NaN</td>\n",
       "      <td>ALA</td>\n",
       "      <td>1980-01-01</td>\n",
       "      <td>60</td>\n",
       "      <td>251</td>\n",
       "    </tr>\n",
       "    <tr>\n",
       "      <th>1</th>\n",
       "      <td>KOBBAKLINTAR</td>\n",
       "      <td>63</td>\n",
       "      <td>60.033</td>\n",
       "      <td>19.883</td>\n",
       "      <td>NaN</td>\n",
       "      <td>ALA</td>\n",
       "      <td>1980-01-01</td>\n",
       "      <td>60</td>\n",
       "      <td>261</td>\n",
       "    </tr>\n",
       "    <tr>\n",
       "      <th>2</th>\n",
       "      <td>LEMSTROM</td>\n",
       "      <td>84</td>\n",
       "      <td>60.100</td>\n",
       "      <td>20.017</td>\n",
       "      <td>NaN</td>\n",
       "      <td>ALA</td>\n",
       "      <td>1980-01-01</td>\n",
       "      <td>60</td>\n",
       "      <td>271</td>\n",
       "    </tr>\n",
       "  </tbody>\n",
       "</table>\n",
       "<p>1486 rows × 9 columns</p>\n",
       "</div>"
      ],
      "text/plain": [
       "               Station Name    ID     Lat      Lon  GLOSS ID Country  \\\n",
       "914                SAN JOSE  1711  12.333  121.083       NaN     PHL   \n",
       "238              IQUIQUE II  2261 -20.204  -70.148       NaN     CHL   \n",
       "240           ANTOFAGASTA 2   510 -23.653  -70.404     174.0     CHL   \n",
       "241               SAN FELIX  1751 -26.292  -80.109     177.0     CHL   \n",
       "243              VALPARAISO   499 -33.027  -71.626     175.0     CHL   \n",
       "244        JUAN FERNANDEZ-C  1644 -33.636  -78.830     176.0     CHL   \n",
       "247               CORRAL II  2262 -39.878  -73.423       NaN     CHL   \n",
       "248                   ANCUD  2264 -41.867  -73.832       NaN     CHL   \n",
       "..                      ...   ...     ...      ...       ...     ...   \n",
       "17                 PIRAMIDE   867 -42.583  -64.283       NaN     ARG   \n",
       "18                  ROSALES   870 -38.933  -62.067       NaN     ARG   \n",
       "20   MAR DEL PLATA (PUERTO)   857 -38.033  -57.533     192.0     ARG   \n",
       "23             RIO SANTIAGO   897 -34.850  -57.900       NaN     ARG   \n",
       "26       ISLA MARTIN GARCIA   864 -34.183  -58.250       NaN     ARG   \n",
       "0                  HELIGMAN   231  60.200   19.300       NaN     ALA   \n",
       "1              KOBBAKLINTAR    63  60.033   19.883       NaN     ALA   \n",
       "2                  LEMSTROM    84  60.100   20.017       NaN     ALA   \n",
       "\n",
       "          Date  Coastline  Station  \n",
       "914 2016-12-13        660        2  \n",
       "238 2016-12-10        850        7  \n",
       "240 2016-12-10        850       12  \n",
       "241 2016-12-10        850       16  \n",
       "243 2016-12-10        850       31  \n",
       "244 2016-12-10        850       39  \n",
       "247 2016-12-10        850       48  \n",
       "248 2016-12-10        850       53  \n",
       "..         ...        ...      ...  \n",
       "17  1980-01-01        860       41  \n",
       "18  1980-01-01        860       61  \n",
       "20  1980-01-01        860       91  \n",
       "23  1980-01-01        860      141  \n",
       "26  1980-01-01        860      171  \n",
       "0   1980-01-01         60      251  \n",
       "1   1980-01-01         60      261  \n",
       "2   1980-01-01         60      271  \n",
       "\n",
       "[1486 rows x 9 columns]"
      ]
     },
     "execution_count": 75,
     "metadata": {},
     "output_type": "execute_result"
    }
   ],
   "source": [
    "local_sea_level_stations.sort_values(by=[\"Date\", \"Country\"], ascending=False)"
   ]
  },
  {
   "cell_type": "markdown",
   "metadata": {},
   "source": [
    "### Stack and unstack"
   ]
  },
  {
   "cell_type": "markdown",
   "metadata": {},
   "source": [
    "Let's look at the GISS dataset differently. Instead of seeing the months along the axis 1, and the years along the axis 0, it would could be good to convert these into an outer and an inner axis along only 1 time dimension.\n",
    "\n",
    "Stacking and unstacking allows to convert a dataframe into a series and vice-versa:"
   ]
  },
  {
   "cell_type": "code",
   "execution_count": 76,
   "metadata": {
    "collapsed": false
   },
   "outputs": [],
   "source": [
    "giss_temp.unstack?"
   ]
  },
  {
   "cell_type": "code",
   "execution_count": 77,
   "metadata": {
    "collapsed": false
   },
   "outputs": [
    {
     "data": {
      "text/plain": [
       "     Year\n",
       "Jan  1880   -34.0\n",
       "     1881   -13.0\n",
       "     1882     3.0\n",
       "     1883   -38.0\n",
       "     1884   -20.0\n",
       "     1885   -57.0\n",
       "     1886   -37.0\n",
       "     1887   -60.0\n",
       "             ... \n",
       "Dec  2008    51.0\n",
       "     2009    58.0\n",
       "     2010    44.0\n",
       "     2011    48.0\n",
       "     2012    46.0\n",
       "     2013    61.0\n",
       "     2014    74.0\n",
       "     2015     NaN\n",
       "dtype: float32"
      ]
     },
     "execution_count": 77,
     "metadata": {},
     "output_type": "execute_result"
    }
   ],
   "source": [
    "unstacked = giss_temp.unstack()\n",
    "unstacked"
   ]
  },
  {
   "cell_type": "code",
   "execution_count": 78,
   "metadata": {
    "collapsed": false
   },
   "outputs": [
    {
     "data": {
      "text/plain": [
       "pandas.core.series.Series"
      ]
     },
     "execution_count": 78,
     "metadata": {},
     "output_type": "execute_result"
    }
   ],
   "source": [
    "# Note the nature of the result:\n",
    "type(unstacked)"
   ]
  },
  {
   "cell_type": "markdown",
   "metadata": {},
   "source": [
    "The result is grouped in the wrong order since it sorts first the axis that was unstacked. Another transformation that would help us is transposing..."
   ]
  },
  {
   "cell_type": "code",
   "execution_count": 79,
   "metadata": {
    "collapsed": false
   },
   "outputs": [
    {
     "data": {
      "text/html": [
       "<div>\n",
       "<table border=\"1\" class=\"dataframe\">\n",
       "  <thead>\n",
       "    <tr style=\"text-align: right;\">\n",
       "      <th>Year</th>\n",
       "      <th>1880</th>\n",
       "      <th>1881</th>\n",
       "      <th>1882</th>\n",
       "      <th>1883</th>\n",
       "      <th>1884</th>\n",
       "      <th>1885</th>\n",
       "      <th>1886</th>\n",
       "      <th>1887</th>\n",
       "      <th>1888</th>\n",
       "      <th>1889</th>\n",
       "      <th>...</th>\n",
       "      <th>2006</th>\n",
       "      <th>2007</th>\n",
       "      <th>2008</th>\n",
       "      <th>2009</th>\n",
       "      <th>2010</th>\n",
       "      <th>2011</th>\n",
       "      <th>2012</th>\n",
       "      <th>2013</th>\n",
       "      <th>2014</th>\n",
       "      <th>2015</th>\n",
       "    </tr>\n",
       "  </thead>\n",
       "  <tbody>\n",
       "    <tr>\n",
       "      <th>Jan</th>\n",
       "      <td>-34.0</td>\n",
       "      <td>-13.0</td>\n",
       "      <td>3.0</td>\n",
       "      <td>-38.0</td>\n",
       "      <td>-20.0</td>\n",
       "      <td>-57.0</td>\n",
       "      <td>-37.0</td>\n",
       "      <td>-60.0</td>\n",
       "      <td>-43.0</td>\n",
       "      <td>-18.0</td>\n",
       "      <td>...</td>\n",
       "      <td>52.0</td>\n",
       "      <td>93.0</td>\n",
       "      <td>22.0</td>\n",
       "      <td>56.0</td>\n",
       "      <td>66.0</td>\n",
       "      <td>45.0</td>\n",
       "      <td>38.0</td>\n",
       "      <td>62.0</td>\n",
       "      <td>68.0</td>\n",
       "      <td>75.0</td>\n",
       "    </tr>\n",
       "    <tr>\n",
       "      <th>Feb</th>\n",
       "      <td>-27.0</td>\n",
       "      <td>-16.0</td>\n",
       "      <td>4.0</td>\n",
       "      <td>-38.0</td>\n",
       "      <td>-14.0</td>\n",
       "      <td>-29.0</td>\n",
       "      <td>-43.0</td>\n",
       "      <td>-43.0</td>\n",
       "      <td>-41.0</td>\n",
       "      <td>16.0</td>\n",
       "      <td>...</td>\n",
       "      <td>65.0</td>\n",
       "      <td>65.0</td>\n",
       "      <td>31.0</td>\n",
       "      <td>48.0</td>\n",
       "      <td>75.0</td>\n",
       "      <td>44.0</td>\n",
       "      <td>43.0</td>\n",
       "      <td>52.0</td>\n",
       "      <td>44.0</td>\n",
       "      <td>80.0</td>\n",
       "    </tr>\n",
       "    <tr>\n",
       "      <th>Mar</th>\n",
       "      <td>-22.0</td>\n",
       "      <td>-2.0</td>\n",
       "      <td>-2.0</td>\n",
       "      <td>-12.0</td>\n",
       "      <td>-31.0</td>\n",
       "      <td>-19.0</td>\n",
       "      <td>-34.0</td>\n",
       "      <td>-26.0</td>\n",
       "      <td>-39.0</td>\n",
       "      <td>6.0</td>\n",
       "      <td>...</td>\n",
       "      <td>59.0</td>\n",
       "      <td>67.0</td>\n",
       "      <td>70.0</td>\n",
       "      <td>49.0</td>\n",
       "      <td>87.0</td>\n",
       "      <td>57.0</td>\n",
       "      <td>52.0</td>\n",
       "      <td>60.0</td>\n",
       "      <td>71.0</td>\n",
       "      <td>84.0</td>\n",
       "    </tr>\n",
       "    <tr>\n",
       "      <th>Apr</th>\n",
       "      <td>-30.0</td>\n",
       "      <td>-3.0</td>\n",
       "      <td>-24.0</td>\n",
       "      <td>-20.0</td>\n",
       "      <td>-36.0</td>\n",
       "      <td>-36.0</td>\n",
       "      <td>-23.0</td>\n",
       "      <td>-34.0</td>\n",
       "      <td>-25.0</td>\n",
       "      <td>7.0</td>\n",
       "      <td>...</td>\n",
       "      <td>45.0</td>\n",
       "      <td>71.0</td>\n",
       "      <td>48.0</td>\n",
       "      <td>57.0</td>\n",
       "      <td>82.0</td>\n",
       "      <td>60.0</td>\n",
       "      <td>62.0</td>\n",
       "      <td>48.0</td>\n",
       "      <td>72.0</td>\n",
       "      <td>71.0</td>\n",
       "    </tr>\n",
       "    <tr>\n",
       "      <th>May</th>\n",
       "      <td>-16.0</td>\n",
       "      <td>-3.0</td>\n",
       "      <td>-20.0</td>\n",
       "      <td>-20.0</td>\n",
       "      <td>-33.0</td>\n",
       "      <td>-35.0</td>\n",
       "      <td>-21.0</td>\n",
       "      <td>-28.0</td>\n",
       "      <td>-26.0</td>\n",
       "      <td>-1.0</td>\n",
       "      <td>...</td>\n",
       "      <td>43.0</td>\n",
       "      <td>64.0</td>\n",
       "      <td>46.0</td>\n",
       "      <td>59.0</td>\n",
       "      <td>71.0</td>\n",
       "      <td>47.0</td>\n",
       "      <td>71.0</td>\n",
       "      <td>56.0</td>\n",
       "      <td>79.0</td>\n",
       "      <td>NaN</td>\n",
       "    </tr>\n",
       "    <tr>\n",
       "      <th>Jun</th>\n",
       "      <td>-24.0</td>\n",
       "      <td>-27.0</td>\n",
       "      <td>-32.0</td>\n",
       "      <td>-8.0</td>\n",
       "      <td>-36.0</td>\n",
       "      <td>-40.0</td>\n",
       "      <td>-30.0</td>\n",
       "      <td>-25.0</td>\n",
       "      <td>-20.0</td>\n",
       "      <td>-10.0</td>\n",
       "      <td>...</td>\n",
       "      <td>60.0</td>\n",
       "      <td>55.0</td>\n",
       "      <td>43.0</td>\n",
       "      <td>62.0</td>\n",
       "      <td>60.0</td>\n",
       "      <td>54.0</td>\n",
       "      <td>59.0</td>\n",
       "      <td>61.0</td>\n",
       "      <td>62.0</td>\n",
       "      <td>NaN</td>\n",
       "    </tr>\n",
       "    <tr>\n",
       "      <th>Jul</th>\n",
       "      <td>-19.0</td>\n",
       "      <td>-12.0</td>\n",
       "      <td>-27.0</td>\n",
       "      <td>-3.0</td>\n",
       "      <td>-31.0</td>\n",
       "      <td>-28.0</td>\n",
       "      <td>-13.0</td>\n",
       "      <td>-19.0</td>\n",
       "      <td>-11.0</td>\n",
       "      <td>-13.0</td>\n",
       "      <td>...</td>\n",
       "      <td>50.0</td>\n",
       "      <td>58.0</td>\n",
       "      <td>54.0</td>\n",
       "      <td>66.0</td>\n",
       "      <td>56.0</td>\n",
       "      <td>70.0</td>\n",
       "      <td>50.0</td>\n",
       "      <td>53.0</td>\n",
       "      <td>50.0</td>\n",
       "      <td>NaN</td>\n",
       "    </tr>\n",
       "    <tr>\n",
       "      <th>Aug</th>\n",
       "      <td>-12.0</td>\n",
       "      <td>-8.0</td>\n",
       "      <td>-11.0</td>\n",
       "      <td>-13.0</td>\n",
       "      <td>-24.0</td>\n",
       "      <td>-24.0</td>\n",
       "      <td>-21.0</td>\n",
       "      <td>-28.0</td>\n",
       "      <td>-13.0</td>\n",
       "      <td>-18.0</td>\n",
       "      <td>...</td>\n",
       "      <td>66.0</td>\n",
       "      <td>57.0</td>\n",
       "      <td>39.0</td>\n",
       "      <td>61.0</td>\n",
       "      <td>59.0</td>\n",
       "      <td>69.0</td>\n",
       "      <td>56.0</td>\n",
       "      <td>61.0</td>\n",
       "      <td>74.0</td>\n",
       "      <td>NaN</td>\n",
       "    </tr>\n",
       "    <tr>\n",
       "      <th>Sep</th>\n",
       "      <td>-20.0</td>\n",
       "      <td>-18.0</td>\n",
       "      <td>-11.0</td>\n",
       "      <td>-19.0</td>\n",
       "      <td>-29.0</td>\n",
       "      <td>-17.0</td>\n",
       "      <td>-12.0</td>\n",
       "      <td>-24.0</td>\n",
       "      <td>-10.0</td>\n",
       "      <td>-18.0</td>\n",
       "      <td>...</td>\n",
       "      <td>59.0</td>\n",
       "      <td>61.0</td>\n",
       "      <td>59.0</td>\n",
       "      <td>64.0</td>\n",
       "      <td>55.0</td>\n",
       "      <td>52.0</td>\n",
       "      <td>68.0</td>\n",
       "      <td>73.0</td>\n",
       "      <td>81.0</td>\n",
       "      <td>NaN</td>\n",
       "    </tr>\n",
       "    <tr>\n",
       "      <th>Oct</th>\n",
       "      <td>-19.0</td>\n",
       "      <td>-23.0</td>\n",
       "      <td>-25.0</td>\n",
       "      <td>-19.0</td>\n",
       "      <td>-25.0</td>\n",
       "      <td>-14.0</td>\n",
       "      <td>-22.0</td>\n",
       "      <td>-33.0</td>\n",
       "      <td>-3.0</td>\n",
       "      <td>-21.0</td>\n",
       "      <td>...</td>\n",
       "      <td>66.0</td>\n",
       "      <td>56.0</td>\n",
       "      <td>62.0</td>\n",
       "      <td>58.0</td>\n",
       "      <td>65.0</td>\n",
       "      <td>60.0</td>\n",
       "      <td>73.0</td>\n",
       "      <td>61.0</td>\n",
       "      <td>78.0</td>\n",
       "      <td>NaN</td>\n",
       "    </tr>\n",
       "    <tr>\n",
       "      <th>Nov</th>\n",
       "      <td>-16.0</td>\n",
       "      <td>-28.0</td>\n",
       "      <td>-25.0</td>\n",
       "      <td>-28.0</td>\n",
       "      <td>-29.0</td>\n",
       "      <td>-14.0</td>\n",
       "      <td>-29.0</td>\n",
       "      <td>-29.0</td>\n",
       "      <td>-1.0</td>\n",
       "      <td>-32.0</td>\n",
       "      <td>...</td>\n",
       "      <td>69.0</td>\n",
       "      <td>54.0</td>\n",
       "      <td>62.0</td>\n",
       "      <td>72.0</td>\n",
       "      <td>74.0</td>\n",
       "      <td>50.0</td>\n",
       "      <td>69.0</td>\n",
       "      <td>75.0</td>\n",
       "      <td>64.0</td>\n",
       "      <td>NaN</td>\n",
       "    </tr>\n",
       "    <tr>\n",
       "      <th>Dec</th>\n",
       "      <td>-21.0</td>\n",
       "      <td>-18.0</td>\n",
       "      <td>-37.0</td>\n",
       "      <td>-21.0</td>\n",
       "      <td>-25.0</td>\n",
       "      <td>0.0</td>\n",
       "      <td>-18.0</td>\n",
       "      <td>-40.0</td>\n",
       "      <td>-10.0</td>\n",
       "      <td>-30.0</td>\n",
       "      <td>...</td>\n",
       "      <td>74.0</td>\n",
       "      <td>46.0</td>\n",
       "      <td>51.0</td>\n",
       "      <td>58.0</td>\n",
       "      <td>44.0</td>\n",
       "      <td>48.0</td>\n",
       "      <td>46.0</td>\n",
       "      <td>61.0</td>\n",
       "      <td>74.0</td>\n",
       "      <td>NaN</td>\n",
       "    </tr>\n",
       "  </tbody>\n",
       "</table>\n",
       "<p>12 rows × 136 columns</p>\n",
       "</div>"
      ],
      "text/plain": [
       "Year  1880  1881  1882  1883  1884  1885  1886  1887  1888  1889  ...   2006  \\\n",
       "Jan  -34.0 -13.0   3.0 -38.0 -20.0 -57.0 -37.0 -60.0 -43.0 -18.0  ...   52.0   \n",
       "Feb  -27.0 -16.0   4.0 -38.0 -14.0 -29.0 -43.0 -43.0 -41.0  16.0  ...   65.0   \n",
       "Mar  -22.0  -2.0  -2.0 -12.0 -31.0 -19.0 -34.0 -26.0 -39.0   6.0  ...   59.0   \n",
       "Apr  -30.0  -3.0 -24.0 -20.0 -36.0 -36.0 -23.0 -34.0 -25.0   7.0  ...   45.0   \n",
       "May  -16.0  -3.0 -20.0 -20.0 -33.0 -35.0 -21.0 -28.0 -26.0  -1.0  ...   43.0   \n",
       "Jun  -24.0 -27.0 -32.0  -8.0 -36.0 -40.0 -30.0 -25.0 -20.0 -10.0  ...   60.0   \n",
       "Jul  -19.0 -12.0 -27.0  -3.0 -31.0 -28.0 -13.0 -19.0 -11.0 -13.0  ...   50.0   \n",
       "Aug  -12.0  -8.0 -11.0 -13.0 -24.0 -24.0 -21.0 -28.0 -13.0 -18.0  ...   66.0   \n",
       "Sep  -20.0 -18.0 -11.0 -19.0 -29.0 -17.0 -12.0 -24.0 -10.0 -18.0  ...   59.0   \n",
       "Oct  -19.0 -23.0 -25.0 -19.0 -25.0 -14.0 -22.0 -33.0  -3.0 -21.0  ...   66.0   \n",
       "Nov  -16.0 -28.0 -25.0 -28.0 -29.0 -14.0 -29.0 -29.0  -1.0 -32.0  ...   69.0   \n",
       "Dec  -21.0 -18.0 -37.0 -21.0 -25.0   0.0 -18.0 -40.0 -10.0 -30.0  ...   74.0   \n",
       "\n",
       "Year  2007  2008  2009  2010  2011  2012  2013  2014  2015  \n",
       "Jan   93.0  22.0  56.0  66.0  45.0  38.0  62.0  68.0  75.0  \n",
       "Feb   65.0  31.0  48.0  75.0  44.0  43.0  52.0  44.0  80.0  \n",
       "Mar   67.0  70.0  49.0  87.0  57.0  52.0  60.0  71.0  84.0  \n",
       "Apr   71.0  48.0  57.0  82.0  60.0  62.0  48.0  72.0  71.0  \n",
       "May   64.0  46.0  59.0  71.0  47.0  71.0  56.0  79.0   NaN  \n",
       "Jun   55.0  43.0  62.0  60.0  54.0  59.0  61.0  62.0   NaN  \n",
       "Jul   58.0  54.0  66.0  56.0  70.0  50.0  53.0  50.0   NaN  \n",
       "Aug   57.0  39.0  61.0  59.0  69.0  56.0  61.0  74.0   NaN  \n",
       "Sep   61.0  59.0  64.0  55.0  52.0  68.0  73.0  81.0   NaN  \n",
       "Oct   56.0  62.0  58.0  65.0  60.0  73.0  61.0  78.0   NaN  \n",
       "Nov   54.0  62.0  72.0  74.0  50.0  69.0  75.0  64.0   NaN  \n",
       "Dec   46.0  51.0  58.0  44.0  48.0  46.0  61.0  74.0   NaN  \n",
       "\n",
       "[12 rows x 136 columns]"
      ]
     },
     "execution_count": 79,
     "metadata": {},
     "output_type": "execute_result"
    }
   ],
   "source": [
    "giss_temp.transpose()"
   ]
  },
  {
   "cell_type": "code",
   "execution_count": 80,
   "metadata": {
    "collapsed": false
   },
   "outputs": [
    {
     "data": {
      "text/plain": [
       "Year     \n",
       "1880  Jan   -34.0\n",
       "      Feb   -27.0\n",
       "      Mar   -22.0\n",
       "      Apr   -30.0\n",
       "      May   -16.0\n",
       "      Jun   -24.0\n",
       "      Jul   -19.0\n",
       "      Aug   -12.0\n",
       "             ... \n",
       "2015  May     NaN\n",
       "      Jun     NaN\n",
       "      Jul     NaN\n",
       "      Aug     NaN\n",
       "      Sep     NaN\n",
       "      Oct     NaN\n",
       "      Nov     NaN\n",
       "      Dec     NaN\n",
       "Name: Temp anomaly, dtype: float32"
      ]
     },
     "execution_count": 80,
     "metadata": {},
     "output_type": "execute_result"
    }
   ],
   "source": [
    "giss_temp_series = giss_temp.transpose().unstack()\n",
    "giss_temp_series.name = \"Temp anomaly\"\n",
    "giss_temp_series"
   ]
  },
  {
   "cell_type": "markdown",
   "metadata": {},
   "source": [
    "### A side note: Multi-indexes"
   ]
  },
  {
   "cell_type": "code",
   "execution_count": 81,
   "metadata": {
    "collapsed": false
   },
   "outputs": [
    {
     "data": {
      "text/plain": [
       "MultiIndex(levels=[[1880, 1881, 1882, 1883, 1884, 1885, 1886, 1887, 1888, 1889, 1890, 1891, 1892, 1893, 1894, 1895, 1896, 1897, 1898, 1899, 1900, 1901, 1902, 1903, 1904, 1905, 1906, 1907, 1908, 1909, 1910, 1911, 1912, 1913, 1914, 1915, 1916, 1917, 1918, 1919, 1920, 1921, 1922, 1923, 1924, 1925, 1926, 1927, 1928, 1929, 1930, 1931, 1932, 1933, 1934, 1935, 1936, 1937, 1938, 1939, 1940, 1941, 1942, 1943, 1944, 1945, 1946, 1947, 1948, 1949, 1950, 1951, 1952, 1953, 1954, 1955, 1956, 1957, 1958, 1959, 1960, 1961, 1962, 1963, 1964, 1965, 1966, 1967, 1968, 1969, 1970, 1971, 1972, 1973, 1974, 1975, 1976, 1977, 1978, 1979, 1980, 1981, 1982, 1983, 1984, 1985, 1986, 1987, 1988, 1989, 1990, 1991, 1992, 1993, 1994, 1995, 1996, 1997, 1998, 1999, 2000, 2001, 2002, 2003, 2004, 2005, 2006, 2007, 2008, 2009, 2010, 2011, 2012, 2013, 2014, 2015], ['Jan', 'Feb', 'Mar', 'Apr', 'May', 'Jun', 'Jul', 'Aug', 'Sep', 'Oct', 'Nov', 'Dec']],\n",
       "           labels=[[0, 0, 0, 0, 0, 0, 0, 0, 0, 0, 0, 0, 1, 1, 1, 1, 1, 1, 1, 1, 1, 1, 1, 1, 2, 2, 2, 2, 2, 2, 2, 2, 2, 2, 2, 2, 3, 3, 3, 3, 3, 3, 3, 3, 3, 3, 3, 3, 4, 4, 4, 4, 4, 4, 4, 4, 4, 4, 4, 4, 5, 5, 5, 5, 5, 5, 5, 5, 5, 5, 5, 5, 6, 6, 6, 6, 6, 6, 6, 6, 6, 6, 6, 6, 7, 7, 7, 7, 7, 7, 7, 7, 7, 7, 7, 7, 8, 8, 8, 8, 8, 8, 8, 8, 8, 8, 8, 8, 9, 9, 9, 9, 9, 9, 9, 9, 9, 9, 9, 9, 10, 10, 10, 10, 10, 10, 10, 10, 10, 10, 10, 10, 11, 11, 11, 11, 11, 11, 11, 11, 11, 11, 11, 11, 12, 12, 12, 12, 12, 12, 12, 12, 12, 12, 12, 12, 13, 13, 13, 13, 13, 13, 13, 13, 13, 13, 13, 13, 14, 14, 14, 14, 14, 14, 14, 14, 14, 14, 14, 14, 15, 15, 15, 15, 15, 15, 15, 15, 15, 15, 15, 15, 16, 16, 16, 16, 16, 16, 16, 16, 16, 16, 16, 16, 17, 17, 17, 17, 17, 17, 17, 17, 17, 17, 17, 17, 18, 18, 18, 18, 18, 18, 18, 18, 18, 18, 18, 18, 19, 19, 19, 19, 19, 19, 19, 19, 19, 19, 19, 19, 20, 20, 20, 20, 20, 20, 20, 20, 20, 20, 20, 20, 21, 21, 21, 21, 21, 21, 21, 21, 21, 21, 21, 21, 22, 22, 22, 22, 22, 22, 22, 22, 22, 22, 22, 22, 23, 23, 23, 23, 23, 23, 23, 23, 23, 23, 23, 23, 24, 24, 24, 24, 24, 24, 24, 24, 24, 24, 24, 24, 25, 25, 25, 25, 25, 25, 25, 25, 25, 25, 25, 25, 26, 26, 26, 26, 26, 26, 26, 26, 26, 26, 26, 26, 27, 27, 27, 27, 27, 27, 27, 27, 27, 27, 27, 27, 28, 28, 28, 28, 28, 28, 28, 28, 28, 28, 28, 28, 29, 29, 29, 29, 29, 29, 29, 29, 29, 29, 29, 29, 30, 30, 30, 30, 30, 30, 30, 30, 30, 30, 30, 30, 31, 31, 31, 31, 31, 31, 31, 31, 31, 31, 31, 31, 32, 32, 32, 32, 32, 32, 32, 32, 32, 32, 32, 32, 33, 33, 33, 33, 33, 33, 33, 33, 33, 33, 33, 33, 34, 34, 34, 34, 34, 34, 34, 34, 34, 34, 34, 34, 35, 35, 35, 35, 35, 35, 35, 35, 35, 35, 35, 35, 36, 36, 36, 36, 36, 36, 36, 36, 36, 36, 36, 36, 37, 37, 37, 37, 37, 37, 37, 37, 37, 37, 37, 37, 38, 38, 38, 38, 38, 38, 38, 38, 38, 38, 38, 38, 39, 39, 39, 39, 39, 39, 39, 39, 39, 39, 39, 39, 40, 40, 40, 40, 40, 40, 40, 40, 40, 40, 40, 40, 41, 41, 41, 41, 41, 41, 41, 41, 41, 41, 41, 41, 42, 42, 42, 42, 42, 42, 42, 42, 42, 42, 42, 42, 43, 43, 43, 43, 43, 43, 43, 43, 43, 43, 43, 43, 44, 44, 44, 44, 44, 44, 44, 44, 44, 44, 44, 44, 45, 45, 45, 45, 45, 45, 45, 45, 45, 45, 45, 45, 46, 46, 46, 46, 46, 46, 46, 46, 46, 46, 46, 46, 47, 47, 47, 47, 47, 47, 47, 47, 47, 47, 47, 47, 48, 48, 48, 48, 48, 48, 48, 48, 48, 48, 48, 48, 49, 49, 49, 49, 49, 49, 49, 49, 49, 49, 49, 49, 50, 50, 50, 50, 50, 50, 50, 50, 50, 50, 50, 50, 51, 51, 51, 51, 51, 51, 51, 51, 51, 51, 51, 51, 52, 52, 52, 52, 52, 52, 52, 52, 52, 52, 52, 52, 53, 53, 53, 53, 53, 53, 53, 53, 53, 53, 53, 53, 54, 54, 54, 54, 54, 54, 54, 54, 54, 54, 54, 54, 55, 55, 55, 55, 55, 55, 55, 55, 55, 55, 55, 55, 56, 56, 56, 56, 56, 56, 56, 56, 56, 56, 56, 56, 57, 57, 57, 57, 57, 57, 57, 57, 57, 57, 57, 57, 58, 58, 58, 58, 58, 58, 58, 58, 58, 58, 58, 58, 59, 59, 59, 59, 59, 59, 59, 59, 59, 59, 59, 59, 60, 60, 60, 60, 60, 60, 60, 60, 60, 60, 60, 60, 61, 61, 61, 61, 61, 61, 61, 61, 61, 61, 61, 61, 62, 62, 62, 62, 62, 62, 62, 62, 62, 62, 62, 62, 63, 63, 63, 63, 63, 63, 63, 63, 63, 63, 63, 63, 64, 64, 64, 64, 64, 64, 64, 64, 64, 64, 64, 64, 65, 65, 65, 65, 65, 65, 65, 65, 65, 65, 65, 65, 66, 66, 66, 66, 66, 66, 66, 66, 66, 66, 66, 66, 67, 67, 67, 67, 67, 67, 67, 67, 67, 67, 67, 67, 68, 68, 68, 68, 68, 68, 68, 68, 68, 68, 68, 68, 69, 69, 69, 69, 69, 69, 69, 69, 69, 69, 69, 69, 70, 70, 70, 70, 70, 70, 70, 70, 70, 70, 70, 70, 71, 71, 71, 71, 71, 71, 71, 71, 71, 71, 71, 71, 72, 72, 72, 72, 72, 72, 72, 72, 72, 72, 72, 72, 73, 73, 73, 73, 73, 73, 73, 73, 73, 73, 73, 73, 74, 74, 74, 74, 74, 74, 74, 74, 74, 74, 74, 74, 75, 75, 75, 75, 75, 75, 75, 75, 75, 75, 75, 75, 76, 76, 76, 76, 76, 76, 76, 76, 76, 76, 76, 76, 77, 77, 77, 77, 77, 77, 77, 77, 77, 77, 77, 77, 78, 78, 78, 78, 78, 78, 78, 78, 78, 78, 78, 78, 79, 79, 79, 79, 79, 79, 79, 79, 79, 79, 79, 79, 80, 80, 80, 80, 80, 80, 80, 80, 80, 80, 80, 80, 81, 81, 81, 81, 81, 81, 81, 81, 81, 81, 81, 81, 82, 82, 82, 82, 82, 82, 82, 82, 82, 82, 82, 82, 83, 83, 83, 83, 83, 83, 83, 83, 83, 83, 83, 83, 84, 84, 84, 84, 84, 84, 84, 84, 84, 84, 84, 84, 85, 85, 85, 85, 85, 85, 85, 85, 85, 85, 85, 85, 86, 86, 86, 86, 86, 86, 86, 86, 86, 86, 86, 86, 87, 87, 87, 87, 87, 87, 87, 87, 87, 87, 87, 87, 88, 88, 88, 88, 88, 88, 88, 88, 88, 88, 88, 88, 89, 89, 89, 89, 89, 89, 89, 89, 89, 89, 89, 89, 90, 90, 90, 90, 90, 90, 90, 90, 90, 90, 90, 90, 91, 91, 91, 91, 91, 91, 91, 91, 91, 91, 91, 91, 92, 92, 92, 92, 92, 92, 92, 92, 92, 92, 92, 92, 93, 93, 93, 93, 93, 93, 93, 93, 93, 93, 93, 93, 94, 94, 94, 94, 94, 94, 94, 94, 94, 94, 94, 94, 95, 95, 95, 95, 95, 95, 95, 95, 95, 95, 95, 95, 96, 96, 96, 96, 96, 96, 96, 96, 96, 96, 96, 96, 97, 97, 97, 97, 97, 97, 97, 97, 97, 97, 97, 97, 98, 98, 98, 98, 98, 98, 98, 98, 98, 98, 98, 98, 99, 99, 99, 99, 99, 99, 99, 99, 99, 99, 99, 99, 100, 100, 100, 100, 100, 100, 100, 100, 100, 100, 100, 100, 101, 101, 101, 101, 101, 101, 101, 101, 101, 101, 101, 101, 102, 102, 102, 102, 102, 102, 102, 102, 102, 102, 102, 102, 103, 103, 103, 103, 103, 103, 103, 103, 103, 103, 103, 103, 104, 104, 104, 104, 104, 104, 104, 104, 104, 104, 104, 104, 105, 105, 105, 105, 105, 105, 105, 105, 105, 105, 105, 105, 106, 106, 106, 106, 106, 106, 106, 106, 106, 106, 106, 106, 107, 107, 107, 107, 107, 107, 107, 107, 107, 107, 107, 107, 108, 108, 108, 108, 108, 108, 108, 108, 108, 108, 108, 108, 109, 109, 109, 109, 109, 109, 109, 109, 109, 109, 109, 109, 110, 110, 110, 110, 110, 110, 110, 110, 110, 110, 110, 110, 111, 111, 111, 111, 111, 111, 111, 111, 111, 111, 111, 111, 112, 112, 112, 112, 112, 112, 112, 112, 112, 112, 112, 112, 113, 113, 113, 113, 113, 113, 113, 113, 113, 113, 113, 113, 114, 114, 114, 114, 114, 114, 114, 114, 114, 114, 114, 114, 115, 115, 115, 115, 115, 115, 115, 115, 115, 115, 115, 115, 116, 116, 116, 116, 116, 116, 116, 116, 116, 116, 116, 116, 117, 117, 117, 117, 117, 117, 117, 117, 117, 117, 117, 117, 118, 118, 118, 118, 118, 118, 118, 118, 118, 118, 118, 118, 119, 119, 119, 119, 119, 119, 119, 119, 119, 119, 119, 119, 120, 120, 120, 120, 120, 120, 120, 120, 120, 120, 120, 120, 121, 121, 121, 121, 121, 121, 121, 121, 121, 121, 121, 121, 122, 122, 122, 122, 122, 122, 122, 122, 122, 122, 122, 122, 123, 123, 123, 123, 123, 123, 123, 123, 123, 123, 123, 123, 124, 124, 124, 124, 124, 124, 124, 124, 124, 124, 124, 124, 125, 125, 125, 125, 125, 125, 125, 125, 125, 125, 125, 125, 126, 126, 126, 126, 126, 126, 126, 126, 126, 126, 126, 126, 127, 127, 127, 127, 127, 127, 127, 127, 127, 127, 127, 127, 128, 128, 128, 128, 128, 128, 128, 128, 128, 128, 128, 128, 129, 129, 129, 129, 129, 129, 129, 129, 129, 129, 129, 129, 130, 130, 130, 130, 130, 130, 130, 130, 130, 130, 130, 130, 131, 131, 131, 131, 131, 131, 131, 131, 131, 131, 131, 131, 132, 132, 132, 132, 132, 132, 132, 132, 132, 132, 132, 132, 133, 133, 133, 133, 133, 133, 133, 133, 133, 133, 133, 133, 134, 134, 134, 134, 134, 134, 134, 134, 134, 134, 134, 134, 135, 135, 135, 135, 135, 135, 135, 135, 135, 135, 135, 135], [0, 1, 2, 3, 4, 5, 6, 7, 8, 9, 10, 11, 0, 1, 2, 3, 4, 5, 6, 7, 8, 9, 10, 11, 0, 1, 2, 3, 4, 5, 6, 7, 8, 9, 10, 11, 0, 1, 2, 3, 4, 5, 6, 7, 8, 9, 10, 11, 0, 1, 2, 3, 4, 5, 6, 7, 8, 9, 10, 11, 0, 1, 2, 3, 4, 5, 6, 7, 8, 9, 10, 11, 0, 1, 2, 3, 4, 5, 6, 7, 8, 9, 10, 11, 0, 1, 2, 3, 4, 5, 6, 7, 8, 9, 10, 11, 0, 1, 2, 3, 4, 5, 6, 7, 8, 9, 10, 11, 0, 1, 2, 3, 4, 5, 6, 7, 8, 9, 10, 11, 0, 1, 2, 3, 4, 5, 6, 7, 8, 9, 10, 11, 0, 1, 2, 3, 4, 5, 6, 7, 8, 9, 10, 11, 0, 1, 2, 3, 4, 5, 6, 7, 8, 9, 10, 11, 0, 1, 2, 3, 4, 5, 6, 7, 8, 9, 10, 11, 0, 1, 2, 3, 4, 5, 6, 7, 8, 9, 10, 11, 0, 1, 2, 3, 4, 5, 6, 7, 8, 9, 10, 11, 0, 1, 2, 3, 4, 5, 6, 7, 8, 9, 10, 11, 0, 1, 2, 3, 4, 5, 6, 7, 8, 9, 10, 11, 0, 1, 2, 3, 4, 5, 6, 7, 8, 9, 10, 11, 0, 1, 2, 3, 4, 5, 6, 7, 8, 9, 10, 11, 0, 1, 2, 3, 4, 5, 6, 7, 8, 9, 10, 11, 0, 1, 2, 3, 4, 5, 6, 7, 8, 9, 10, 11, 0, 1, 2, 3, 4, 5, 6, 7, 8, 9, 10, 11, 0, 1, 2, 3, 4, 5, 6, 7, 8, 9, 10, 11, 0, 1, 2, 3, 4, 5, 6, 7, 8, 9, 10, 11, 0, 1, 2, 3, 4, 5, 6, 7, 8, 9, 10, 11, 0, 1, 2, 3, 4, 5, 6, 7, 8, 9, 10, 11, 0, 1, 2, 3, 4, 5, 6, 7, 8, 9, 10, 11, 0, 1, 2, 3, 4, 5, 6, 7, 8, 9, 10, 11, 0, 1, 2, 3, 4, 5, 6, 7, 8, 9, 10, 11, 0, 1, 2, 3, 4, 5, 6, 7, 8, 9, 10, 11, 0, 1, 2, 3, 4, 5, 6, 7, 8, 9, 10, 11, 0, 1, 2, 3, 4, 5, 6, 7, 8, 9, 10, 11, 0, 1, 2, 3, 4, 5, 6, 7, 8, 9, 10, 11, 0, 1, 2, 3, 4, 5, 6, 7, 8, 9, 10, 11, 0, 1, 2, 3, 4, 5, 6, 7, 8, 9, 10, 11, 0, 1, 2, 3, 4, 5, 6, 7, 8, 9, 10, 11, 0, 1, 2, 3, 4, 5, 6, 7, 8, 9, 10, 11, 0, 1, 2, 3, 4, 5, 6, 7, 8, 9, 10, 11, 0, 1, 2, 3, 4, 5, 6, 7, 8, 9, 10, 11, 0, 1, 2, 3, 4, 5, 6, 7, 8, 9, 10, 11, 0, 1, 2, 3, 4, 5, 6, 7, 8, 9, 10, 11, 0, 1, 2, 3, 4, 5, 6, 7, 8, 9, 10, 11, 0, 1, 2, 3, 4, 5, 6, 7, 8, 9, 10, 11, 0, 1, 2, 3, 4, 5, 6, 7, 8, 9, 10, 11, 0, 1, 2, 3, 4, 5, 6, 7, 8, 9, 10, 11, 0, 1, 2, 3, 4, 5, 6, 7, 8, 9, 10, 11, 0, 1, 2, 3, 4, 5, 6, 7, 8, 9, 10, 11, 0, 1, 2, 3, 4, 5, 6, 7, 8, 9, 10, 11, 0, 1, 2, 3, 4, 5, 6, 7, 8, 9, 10, 11, 0, 1, 2, 3, 4, 5, 6, 7, 8, 9, 10, 11, 0, 1, 2, 3, 4, 5, 6, 7, 8, 9, 10, 11, 0, 1, 2, 3, 4, 5, 6, 7, 8, 9, 10, 11, 0, 1, 2, 3, 4, 5, 6, 7, 8, 9, 10, 11, 0, 1, 2, 3, 4, 5, 6, 7, 8, 9, 10, 11, 0, 1, 2, 3, 4, 5, 6, 7, 8, 9, 10, 11, 0, 1, 2, 3, 4, 5, 6, 7, 8, 9, 10, 11, 0, 1, 2, 3, 4, 5, 6, 7, 8, 9, 10, 11, 0, 1, 2, 3, 4, 5, 6, 7, 8, 9, 10, 11, 0, 1, 2, 3, 4, 5, 6, 7, 8, 9, 10, 11, 0, 1, 2, 3, 4, 5, 6, 7, 8, 9, 10, 11, 0, 1, 2, 3, 4, 5, 6, 7, 8, 9, 10, 11, 0, 1, 2, 3, 4, 5, 6, 7, 8, 9, 10, 11, 0, 1, 2, 3, 4, 5, 6, 7, 8, 9, 10, 11, 0, 1, 2, 3, 4, 5, 6, 7, 8, 9, 10, 11, 0, 1, 2, 3, 4, 5, 6, 7, 8, 9, 10, 11, 0, 1, 2, 3, 4, 5, 6, 7, 8, 9, 10, 11, 0, 1, 2, 3, 4, 5, 6, 7, 8, 9, 10, 11, 0, 1, 2, 3, 4, 5, 6, 7, 8, 9, 10, 11, 0, 1, 2, 3, 4, 5, 6, 7, 8, 9, 10, 11, 0, 1, 2, 3, 4, 5, 6, 7, 8, 9, 10, 11, 0, 1, 2, 3, 4, 5, 6, 7, 8, 9, 10, 11, 0, 1, 2, 3, 4, 5, 6, 7, 8, 9, 10, 11, 0, 1, 2, 3, 4, 5, 6, 7, 8, 9, 10, 11, 0, 1, 2, 3, 4, 5, 6, 7, 8, 9, 10, 11, 0, 1, 2, 3, 4, 5, 6, 7, 8, 9, 10, 11, 0, 1, 2, 3, 4, 5, 6, 7, 8, 9, 10, 11, 0, 1, 2, 3, 4, 5, 6, 7, 8, 9, 10, 11, 0, 1, 2, 3, 4, 5, 6, 7, 8, 9, 10, 11, 0, 1, 2, 3, 4, 5, 6, 7, 8, 9, 10, 11, 0, 1, 2, 3, 4, 5, 6, 7, 8, 9, 10, 11, 0, 1, 2, 3, 4, 5, 6, 7, 8, 9, 10, 11, 0, 1, 2, 3, 4, 5, 6, 7, 8, 9, 10, 11, 0, 1, 2, 3, 4, 5, 6, 7, 8, 9, 10, 11, 0, 1, 2, 3, 4, 5, 6, 7, 8, 9, 10, 11, 0, 1, 2, 3, 4, 5, 6, 7, 8, 9, 10, 11, 0, 1, 2, 3, 4, 5, 6, 7, 8, 9, 10, 11, 0, 1, 2, 3, 4, 5, 6, 7, 8, 9, 10, 11, 0, 1, 2, 3, 4, 5, 6, 7, 8, 9, 10, 11, 0, 1, 2, 3, 4, 5, 6, 7, 8, 9, 10, 11, 0, 1, 2, 3, 4, 5, 6, 7, 8, 9, 10, 11, 0, 1, 2, 3, 4, 5, 6, 7, 8, 9, 10, 11, 0, 1, 2, 3, 4, 5, 6, 7, 8, 9, 10, 11, 0, 1, 2, 3, 4, 5, 6, 7, 8, 9, 10, 11, 0, 1, 2, 3, 4, 5, 6, 7, 8, 9, 10, 11, 0, 1, 2, 3, 4, 5, 6, 7, 8, 9, 10, 11, 0, 1, 2, 3, 4, 5, 6, 7, 8, 9, 10, 11, 0, 1, 2, 3, 4, 5, 6, 7, 8, 9, 10, 11, 0, 1, 2, 3, 4, 5, 6, 7, 8, 9, 10, 11, 0, 1, 2, 3, 4, 5, 6, 7, 8, 9, 10, 11, 0, 1, 2, 3, 4, 5, 6, 7, 8, 9, 10, 11, 0, 1, 2, 3, 4, 5, 6, 7, 8, 9, 10, 11, 0, 1, 2, 3, 4, 5, 6, 7, 8, 9, 10, 11, 0, 1, 2, 3, 4, 5, 6, 7, 8, 9, 10, 11, 0, 1, 2, 3, 4, 5, 6, 7, 8, 9, 10, 11, 0, 1, 2, 3, 4, 5, 6, 7, 8, 9, 10, 11, 0, 1, 2, 3, 4, 5, 6, 7, 8, 9, 10, 11, 0, 1, 2, 3, 4, 5, 6, 7, 8, 9, 10, 11, 0, 1, 2, 3, 4, 5, 6, 7, 8, 9, 10, 11, 0, 1, 2, 3, 4, 5, 6, 7, 8, 9, 10, 11, 0, 1, 2, 3, 4, 5, 6, 7, 8, 9, 10, 11, 0, 1, 2, 3, 4, 5, 6, 7, 8, 9, 10, 11, 0, 1, 2, 3, 4, 5, 6, 7, 8, 9, 10, 11, 0, 1, 2, 3, 4, 5, 6, 7, 8, 9, 10, 11, 0, 1, 2, 3, 4, 5, 6, 7, 8, 9, 10, 11, 0, 1, 2, 3, 4, 5, 6, 7, 8, 9, 10, 11, 0, 1, 2, 3, 4, 5, 6, 7, 8, 9, 10, 11, 0, 1, 2, 3, 4, 5, 6, 7, 8, 9, 10, 11, 0, 1, 2, 3, 4, 5, 6, 7, 8, 9, 10, 11, 0, 1, 2, 3, 4, 5, 6, 7, 8, 9, 10, 11, 0, 1, 2, 3, 4, 5, 6, 7, 8, 9, 10, 11, 0, 1, 2, 3, 4, 5, 6, 7, 8, 9, 10, 11, 0, 1, 2, 3, 4, 5, 6, 7, 8, 9, 10, 11, 0, 1, 2, 3, 4, 5, 6, 7, 8, 9, 10, 11, 0, 1, 2, 3, 4, 5, 6, 7, 8, 9, 10, 11, 0, 1, 2, 3, 4, 5, 6, 7, 8, 9, 10, 11, 0, 1, 2, 3, 4, 5, 6, 7, 8, 9, 10, 11, 0, 1, 2, 3, 4, 5, 6, 7, 8, 9, 10, 11, 0, 1, 2, 3, 4, 5, 6, 7, 8, 9, 10, 11, 0, 1, 2, 3, 4, 5, 6, 7, 8, 9, 10, 11, 0, 1, 2, 3, 4, 5, 6, 7, 8, 9, 10, 11, 0, 1, 2, 3, 4, 5, 6, 7, 8, 9, 10, 11, 0, 1, 2, 3, 4, 5, 6, 7, 8, 9, 10, 11, 0, 1, 2, 3, 4, 5, 6, 7, 8, 9, 10, 11, 0, 1, 2, 3, 4, 5, 6, 7, 8, 9, 10, 11, 0, 1, 2, 3, 4, 5, 6, 7, 8, 9, 10, 11]],\n",
       "           names=['Year', None])"
      ]
     },
     "execution_count": 81,
     "metadata": {},
     "output_type": "execute_result"
    }
   ],
   "source": [
    "# Note the nature of the resulting index:\n",
    "giss_temp_series.index"
   ]
  },
  {
   "cell_type": "code",
   "execution_count": 82,
   "metadata": {
    "collapsed": false
   },
   "outputs": [],
   "source": [
    "# It is an index made of 2 columns. Let's fix the fact that one of them doesn't have a name:\n",
    "giss_temp_series.index = giss_temp_series.index.set_names([\"year\", \"month\"])"
   ]
  },
  {
   "cell_type": "code",
   "execution_count": 84,
   "metadata": {
    "collapsed": false
   },
   "outputs": [
    {
     "data": {
      "text/plain": [
       "year  month\n",
       "1880  Jan     -34.0\n",
       "      Feb     -27.0\n",
       "      Mar     -22.0\n",
       "      Apr     -30.0\n",
       "      May     -16.0\n",
       "      Jun     -24.0\n",
       "      Jul     -19.0\n",
       "      Aug     -12.0\n",
       "               ... \n",
       "2015  May       NaN\n",
       "      Jun       NaN\n",
       "      Jul       NaN\n",
       "      Aug       NaN\n",
       "      Sep       NaN\n",
       "      Oct       NaN\n",
       "      Nov       NaN\n",
       "      Dec       NaN\n",
       "Name: Temp anomaly, dtype: float32"
      ]
     },
     "execution_count": 84,
     "metadata": {},
     "output_type": "execute_result"
    }
   ],
   "source": [
    "giss_temp_series"
   ]
  },
  {
   "cell_type": "code",
   "execution_count": 85,
   "metadata": {
    "collapsed": false
   },
   "outputs": [
    {
     "data": {
      "text/plain": [
       "24.0"
      ]
     },
     "execution_count": 85,
     "metadata": {},
     "output_type": "execute_result"
    }
   ],
   "source": [
    "# We can now access deviations by specifying the year and month:\n",
    "giss_temp_series[1980, \"Jan\"]"
   ]
  },
  {
   "cell_type": "code",
   "execution_count": 86,
   "metadata": {
    "collapsed": false
   },
   "outputs": [
    {
     "data": {
      "text/plain": [
       "month\n",
       "Jan    24.0\n",
       "Feb    36.0\n",
       "Mar    25.0\n",
       "Apr    29.0\n",
       "May    30.0\n",
       "Jun    14.0\n",
       "Jul    22.0\n",
       "Aug    23.0\n",
       "Sep    18.0\n",
       "Oct    13.0\n",
       "Nov    23.0\n",
       "Dec    15.0\n",
       "Name: Temp anomaly, dtype: float32"
      ]
     },
     "execution_count": 86,
     "metadata": {},
     "output_type": "execute_result"
    }
   ],
   "source": [
    "giss_temp_series[1980]"
   ]
  },
  {
   "cell_type": "markdown",
   "metadata": {},
   "source": [
    "But this new multi-index isn't very good, because is it not viewed as 1 date, just as a tuple of values:"
   ]
  },
  {
   "cell_type": "code",
   "execution_count": 87,
   "metadata": {
    "collapsed": false
   },
   "outputs": [
    {
     "data": {
      "text/plain": [
       "<matplotlib.axes._subplots.AxesSubplot at 0x10ecfe400>"
      ]
     },
     "execution_count": 87,
     "metadata": {},
     "output_type": "execute_result"
    },
    {
     "data": {
      "image/png": "[encoded data removed]",
      "text/plain": [
       "<matplotlib.figure.Figure at 0x10ecebac8>"
      ]
     },
     "metadata": {},
     "output_type": "display_data"
    }
   ],
   "source": [
    "giss_temp_series.plot(figsize=LARGE_FIGSIZE)"
   ]
  },
  {
   "cell_type": "markdown",
   "metadata": {},
   "source": [
    "To improve on this, let's reuse an index we generated above with `date_range`:"
   ]
  },
  {
   "cell_type": "code",
   "execution_count": 88,
   "metadata": {
    "collapsed": false
   },
   "outputs": [
    {
     "data": {
      "text/plain": [
       "<matplotlib.axes._subplots.AxesSubplot at 0x1125163c8>"
      ]
     },
     "execution_count": 88,
     "metadata": {},
     "output_type": "execute_result"
    },
    {
     "data": {
      "image/png": "[encoded data removed]",
      "text/plain": [
       "<matplotlib.figure.Figure at 0x1112e5898>"
      ]
     },
     "metadata": {},
     "output_type": "display_data"
    }
   ],
   "source": [
    "giss_temp_series.index = giss_temp_index\n",
    "giss_temp_series.plot(figsize=LARGE_FIGSIZE)"
   ]
  },
  {
   "cell_type": "markdown",
   "metadata": {},
   "source": [
    "## 8. Statistical analysis"
   ]
  },
  {
   "cell_type": "markdown",
   "metadata": {},
   "source": [
    "### Descriptive statistics"
   ]
  },
  {
   "cell_type": "markdown",
   "metadata": {},
   "source": [
    "Let's go back to the dataframe version of the GISS temperature dataset temporarily to analyze anomalies month per month. Like most functions on a dataframe, **stats functions are computed column per column**. They also ignore missing values:"
   ]
  },
  {
   "cell_type": "code",
   "execution_count": 90,
   "metadata": {
    "collapsed": false
   },
   "outputs": [
    {
     "data": {
      "text/html": [
       "<div>\n",
       "<table border=\"1\" class=\"dataframe\">\n",
       "  <thead>\n",
       "    <tr style=\"text-align: right;\">\n",
       "      <th></th>\n",
       "      <th>Jan</th>\n",
       "      <th>Feb</th>\n",
       "      <th>Mar</th>\n",
       "      <th>Apr</th>\n",
       "      <th>May</th>\n",
       "      <th>Jun</th>\n",
       "      <th>Jul</th>\n",
       "      <th>Aug</th>\n",
       "      <th>Sep</th>\n",
       "      <th>Oct</th>\n",
       "      <th>Nov</th>\n",
       "      <th>Dec</th>\n",
       "    </tr>\n",
       "    <tr>\n",
       "      <th>Year</th>\n",
       "      <th></th>\n",
       "      <th></th>\n",
       "      <th></th>\n",
       "      <th></th>\n",
       "      <th></th>\n",
       "      <th></th>\n",
       "      <th></th>\n",
       "      <th></th>\n",
       "      <th></th>\n",
       "      <th></th>\n",
       "      <th></th>\n",
       "      <th></th>\n",
       "    </tr>\n",
       "  </thead>\n",
       "  <tbody>\n",
       "    <tr>\n",
       "      <th>1880</th>\n",
       "      <td>-34.0</td>\n",
       "      <td>-27.0</td>\n",
       "      <td>-22.0</td>\n",
       "      <td>-30.0</td>\n",
       "      <td>-16.0</td>\n",
       "      <td>-24.0</td>\n",
       "      <td>-19.0</td>\n",
       "      <td>-12.0</td>\n",
       "      <td>-20.0</td>\n",
       "      <td>-19.0</td>\n",
       "      <td>-16.0</td>\n",
       "      <td>-21.0</td>\n",
       "    </tr>\n",
       "    <tr>\n",
       "      <th>1881</th>\n",
       "      <td>-13.0</td>\n",
       "      <td>-16.0</td>\n",
       "      <td>-2.0</td>\n",
       "      <td>-3.0</td>\n",
       "      <td>-3.0</td>\n",
       "      <td>-27.0</td>\n",
       "      <td>-12.0</td>\n",
       "      <td>-8.0</td>\n",
       "      <td>-18.0</td>\n",
       "      <td>-23.0</td>\n",
       "      <td>-28.0</td>\n",
       "      <td>-18.0</td>\n",
       "    </tr>\n",
       "    <tr>\n",
       "      <th>1882</th>\n",
       "      <td>3.0</td>\n",
       "      <td>4.0</td>\n",
       "      <td>-2.0</td>\n",
       "      <td>-24.0</td>\n",
       "      <td>-20.0</td>\n",
       "      <td>-32.0</td>\n",
       "      <td>-27.0</td>\n",
       "      <td>-11.0</td>\n",
       "      <td>-11.0</td>\n",
       "      <td>-25.0</td>\n",
       "      <td>-25.0</td>\n",
       "      <td>-37.0</td>\n",
       "    </tr>\n",
       "    <tr>\n",
       "      <th>1883</th>\n",
       "      <td>-38.0</td>\n",
       "      <td>-38.0</td>\n",
       "      <td>-12.0</td>\n",
       "      <td>-20.0</td>\n",
       "      <td>-20.0</td>\n",
       "      <td>-8.0</td>\n",
       "      <td>-3.0</td>\n",
       "      <td>-13.0</td>\n",
       "      <td>-19.0</td>\n",
       "      <td>-19.0</td>\n",
       "      <td>-28.0</td>\n",
       "      <td>-21.0</td>\n",
       "    </tr>\n",
       "    <tr>\n",
       "      <th>1884</th>\n",
       "      <td>-20.0</td>\n",
       "      <td>-14.0</td>\n",
       "      <td>-31.0</td>\n",
       "      <td>-36.0</td>\n",
       "      <td>-33.0</td>\n",
       "      <td>-36.0</td>\n",
       "      <td>-31.0</td>\n",
       "      <td>-24.0</td>\n",
       "      <td>-29.0</td>\n",
       "      <td>-25.0</td>\n",
       "      <td>-29.0</td>\n",
       "      <td>-25.0</td>\n",
       "    </tr>\n",
       "    <tr>\n",
       "      <th>1885</th>\n",
       "      <td>-57.0</td>\n",
       "      <td>-29.0</td>\n",
       "      <td>-19.0</td>\n",
       "      <td>-36.0</td>\n",
       "      <td>-35.0</td>\n",
       "      <td>-40.0</td>\n",
       "      <td>-28.0</td>\n",
       "      <td>-24.0</td>\n",
       "      <td>-17.0</td>\n",
       "      <td>-14.0</td>\n",
       "      <td>-14.0</td>\n",
       "      <td>0.0</td>\n",
       "    </tr>\n",
       "    <tr>\n",
       "      <th>1886</th>\n",
       "      <td>-37.0</td>\n",
       "      <td>-43.0</td>\n",
       "      <td>-34.0</td>\n",
       "      <td>-23.0</td>\n",
       "      <td>-21.0</td>\n",
       "      <td>-30.0</td>\n",
       "      <td>-13.0</td>\n",
       "      <td>-21.0</td>\n",
       "      <td>-12.0</td>\n",
       "      <td>-22.0</td>\n",
       "      <td>-29.0</td>\n",
       "      <td>-18.0</td>\n",
       "    </tr>\n",
       "    <tr>\n",
       "      <th>1887</th>\n",
       "      <td>-60.0</td>\n",
       "      <td>-43.0</td>\n",
       "      <td>-26.0</td>\n",
       "      <td>-34.0</td>\n",
       "      <td>-28.0</td>\n",
       "      <td>-25.0</td>\n",
       "      <td>-19.0</td>\n",
       "      <td>-28.0</td>\n",
       "      <td>-24.0</td>\n",
       "      <td>-33.0</td>\n",
       "      <td>-29.0</td>\n",
       "      <td>-40.0</td>\n",
       "    </tr>\n",
       "    <tr>\n",
       "      <th>...</th>\n",
       "      <td>...</td>\n",
       "      <td>...</td>\n",
       "      <td>...</td>\n",
       "      <td>...</td>\n",
       "      <td>...</td>\n",
       "      <td>...</td>\n",
       "      <td>...</td>\n",
       "      <td>...</td>\n",
       "      <td>...</td>\n",
       "      <td>...</td>\n",
       "      <td>...</td>\n",
       "      <td>...</td>\n",
       "    </tr>\n",
       "    <tr>\n",
       "      <th>2008</th>\n",
       "      <td>22.0</td>\n",
       "      <td>31.0</td>\n",
       "      <td>70.0</td>\n",
       "      <td>48.0</td>\n",
       "      <td>46.0</td>\n",
       "      <td>43.0</td>\n",
       "      <td>54.0</td>\n",
       "      <td>39.0</td>\n",
       "      <td>59.0</td>\n",
       "      <td>62.0</td>\n",
       "      <td>62.0</td>\n",
       "      <td>51.0</td>\n",
       "    </tr>\n",
       "    <tr>\n",
       "      <th>2009</th>\n",
       "      <td>56.0</td>\n",
       "      <td>48.0</td>\n",
       "      <td>49.0</td>\n",
       "      <td>57.0</td>\n",
       "      <td>59.0</td>\n",
       "      <td>62.0</td>\n",
       "      <td>66.0</td>\n",
       "      <td>61.0</td>\n",
       "      <td>64.0</td>\n",
       "      <td>58.0</td>\n",
       "      <td>72.0</td>\n",
       "      <td>58.0</td>\n",
       "    </tr>\n",
       "    <tr>\n",
       "      <th>2010</th>\n",
       "      <td>66.0</td>\n",
       "      <td>75.0</td>\n",
       "      <td>87.0</td>\n",
       "      <td>82.0</td>\n",
       "      <td>71.0</td>\n",
       "      <td>60.0</td>\n",
       "      <td>56.0</td>\n",
       "      <td>59.0</td>\n",
       "      <td>55.0</td>\n",
       "      <td>65.0</td>\n",
       "      <td>74.0</td>\n",
       "      <td>44.0</td>\n",
       "    </tr>\n",
       "    <tr>\n",
       "      <th>2011</th>\n",
       "      <td>45.0</td>\n",
       "      <td>44.0</td>\n",
       "      <td>57.0</td>\n",
       "      <td>60.0</td>\n",
       "      <td>47.0</td>\n",
       "      <td>54.0</td>\n",
       "      <td>70.0</td>\n",
       "      <td>69.0</td>\n",
       "      <td>52.0</td>\n",
       "      <td>60.0</td>\n",
       "      <td>50.0</td>\n",
       "      <td>48.0</td>\n",
       "    </tr>\n",
       "    <tr>\n",
       "      <th>2012</th>\n",
       "      <td>38.0</td>\n",
       "      <td>43.0</td>\n",
       "      <td>52.0</td>\n",
       "      <td>62.0</td>\n",
       "      <td>71.0</td>\n",
       "      <td>59.0</td>\n",
       "      <td>50.0</td>\n",
       "      <td>56.0</td>\n",
       "      <td>68.0</td>\n",
       "      <td>73.0</td>\n",
       "      <td>69.0</td>\n",
       "      <td>46.0</td>\n",
       "    </tr>\n",
       "    <tr>\n",
       "      <th>2013</th>\n",
       "      <td>62.0</td>\n",
       "      <td>52.0</td>\n",
       "      <td>60.0</td>\n",
       "      <td>48.0</td>\n",
       "      <td>56.0</td>\n",
       "      <td>61.0</td>\n",
       "      <td>53.0</td>\n",
       "      <td>61.0</td>\n",
       "      <td>73.0</td>\n",
       "      <td>61.0</td>\n",
       "      <td>75.0</td>\n",
       "      <td>61.0</td>\n",
       "    </tr>\n",
       "    <tr>\n",
       "      <th>2014</th>\n",
       "      <td>68.0</td>\n",
       "      <td>44.0</td>\n",
       "      <td>71.0</td>\n",
       "      <td>72.0</td>\n",
       "      <td>79.0</td>\n",
       "      <td>62.0</td>\n",
       "      <td>50.0</td>\n",
       "      <td>74.0</td>\n",
       "      <td>81.0</td>\n",
       "      <td>78.0</td>\n",
       "      <td>64.0</td>\n",
       "      <td>74.0</td>\n",
       "    </tr>\n",
       "    <tr>\n",
       "      <th>2015</th>\n",
       "      <td>75.0</td>\n",
       "      <td>80.0</td>\n",
       "      <td>84.0</td>\n",
       "      <td>71.0</td>\n",
       "      <td>NaN</td>\n",
       "      <td>NaN</td>\n",
       "      <td>NaN</td>\n",
       "      <td>NaN</td>\n",
       "      <td>NaN</td>\n",
       "      <td>NaN</td>\n",
       "      <td>NaN</td>\n",
       "      <td>NaN</td>\n",
       "    </tr>\n",
       "  </tbody>\n",
       "</table>\n",
       "<p>136 rows × 12 columns</p>\n",
       "</div>"
      ],
      "text/plain": [
       "       Jan   Feb   Mar   Apr   May   Jun   Jul   Aug   Sep   Oct   Nov   Dec\n",
       "Year                                                                        \n",
       "1880 -34.0 -27.0 -22.0 -30.0 -16.0 -24.0 -19.0 -12.0 -20.0 -19.0 -16.0 -21.0\n",
       "1881 -13.0 -16.0  -2.0  -3.0  -3.0 -27.0 -12.0  -8.0 -18.0 -23.0 -28.0 -18.0\n",
       "1882   3.0   4.0  -2.0 -24.0 -20.0 -32.0 -27.0 -11.0 -11.0 -25.0 -25.0 -37.0\n",
       "1883 -38.0 -38.0 -12.0 -20.0 -20.0  -8.0  -3.0 -13.0 -19.0 -19.0 -28.0 -21.0\n",
       "1884 -20.0 -14.0 -31.0 -36.0 -33.0 -36.0 -31.0 -24.0 -29.0 -25.0 -29.0 -25.0\n",
       "1885 -57.0 -29.0 -19.0 -36.0 -35.0 -40.0 -28.0 -24.0 -17.0 -14.0 -14.0   0.0\n",
       "1886 -37.0 -43.0 -34.0 -23.0 -21.0 -30.0 -13.0 -21.0 -12.0 -22.0 -29.0 -18.0\n",
       "1887 -60.0 -43.0 -26.0 -34.0 -28.0 -25.0 -19.0 -28.0 -24.0 -33.0 -29.0 -40.0\n",
       "...    ...   ...   ...   ...   ...   ...   ...   ...   ...   ...   ...   ...\n",
       "2008  22.0  31.0  70.0  48.0  46.0  43.0  54.0  39.0  59.0  62.0  62.0  51.0\n",
       "2009  56.0  48.0  49.0  57.0  59.0  62.0  66.0  61.0  64.0  58.0  72.0  58.0\n",
       "2010  66.0  75.0  87.0  82.0  71.0  60.0  56.0  59.0  55.0  65.0  74.0  44.0\n",
       "2011  45.0  44.0  57.0  60.0  47.0  54.0  70.0  69.0  52.0  60.0  50.0  48.0\n",
       "2012  38.0  43.0  52.0  62.0  71.0  59.0  50.0  56.0  68.0  73.0  69.0  46.0\n",
       "2013  62.0  52.0  60.0  48.0  56.0  61.0  53.0  61.0  73.0  61.0  75.0  61.0\n",
       "2014  68.0  44.0  71.0  72.0  79.0  62.0  50.0  74.0  81.0  78.0  64.0  74.0\n",
       "2015  75.0  80.0  84.0  71.0   NaN   NaN   NaN   NaN   NaN   NaN   NaN   NaN\n",
       "\n",
       "[136 rows x 12 columns]"
      ]
     },
     "execution_count": 90,
     "metadata": {},
     "output_type": "execute_result"
    }
   ],
   "source": [
    "giss_temp"
   ]
  },
  {
   "cell_type": "code",
   "execution_count": 91,
   "metadata": {
    "collapsed": false
   },
   "outputs": [
    {
     "data": {
      "text/plain": [
       "Jan   -1.411765\n",
       "Feb   -0.161765\n",
       "Mar    1.294118\n",
       "Apr   -0.823529\n",
       "May   -2.051852\n",
       "Jun   -3.237037\n",
       "Jul   -0.688889\n",
       "Aug   -0.622222\n",
       "Sep    0.755556\n",
       "Oct    1.333333\n",
       "Nov    0.148148\n",
       "Dec   -2.274074\n",
       "dtype: float32"
      ]
     },
     "execution_count": 91,
     "metadata": {},
     "output_type": "execute_result"
    }
   ],
   "source": [
    "monthly_averages = giss_temp.mean()\n",
    "monthly_averages"
   ]
  },
  {
   "cell_type": "markdown",
   "metadata": {},
   "source": [
    "It is possible to apply stats functions across rows instead of columns using the `axis` keyword (just like in NumPy)."
   ]
  },
  {
   "cell_type": "code",
   "execution_count": 92,
   "metadata": {
    "collapsed": false
   },
   "outputs": [
    {
     "data": {
      "text/plain": [
       "Year\n",
       "1880   -21.666666\n",
       "1881   -14.250000\n",
       "1882   -17.250000\n",
       "1883   -19.916666\n",
       "1884   -27.750000\n",
       "1885   -26.083334\n",
       "1886   -25.250000\n",
       "1887   -32.416668\n",
       "          ...    \n",
       "2008    48.916668\n",
       "2009    59.166668\n",
       "2010    66.166664\n",
       "2011    54.666668\n",
       "2012    57.250000\n",
       "2013    60.250000\n",
       "2014    68.083336\n",
       "2015    77.500000\n",
       "dtype: float32"
      ]
     },
     "execution_count": 92,
     "metadata": {},
     "output_type": "execute_result"
    }
   ],
   "source": [
    "yearly_averages = giss_temp.mean(axis=1)\n",
    "yearly_averages"
   ]
  },
  {
   "cell_type": "markdown",
   "metadata": {},
   "source": [
    "`describe` provides many descriptive stats computed at once:"
   ]
  },
  {
   "cell_type": "code",
   "execution_count": 93,
   "metadata": {
    "collapsed": false
   },
   "outputs": [
    {
     "name": "stderr",
     "output_type": "stream",
     "text": [
      "/Users/dbalduini/anaconda/envs/ml-env-py3/lib/python3.5/site-packages/numpy/lib/function_base.py:3834: RuntimeWarning: Invalid value encountered in percentile\n",
      "  RuntimeWarning)\n"
     ]
    },
    {
     "data": {
      "text/html": [
       "<div>\n",
       "<table border=\"1\" class=\"dataframe\">\n",
       "  <thead>\n",
       "    <tr style=\"text-align: right;\">\n",
       "      <th></th>\n",
       "      <th>northern_hem</th>\n",
       "      <th>southern_hem</th>\n",
       "      <th>mean_global</th>\n",
       "    </tr>\n",
       "  </thead>\n",
       "  <tbody>\n",
       "    <tr>\n",
       "      <th>count</th>\n",
       "      <td>869.000000</td>\n",
       "      <td>869.000000</td>\n",
       "      <td>780.000000</td>\n",
       "    </tr>\n",
       "    <tr>\n",
       "      <th>mean</th>\n",
       "      <td>25.507298</td>\n",
       "      <td>28.730510</td>\n",
       "      <td>29.166036</td>\n",
       "    </tr>\n",
       "    <tr>\n",
       "      <th>std</th>\n",
       "      <td>29.555314</td>\n",
       "      <td>24.829111</td>\n",
       "      <td>21.226033</td>\n",
       "    </tr>\n",
       "    <tr>\n",
       "      <th>min</th>\n",
       "      <td>-38.377000</td>\n",
       "      <td>-28.239000</td>\n",
       "      <td>-11.796000</td>\n",
       "    </tr>\n",
       "    <tr>\n",
       "      <th>25%</th>\n",
       "      <td>4.119000</td>\n",
       "      <td>8.984000</td>\n",
       "      <td>NaN</td>\n",
       "    </tr>\n",
       "    <tr>\n",
       "      <th>50%</th>\n",
       "      <td>24.781000</td>\n",
       "      <td>28.283000</td>\n",
       "      <td>NaN</td>\n",
       "    </tr>\n",
       "    <tr>\n",
       "      <th>75%</th>\n",
       "      <td>47.391000</td>\n",
       "      <td>46.670000</td>\n",
       "      <td>NaN</td>\n",
       "    </tr>\n",
       "    <tr>\n",
       "      <th>max</th>\n",
       "      <td>99.108000</td>\n",
       "      <td>90.633000</td>\n",
       "      <td>75.007000</td>\n",
       "    </tr>\n",
       "  </tbody>\n",
       "</table>\n",
       "</div>"
      ],
      "text/plain": [
       "       northern_hem  southern_hem  mean_global\n",
       "count    869.000000    869.000000   780.000000\n",
       "mean      25.507298     28.730510    29.166036\n",
       "std       29.555314     24.829111    21.226033\n",
       "min      -38.377000    -28.239000   -11.796000\n",
       "25%        4.119000      8.984000          NaN\n",
       "50%       24.781000     28.283000          NaN\n",
       "75%       47.391000     46.670000          NaN\n",
       "max       99.108000     90.633000    75.007000"
      ]
     },
     "execution_count": 93,
     "metadata": {},
     "output_type": "execute_result"
    }
   ],
   "source": [
    "mean_sea_level.describe()"
   ]
  },
  {
   "cell_type": "markdown",
   "metadata": {},
   "source": [
    "### Rolling statistics"
   ]
  },
  {
   "cell_type": "markdown",
   "metadata": {},
   "source": [
    "Let's remove high frequency signal and extract the trend:"
   ]
  },
  {
   "cell_type": "code",
   "execution_count": 95,
   "metadata": {
    "collapsed": true
   },
   "outputs": [],
   "source": [
    "full_globe_temp.rolling?"
   ]
  },
  {
   "cell_type": "code",
   "execution_count": 94,
   "metadata": {
    "collapsed": false
   },
   "outputs": [
    {
     "name": "stdout",
     "output_type": "stream",
     "text": [
      "Rolling [window=10,center=False,axis=0]\n"
     ]
    },
    {
     "data": {
      "text/plain": [
       "<matplotlib.axes._subplots.AxesSubplot at 0x11258bfd0>"
      ]
     },
     "execution_count": 94,
     "metadata": {},
     "output_type": "execute_result"
    },
    {
     "data": {
      "image/png": "[encoded data removed]",
      "text/plain": [
       "<matplotlib.figure.Figure at 0x1125e56d8>"
      ]
     },
     "metadata": {},
     "output_type": "display_data"
    }
   ],
   "source": [
    "full_globe_temp.plot()\n",
    "rolled_series = full_globe_temp.rolling(window=10, center=False)\n",
    "print(rolled_series)\n",
    "rolled_series.mean().plot(figsize=LARGE_FIGSIZE)"
   ]
  },
  {
   "cell_type": "code",
   "execution_count": null,
   "metadata": {
    "collapsed": false
   },
   "outputs": [],
   "source": [
    "# To see what all can be done while rolling, \n",
    "#pd.rolling_<TAB>"
   ]
  },
  {
   "cell_type": "markdown",
   "metadata": {},
   "source": [
    "### Describing categorical series"
   ]
  },
  {
   "cell_type": "markdown",
   "metadata": {},
   "source": [
    "Let's look at our `local_sea_level_stations` dataset some more:"
   ]
  },
  {
   "cell_type": "code",
   "execution_count": 96,
   "metadata": {
    "collapsed": false
   },
   "outputs": [
    {
     "name": "stderr",
     "output_type": "stream",
     "text": [
      "/Users/dbalduini/anaconda/envs/ml-env-py3/lib/python3.5/site-packages/numpy/lib/function_base.py:3834: RuntimeWarning: Invalid value encountered in percentile\n",
      "  RuntimeWarning)\n"
     ]
    },
    {
     "data": {
      "text/html": [
       "<div>\n",
       "<table border=\"1\" class=\"dataframe\">\n",
       "  <thead>\n",
       "    <tr style=\"text-align: right;\">\n",
       "      <th></th>\n",
       "      <th>ID</th>\n",
       "      <th>Lat</th>\n",
       "      <th>Lon</th>\n",
       "      <th>GLOSS ID</th>\n",
       "      <th>Coastline</th>\n",
       "      <th>Station</th>\n",
       "    </tr>\n",
       "  </thead>\n",
       "  <tbody>\n",
       "    <tr>\n",
       "      <th>count</th>\n",
       "      <td>1486.000000</td>\n",
       "      <td>1486.000000</td>\n",
       "      <td>1486.000000</td>\n",
       "      <td>282.000000</td>\n",
       "      <td>1486.000000</td>\n",
       "      <td>1486.000000</td>\n",
       "    </tr>\n",
       "    <tr>\n",
       "      <th>mean</th>\n",
       "      <td>1081.965007</td>\n",
       "      <td>28.118837</td>\n",
       "      <td>22.453178</td>\n",
       "      <td>165.606383</td>\n",
       "      <td>533.837820</td>\n",
       "      <td>86.109690</td>\n",
       "    </tr>\n",
       "    <tr>\n",
       "      <th>std</th>\n",
       "      <td>663.060089</td>\n",
       "      <td>30.853085</td>\n",
       "      <td>93.165553</td>\n",
       "      <td>95.258579</td>\n",
       "      <td>311.994893</td>\n",
       "      <td>119.490775</td>\n",
       "    </tr>\n",
       "    <tr>\n",
       "      <th>min</th>\n",
       "      <td>1.000000</td>\n",
       "      <td>-77.850000</td>\n",
       "      <td>-179.367000</td>\n",
       "      <td>3.000000</td>\n",
       "      <td>10.000000</td>\n",
       "      <td>1.000000</td>\n",
       "    </tr>\n",
       "    <tr>\n",
       "      <th>25%</th>\n",
       "      <td>522.250000</td>\n",
       "      <td>13.150000</td>\n",
       "      <td>-64.745500</td>\n",
       "      <td>NaN</td>\n",
       "      <td>220.000000</td>\n",
       "      <td>12.250000</td>\n",
       "    </tr>\n",
       "    <tr>\n",
       "      <th>50%</th>\n",
       "      <td>1031.500000</td>\n",
       "      <td>35.606000</td>\n",
       "      <td>14.490500</td>\n",
       "      <td>NaN</td>\n",
       "      <td>641.500000</td>\n",
       "      <td>41.000000</td>\n",
       "    </tr>\n",
       "    <tr>\n",
       "      <th>75%</th>\n",
       "      <td>1640.750000</td>\n",
       "      <td>49.233000</td>\n",
       "      <td>118.716500</td>\n",
       "      <td>NaN</td>\n",
       "      <td>822.000000</td>\n",
       "      <td>101.000000</td>\n",
       "    </tr>\n",
       "    <tr>\n",
       "      <th>max</th>\n",
       "      <td>2320.000000</td>\n",
       "      <td>82.490000</td>\n",
       "      <td>179.217000</td>\n",
       "      <td>351.000000</td>\n",
       "      <td>999.000000</td>\n",
       "      <td>725.000000</td>\n",
       "    </tr>\n",
       "  </tbody>\n",
       "</table>\n",
       "</div>"
      ],
      "text/plain": [
       "                ID          Lat          Lon    GLOSS ID    Coastline  \\\n",
       "count  1486.000000  1486.000000  1486.000000  282.000000  1486.000000   \n",
       "mean   1081.965007    28.118837    22.453178  165.606383   533.837820   \n",
       "std     663.060089    30.853085    93.165553   95.258579   311.994893   \n",
       "min       1.000000   -77.850000  -179.367000    3.000000    10.000000   \n",
       "25%     522.250000    13.150000   -64.745500         NaN   220.000000   \n",
       "50%    1031.500000    35.606000    14.490500         NaN   641.500000   \n",
       "75%    1640.750000    49.233000   118.716500         NaN   822.000000   \n",
       "max    2320.000000    82.490000   179.217000  351.000000   999.000000   \n",
       "\n",
       "           Station  \n",
       "count  1486.000000  \n",
       "mean     86.109690  \n",
       "std     119.490775  \n",
       "min       1.000000  \n",
       "25%      12.250000  \n",
       "50%      41.000000  \n",
       "75%     101.000000  \n",
       "max     725.000000  "
      ]
     },
     "execution_count": 96,
     "metadata": {},
     "output_type": "execute_result"
    }
   ],
   "source": [
    "local_sea_level_stations.describe()"
   ]
  },
  {
   "cell_type": "markdown",
   "metadata": {},
   "source": [
    "`.describe()` only displays information about continuous `Series`. What about categorical ones?"
   ]
  },
  {
   "cell_type": "code",
   "execution_count": 97,
   "metadata": {
    "collapsed": false
   },
   "outputs": [
    {
     "data": {
      "text/plain": [
       "Index(['Station Name', 'ID', 'Lat', 'Lon', 'GLOSS ID', 'Country', 'Date',\n",
       "       'Coastline', 'Station'],\n",
       "      dtype='object')"
      ]
     },
     "execution_count": 97,
     "metadata": {},
     "output_type": "execute_result"
    }
   ],
   "source": [
    "local_sea_level_stations.columns"
   ]
  },
  {
   "cell_type": "code",
   "execution_count": 98,
   "metadata": {
    "collapsed": false
   },
   "outputs": [
    {
     "data": {
      "text/plain": [
       "0       ALA\n",
       "1       ALA\n",
       "2       ALA\n",
       "3       ALA\n",
       "4       ASM\n",
       "5       ATA\n",
       "6       ATA\n",
       "7       ATA\n",
       "       ... \n",
       "1478    VNM\n",
       "1479    VNM\n",
       "1480    VNM\n",
       "1481    VIR\n",
       "1482    VIR\n",
       "1483    VIR\n",
       "1484    VIR\n",
       "1485    YEM\n",
       "Name: Country, dtype: object"
      ]
     },
     "execution_count": 98,
     "metadata": {},
     "output_type": "execute_result"
    }
   ],
   "source": [
    "local_sea_level_stations[\"Country\"]"
   ]
  },
  {
   "cell_type": "code",
   "execution_count": 99,
   "metadata": {
    "collapsed": false
   },
   "outputs": [
    {
     "data": {
      "text/plain": [
       "count     1486\n",
       "unique     135\n",
       "top        USA\n",
       "freq       178\n",
       "Name: Country, dtype: object"
      ]
     },
     "execution_count": 99,
     "metadata": {},
     "output_type": "execute_result"
    }
   ],
   "source": [
    "local_sea_level_stations[\"Country\"].describe()"
   ]
  },
  {
   "cell_type": "code",
   "execution_count": 100,
   "metadata": {
    "collapsed": false
   },
   "outputs": [
    {
     "data": {
      "text/plain": [
       "array(['ALA', 'ASM', 'ATA', 'ARG', 'AUS', 'BHS', 'BHR', 'BGD', 'BEL',\n",
       "       'BMU', 'BRA', 'IOT', 'BGR', 'CAN', 'CPV', 'CYM', 'CHL', 'CHN',\n",
       "       'CCK', 'COL', 'COG', 'COK', 'CRI', 'CIV', 'HRV', 'CUB', 'CYP',\n",
       "       'DNK', 'DOM', 'ECU', 'EGY', 'SLV', 'EST', 'FLK', 'FRO', 'FJI',\n",
       "       'FIN', 'FRA', 'GUF', 'PYF', 'GEO', 'DEU', 'GHA', 'GIB', 'GRC',\n",
       "       'GRD', 'GLP', 'GUM', 'GTM', 'HTI', 'HND', 'HKG', 'ISL', 'IND',\n",
       "       'IDN', 'IRN', 'IRL', 'IMN', 'ISR', 'ITA', 'JAM', 'JPN', 'JEY',\n",
       "       'KEN', 'KIR', 'PRK', 'KOR', 'LVA', 'LTU', 'MAC', 'MDG', 'MYS',\n",
       "       'MDV', 'MLT', 'MHL', 'MTQ', 'MUS', 'MYT', 'MEX', 'FSM', 'MCO',\n",
       "       'MNE', 'MAR', 'MOZ', 'MMR', 'NAM', 'NRU', 'NLD', 'NCL', 'NZL',\n",
       "       'NGA', 'MNP', 'NOR', 'OMN', 'PAK', 'PLW', 'PAN', 'PNG', 'PER',\n",
       "       'PHL', 'POL', 'PRT', 'PRI', 'REU', 'ROU', 'RUS', 'SHN', 'WSM',\n",
       "       'SEN', 'SYC', 'SGP', 'SVN', 'SLB', 'ZAF', 'ESP', 'SDN', 'SJM',\n",
       "       'SWE', 'TWN', 'TZA', 'THA', 'TON', 'TTO', 'TUR', 'TUV', 'UKR',\n",
       "       'GBR', 'USA', 'UMI', 'URY', 'VUT', 'VEN', 'VNM', 'VIR', 'YEM'], dtype=object)"
      ]
     },
     "execution_count": 100,
     "metadata": {},
     "output_type": "execute_result"
    }
   ],
   "source": [
    "# List of unique values:\n",
    "local_sea_level_stations[\"Country\"].unique()"
   ]
  },
  {
   "cell_type": "code",
   "execution_count": 101,
   "metadata": {
    "collapsed": false
   },
   "outputs": [
    {
     "data": {
      "text/plain": [
       "USA    178\n",
       "JPN    139\n",
       "AUS     93\n",
       "RUS     86\n",
       "CAN     82\n",
       "GBR     70\n",
       "ESP     61\n",
       "ITA     44\n",
       "      ... \n",
       "SYC      1\n",
       "VUT      1\n",
       "MDG      1\n",
       "MAR      1\n",
       "CIV      1\n",
       "MAC      1\n",
       "GIB      1\n",
       "UKR      1\n",
       "Name: Country, dtype: int64"
      ]
     },
     "execution_count": 101,
     "metadata": {},
     "output_type": "execute_result"
    }
   ],
   "source": [
    "local_sea_level_stations[\"Country\"].value_counts()"
   ]
  },
  {
   "cell_type": "code",
   "execution_count": 102,
   "metadata": {
    "collapsed": false
   },
   "outputs": [],
   "source": [
    "# To save memory, we can convert it to a categorical column:\n",
    "local_sea_level_stations[\"Country\"] = local_sea_level_stations[\"Country\"].astype(\"category\")"
   ]
  },
  {
   "cell_type": "markdown",
   "metadata": {},
   "source": [
    "We can also create categorical series from continuous ones with the cut function:"
   ]
  },
  {
   "cell_type": "code",
   "execution_count": 103,
   "metadata": {
    "collapsed": false
   },
   "outputs": [
    {
     "data": {
      "text/plain": [
       "year\n",
       "1880      L\n",
       "1881      L\n",
       "1882      L\n",
       "1883      L\n",
       "1884      L\n",
       "1885      L\n",
       "1886      L\n",
       "1887      L\n",
       "       ... \n",
       "2004      H\n",
       "2005      H\n",
       "2006      H\n",
       "2007      H\n",
       "2008      H\n",
       "2009      H\n",
       "2010    NaN\n",
       "2011    NaN\n",
       "Freq: A-DEC, Name: mean temp, dtype: category\n",
       "Categories (3, object): [L < M < H]"
      ]
     },
     "execution_count": 103,
     "metadata": {},
     "output_type": "execute_result"
    }
   ],
   "source": [
    "categorized = pd.cut(full_globe_temp, 3, labels=[\"L\", \"M\", \"H\"])\n",
    "categorized"
   ]
  },
  {
   "cell_type": "code",
   "execution_count": 104,
   "metadata": {
    "collapsed": false
   },
   "outputs": [
    {
     "data": {
      "text/plain": [
       "Index(['L', 'M', 'H'], dtype='object')"
      ]
     },
     "execution_count": 104,
     "metadata": {},
     "output_type": "execute_result"
    }
   ],
   "source": [
    "# The advantage is that we can use labels and control the order they should be treated in (L < M < H)\n",
    "categorized.cat.categories"
   ]
  },
  {
   "cell_type": "markdown",
   "metadata": {},
   "source": [
    "**QUIZ:** How much memory did we save? What if it was categorized but with dtype `object` instead of `category`?"
   ]
  },
  {
   "cell_type": "markdown",
   "metadata": {},
   "source": [
    "## 9. Data Aggregation/summarization"
   ]
  },
  {
   "cell_type": "markdown",
   "metadata": {},
   "source": [
    "Now that we have a good grasp on our datasets, Let's transform and analyze them some more to prepare them to compare them. The 2 function(alities)s to learn about here are `groupby` and `pivot_table`."
   ]
  },
  {
   "cell_type": "markdown",
   "metadata": {},
   "source": [
    "### GroupBy"
   ]
  },
  {
   "cell_type": "markdown",
   "metadata": {},
   "source": [
    "Let's explore the sea levels, first splitting into calendar years to compute average sea levels for each year:"
   ]
  },
  {
   "cell_type": "code",
   "execution_count": 105,
   "metadata": {
    "collapsed": false
   },
   "outputs": [
    {
     "data": {
      "text/html": [
       "<div>\n",
       "<table border=\"1\" class=\"dataframe\">\n",
       "  <thead>\n",
       "    <tr style=\"text-align: right;\">\n",
       "      <th></th>\n",
       "      <th>northern_hem</th>\n",
       "      <th>southern_hem</th>\n",
       "      <th>mean_global</th>\n",
       "    </tr>\n",
       "    <tr>\n",
       "      <th>date</th>\n",
       "      <th></th>\n",
       "      <th></th>\n",
       "      <th></th>\n",
       "    </tr>\n",
       "  </thead>\n",
       "  <tbody>\n",
       "    <tr>\n",
       "      <th>1992.9323</th>\n",
       "      <td>13.717</td>\n",
       "      <td>2.517</td>\n",
       "      <td>NaN</td>\n",
       "    </tr>\n",
       "    <tr>\n",
       "      <th>1992.9595</th>\n",
       "      <td>1.328</td>\n",
       "      <td>-7.645</td>\n",
       "      <td>-5.818</td>\n",
       "    </tr>\n",
       "    <tr>\n",
       "      <th>1992.9866</th>\n",
       "      <td>-13.375</td>\n",
       "      <td>-2.267</td>\n",
       "      <td>-7.525</td>\n",
       "    </tr>\n",
       "    <tr>\n",
       "      <th>1993.0138</th>\n",
       "      <td>-24.723</td>\n",
       "      <td>0.855</td>\n",
       "      <td>-9.215</td>\n",
       "    </tr>\n",
       "    <tr>\n",
       "      <th>1993.0409</th>\n",
       "      <td>-29.231</td>\n",
       "      <td>-2.020</td>\n",
       "      <td>-11.796</td>\n",
       "    </tr>\n",
       "    <tr>\n",
       "      <th>1993.0681</th>\n",
       "      <td>-32.538</td>\n",
       "      <td>-0.398</td>\n",
       "      <td>-11.291</td>\n",
       "    </tr>\n",
       "    <tr>\n",
       "      <th>1993.0952</th>\n",
       "      <td>-35.588</td>\n",
       "      <td>4.102</td>\n",
       "      <td>-9.569</td>\n",
       "    </tr>\n",
       "    <tr>\n",
       "      <th>1993.1223</th>\n",
       "      <td>-26.579</td>\n",
       "      <td>6.787</td>\n",
       "      <td>-3.714</td>\n",
       "    </tr>\n",
       "    <tr>\n",
       "      <th>...</th>\n",
       "      <td>...</td>\n",
       "      <td>...</td>\n",
       "      <td>...</td>\n",
       "    </tr>\n",
       "    <tr>\n",
       "      <th>2016.3611</th>\n",
       "      <td>56.282</td>\n",
       "      <td>66.331</td>\n",
       "      <td>NaN</td>\n",
       "    </tr>\n",
       "    <tr>\n",
       "      <th>2016.3883</th>\n",
       "      <td>63.273</td>\n",
       "      <td>64.067</td>\n",
       "      <td>NaN</td>\n",
       "    </tr>\n",
       "    <tr>\n",
       "      <th>2016.4154</th>\n",
       "      <td>69.371</td>\n",
       "      <td>68.305</td>\n",
       "      <td>NaN</td>\n",
       "    </tr>\n",
       "    <tr>\n",
       "      <th>2016.4426</th>\n",
       "      <td>75.595</td>\n",
       "      <td>67.053</td>\n",
       "      <td>NaN</td>\n",
       "    </tr>\n",
       "    <tr>\n",
       "      <th>2016.4697</th>\n",
       "      <td>80.087</td>\n",
       "      <td>65.238</td>\n",
       "      <td>NaN</td>\n",
       "    </tr>\n",
       "    <tr>\n",
       "      <th>2016.4969</th>\n",
       "      <td>81.619</td>\n",
       "      <td>54.950</td>\n",
       "      <td>NaN</td>\n",
       "    </tr>\n",
       "    <tr>\n",
       "      <th>2016.5240</th>\n",
       "      <td>83.580</td>\n",
       "      <td>53.514</td>\n",
       "      <td>NaN</td>\n",
       "    </tr>\n",
       "    <tr>\n",
       "      <th>2016.5512</th>\n",
       "      <td>87.190</td>\n",
       "      <td>55.389</td>\n",
       "      <td>NaN</td>\n",
       "    </tr>\n",
       "  </tbody>\n",
       "</table>\n",
       "<p>869 rows × 3 columns</p>\n",
       "</div>"
      ],
      "text/plain": [
       "           northern_hem  southern_hem  mean_global\n",
       "date                                              \n",
       "1992.9323        13.717         2.517          NaN\n",
       "1992.9595         1.328        -7.645       -5.818\n",
       "1992.9866       -13.375        -2.267       -7.525\n",
       "1993.0138       -24.723         0.855       -9.215\n",
       "1993.0409       -29.231        -2.020      -11.796\n",
       "1993.0681       -32.538        -0.398      -11.291\n",
       "1993.0952       -35.588         4.102       -9.569\n",
       "1993.1223       -26.579         6.787       -3.714\n",
       "...                 ...           ...          ...\n",
       "2016.3611        56.282        66.331          NaN\n",
       "2016.3883        63.273        64.067          NaN\n",
       "2016.4154        69.371        68.305          NaN\n",
       "2016.4426        75.595        67.053          NaN\n",
       "2016.4697        80.087        65.238          NaN\n",
       "2016.4969        81.619        54.950          NaN\n",
       "2016.5240        83.580        53.514          NaN\n",
       "2016.5512        87.190        55.389          NaN\n",
       "\n",
       "[869 rows x 3 columns]"
      ]
     },
     "execution_count": 105,
     "metadata": {},
     "output_type": "execute_result"
    }
   ],
   "source": [
    "mean_sea_level"
   ]
  },
  {
   "cell_type": "code",
   "execution_count": 106,
   "metadata": {
    "collapsed": false
   },
   "outputs": [
    {
     "data": {
      "text/html": [
       "<div>\n",
       "<table border=\"1\" class=\"dataframe\">\n",
       "  <thead>\n",
       "    <tr style=\"text-align: right;\">\n",
       "      <th></th>\n",
       "      <th>date</th>\n",
       "      <th>northern_hem</th>\n",
       "      <th>southern_hem</th>\n",
       "      <th>mean_global</th>\n",
       "    </tr>\n",
       "  </thead>\n",
       "  <tbody>\n",
       "    <tr>\n",
       "      <th>0</th>\n",
       "      <td>1992.9323</td>\n",
       "      <td>13.717</td>\n",
       "      <td>2.517</td>\n",
       "      <td>NaN</td>\n",
       "    </tr>\n",
       "    <tr>\n",
       "      <th>1</th>\n",
       "      <td>1992.9595</td>\n",
       "      <td>1.328</td>\n",
       "      <td>-7.645</td>\n",
       "      <td>-5.818</td>\n",
       "    </tr>\n",
       "    <tr>\n",
       "      <th>2</th>\n",
       "      <td>1992.9866</td>\n",
       "      <td>-13.375</td>\n",
       "      <td>-2.267</td>\n",
       "      <td>-7.525</td>\n",
       "    </tr>\n",
       "    <tr>\n",
       "      <th>3</th>\n",
       "      <td>1993.0138</td>\n",
       "      <td>-24.723</td>\n",
       "      <td>0.855</td>\n",
       "      <td>-9.215</td>\n",
       "    </tr>\n",
       "    <tr>\n",
       "      <th>4</th>\n",
       "      <td>1993.0409</td>\n",
       "      <td>-29.231</td>\n",
       "      <td>-2.020</td>\n",
       "      <td>-11.796</td>\n",
       "    </tr>\n",
       "    <tr>\n",
       "      <th>5</th>\n",
       "      <td>1993.0681</td>\n",
       "      <td>-32.538</td>\n",
       "      <td>-0.398</td>\n",
       "      <td>-11.291</td>\n",
       "    </tr>\n",
       "    <tr>\n",
       "      <th>6</th>\n",
       "      <td>1993.0952</td>\n",
       "      <td>-35.588</td>\n",
       "      <td>4.102</td>\n",
       "      <td>-9.569</td>\n",
       "    </tr>\n",
       "    <tr>\n",
       "      <th>7</th>\n",
       "      <td>1993.1223</td>\n",
       "      <td>-26.579</td>\n",
       "      <td>6.787</td>\n",
       "      <td>-3.714</td>\n",
       "    </tr>\n",
       "    <tr>\n",
       "      <th>...</th>\n",
       "      <td>...</td>\n",
       "      <td>...</td>\n",
       "      <td>...</td>\n",
       "      <td>...</td>\n",
       "    </tr>\n",
       "    <tr>\n",
       "      <th>861</th>\n",
       "      <td>2016.3611</td>\n",
       "      <td>56.282</td>\n",
       "      <td>66.331</td>\n",
       "      <td>NaN</td>\n",
       "    </tr>\n",
       "    <tr>\n",
       "      <th>862</th>\n",
       "      <td>2016.3883</td>\n",
       "      <td>63.273</td>\n",
       "      <td>64.067</td>\n",
       "      <td>NaN</td>\n",
       "    </tr>\n",
       "    <tr>\n",
       "      <th>863</th>\n",
       "      <td>2016.4154</td>\n",
       "      <td>69.371</td>\n",
       "      <td>68.305</td>\n",
       "      <td>NaN</td>\n",
       "    </tr>\n",
       "    <tr>\n",
       "      <th>864</th>\n",
       "      <td>2016.4426</td>\n",
       "      <td>75.595</td>\n",
       "      <td>67.053</td>\n",
       "      <td>NaN</td>\n",
       "    </tr>\n",
       "    <tr>\n",
       "      <th>865</th>\n",
       "      <td>2016.4697</td>\n",
       "      <td>80.087</td>\n",
       "      <td>65.238</td>\n",
       "      <td>NaN</td>\n",
       "    </tr>\n",
       "    <tr>\n",
       "      <th>866</th>\n",
       "      <td>2016.4969</td>\n",
       "      <td>81.619</td>\n",
       "      <td>54.950</td>\n",
       "      <td>NaN</td>\n",
       "    </tr>\n",
       "    <tr>\n",
       "      <th>867</th>\n",
       "      <td>2016.5240</td>\n",
       "      <td>83.580</td>\n",
       "      <td>53.514</td>\n",
       "      <td>NaN</td>\n",
       "    </tr>\n",
       "    <tr>\n",
       "      <th>868</th>\n",
       "      <td>2016.5512</td>\n",
       "      <td>87.190</td>\n",
       "      <td>55.389</td>\n",
       "      <td>NaN</td>\n",
       "    </tr>\n",
       "  </tbody>\n",
       "</table>\n",
       "<p>869 rows × 4 columns</p>\n",
       "</div>"
      ],
      "text/plain": [
       "          date  northern_hem  southern_hem  mean_global\n",
       "0    1992.9323        13.717         2.517          NaN\n",
       "1    1992.9595         1.328        -7.645       -5.818\n",
       "2    1992.9866       -13.375        -2.267       -7.525\n",
       "3    1993.0138       -24.723         0.855       -9.215\n",
       "4    1993.0409       -29.231        -2.020      -11.796\n",
       "5    1993.0681       -32.538        -0.398      -11.291\n",
       "6    1993.0952       -35.588         4.102       -9.569\n",
       "7    1993.1223       -26.579         6.787       -3.714\n",
       "..         ...           ...           ...          ...\n",
       "861  2016.3611        56.282        66.331          NaN\n",
       "862  2016.3883        63.273        64.067          NaN\n",
       "863  2016.4154        69.371        68.305          NaN\n",
       "864  2016.4426        75.595        67.053          NaN\n",
       "865  2016.4697        80.087        65.238          NaN\n",
       "866  2016.4969        81.619        54.950          NaN\n",
       "867  2016.5240        83.580        53.514          NaN\n",
       "868  2016.5512        87.190        55.389          NaN\n",
       "\n",
       "[869 rows x 4 columns]"
      ]
     },
     "execution_count": 106,
     "metadata": {},
     "output_type": "execute_result"
    }
   ],
   "source": [
    "mean_sea_level = mean_sea_level.reset_index()\n",
    "mean_sea_level"
   ]
  },
  {
   "cell_type": "code",
   "execution_count": 107,
   "metadata": {
    "collapsed": false
   },
   "outputs": [
    {
     "data": {
      "text/html": [
       "<div>\n",
       "<table border=\"1\" class=\"dataframe\">\n",
       "  <thead>\n",
       "    <tr style=\"text-align: right;\">\n",
       "      <th></th>\n",
       "      <th>date</th>\n",
       "      <th>northern_hem</th>\n",
       "      <th>southern_hem</th>\n",
       "      <th>mean_global</th>\n",
       "      <th>year</th>\n",
       "    </tr>\n",
       "  </thead>\n",
       "  <tbody>\n",
       "    <tr>\n",
       "      <th>0</th>\n",
       "      <td>1992.9323</td>\n",
       "      <td>13.717</td>\n",
       "      <td>2.517</td>\n",
       "      <td>NaN</td>\n",
       "      <td>1992</td>\n",
       "    </tr>\n",
       "    <tr>\n",
       "      <th>1</th>\n",
       "      <td>1992.9595</td>\n",
       "      <td>1.328</td>\n",
       "      <td>-7.645</td>\n",
       "      <td>-5.818</td>\n",
       "      <td>1992</td>\n",
       "    </tr>\n",
       "    <tr>\n",
       "      <th>2</th>\n",
       "      <td>1992.9866</td>\n",
       "      <td>-13.375</td>\n",
       "      <td>-2.267</td>\n",
       "      <td>-7.525</td>\n",
       "      <td>1992</td>\n",
       "    </tr>\n",
       "    <tr>\n",
       "      <th>3</th>\n",
       "      <td>1993.0138</td>\n",
       "      <td>-24.723</td>\n",
       "      <td>0.855</td>\n",
       "      <td>-9.215</td>\n",
       "      <td>1993</td>\n",
       "    </tr>\n",
       "    <tr>\n",
       "      <th>4</th>\n",
       "      <td>1993.0409</td>\n",
       "      <td>-29.231</td>\n",
       "      <td>-2.020</td>\n",
       "      <td>-11.796</td>\n",
       "      <td>1993</td>\n",
       "    </tr>\n",
       "    <tr>\n",
       "      <th>5</th>\n",
       "      <td>1993.0681</td>\n",
       "      <td>-32.538</td>\n",
       "      <td>-0.398</td>\n",
       "      <td>-11.291</td>\n",
       "      <td>1993</td>\n",
       "    </tr>\n",
       "    <tr>\n",
       "      <th>6</th>\n",
       "      <td>1993.0952</td>\n",
       "      <td>-35.588</td>\n",
       "      <td>4.102</td>\n",
       "      <td>-9.569</td>\n",
       "      <td>1993</td>\n",
       "    </tr>\n",
       "    <tr>\n",
       "      <th>7</th>\n",
       "      <td>1993.1223</td>\n",
       "      <td>-26.579</td>\n",
       "      <td>6.787</td>\n",
       "      <td>-3.714</td>\n",
       "      <td>1993</td>\n",
       "    </tr>\n",
       "    <tr>\n",
       "      <th>...</th>\n",
       "      <td>...</td>\n",
       "      <td>...</td>\n",
       "      <td>...</td>\n",
       "      <td>...</td>\n",
       "      <td>...</td>\n",
       "    </tr>\n",
       "    <tr>\n",
       "      <th>861</th>\n",
       "      <td>2016.3611</td>\n",
       "      <td>56.282</td>\n",
       "      <td>66.331</td>\n",
       "      <td>NaN</td>\n",
       "      <td>2016</td>\n",
       "    </tr>\n",
       "    <tr>\n",
       "      <th>862</th>\n",
       "      <td>2016.3883</td>\n",
       "      <td>63.273</td>\n",
       "      <td>64.067</td>\n",
       "      <td>NaN</td>\n",
       "      <td>2016</td>\n",
       "    </tr>\n",
       "    <tr>\n",
       "      <th>863</th>\n",
       "      <td>2016.4154</td>\n",
       "      <td>69.371</td>\n",
       "      <td>68.305</td>\n",
       "      <td>NaN</td>\n",
       "      <td>2016</td>\n",
       "    </tr>\n",
       "    <tr>\n",
       "      <th>864</th>\n",
       "      <td>2016.4426</td>\n",
       "      <td>75.595</td>\n",
       "      <td>67.053</td>\n",
       "      <td>NaN</td>\n",
       "      <td>2016</td>\n",
       "    </tr>\n",
       "    <tr>\n",
       "      <th>865</th>\n",
       "      <td>2016.4697</td>\n",
       "      <td>80.087</td>\n",
       "      <td>65.238</td>\n",
       "      <td>NaN</td>\n",
       "      <td>2016</td>\n",
       "    </tr>\n",
       "    <tr>\n",
       "      <th>866</th>\n",
       "      <td>2016.4969</td>\n",
       "      <td>81.619</td>\n",
       "      <td>54.950</td>\n",
       "      <td>NaN</td>\n",
       "      <td>2016</td>\n",
       "    </tr>\n",
       "    <tr>\n",
       "      <th>867</th>\n",
       "      <td>2016.5240</td>\n",
       "      <td>83.580</td>\n",
       "      <td>53.514</td>\n",
       "      <td>NaN</td>\n",
       "      <td>2016</td>\n",
       "    </tr>\n",
       "    <tr>\n",
       "      <th>868</th>\n",
       "      <td>2016.5512</td>\n",
       "      <td>87.190</td>\n",
       "      <td>55.389</td>\n",
       "      <td>NaN</td>\n",
       "      <td>2016</td>\n",
       "    </tr>\n",
       "  </tbody>\n",
       "</table>\n",
       "<p>869 rows × 5 columns</p>\n",
       "</div>"
      ],
      "text/plain": [
       "          date  northern_hem  southern_hem  mean_global  year\n",
       "0    1992.9323        13.717         2.517          NaN  1992\n",
       "1    1992.9595         1.328        -7.645       -5.818  1992\n",
       "2    1992.9866       -13.375        -2.267       -7.525  1992\n",
       "3    1993.0138       -24.723         0.855       -9.215  1993\n",
       "4    1993.0409       -29.231        -2.020      -11.796  1993\n",
       "5    1993.0681       -32.538        -0.398      -11.291  1993\n",
       "6    1993.0952       -35.588         4.102       -9.569  1993\n",
       "7    1993.1223       -26.579         6.787       -3.714  1993\n",
       "..         ...           ...           ...          ...   ...\n",
       "861  2016.3611        56.282        66.331          NaN  2016\n",
       "862  2016.3883        63.273        64.067          NaN  2016\n",
       "863  2016.4154        69.371        68.305          NaN  2016\n",
       "864  2016.4426        75.595        67.053          NaN  2016\n",
       "865  2016.4697        80.087        65.238          NaN  2016\n",
       "866  2016.4969        81.619        54.950          NaN  2016\n",
       "867  2016.5240        83.580        53.514          NaN  2016\n",
       "868  2016.5512        87.190        55.389          NaN  2016\n",
       "\n",
       "[869 rows x 5 columns]"
      ]
     },
     "execution_count": 107,
     "metadata": {},
     "output_type": "execute_result"
    }
   ],
   "source": [
    "# Groupby with pandas can be done on a column or by applying a custom function to the index. \n",
    "# If we want to group the data by year, we can build a year column into the DF:\n",
    "mean_sea_level[\"year\"] = mean_sea_level[\"date\"].apply(int)\n",
    "mean_sea_level"
   ]
  },
  {
   "cell_type": "code",
   "execution_count": 108,
   "metadata": {
    "collapsed": false
   },
   "outputs": [],
   "source": [
    "sl_grouped_year = mean_sea_level.groupby(\"year\")"
   ]
  },
  {
   "cell_type": "markdown",
   "metadata": {},
   "source": [
    "What kind of object did we create?"
   ]
  },
  {
   "cell_type": "code",
   "execution_count": 109,
   "metadata": {
    "collapsed": false
   },
   "outputs": [
    {
     "data": {
      "text/plain": [
       "pandas.core.groupby.DataFrameGroupBy"
      ]
     },
     "execution_count": 109,
     "metadata": {},
     "output_type": "execute_result"
    }
   ],
   "source": [
    "type(sl_grouped_year)"
   ]
  },
  {
   "cell_type": "markdown",
   "metadata": {},
   "source": [
    "What to do with that strange GroupBy object? We can first loop over it to get the labels and the sub-dataframes for each group:"
   ]
  },
  {
   "cell_type": "code",
   "execution_count": 110,
   "metadata": {
    "collapsed": false
   },
   "outputs": [
    {
     "name": "stdout",
     "output_type": "stream",
     "text": [
      "1992\n",
      "        date  northern_hem  southern_hem  mean_global  year\n",
      "0  1992.9323        13.717         2.517          NaN  1992\n",
      "1  1992.9595         1.328        -7.645       -5.818  1992\n",
      "2  1992.9866       -13.375        -2.267       -7.525  1992\n",
      "\n",
      "1993\n",
      "         date  northern_hem  southern_hem  mean_global  year\n",
      "3   1993.0138       -24.723         0.855       -9.215  1993\n",
      "4   1993.0409       -29.231        -2.020      -11.796  1993\n",
      "5   1993.0681       -32.538        -0.398      -11.291  1993\n",
      "6   1993.0952       -35.588         4.102       -9.569  1993\n",
      "7   1993.1223       -26.579         6.787       -3.714  1993\n",
      "8   1993.1495       -29.622        10.315       -2.471  1993\n",
      "9   1993.1766       -34.527         5.919       -6.784  1993\n",
      "10  1993.2038       -34.250         7.193       -5.772  1993\n",
      "..        ...           ...           ...          ...   ...\n",
      "32  1993.8010        30.541       -14.024       -1.886  1993\n",
      "33  1993.8282        18.240       -14.008          NaN  1993\n",
      "34  1993.8553         8.044        -9.115       -7.186  1993\n",
      "35  1993.8825        10.529        -7.718       -4.588  1993\n",
      "36  1993.9096        10.772        -6.169       -2.648  1993\n",
      "37  1993.9368        10.732        -4.656       -0.795  1993\n",
      "38  1993.9639         1.704         3.492        1.461  1993\n",
      "39  1993.9911        -8.579        -0.251       -3.859  1993\n",
      "\n",
      "[37 rows x 5 columns]\n",
      "\n",
      "1994\n",
      "         date  northern_hem  southern_hem  mean_global  year\n",
      "40  1994.0182       -14.764        -1.078       -5.904  1994\n",
      "41  1994.0454       -12.663         3.887       -1.261  1994\n",
      "42  1994.0725       -19.485        13.173        2.404  1994\n",
      "43  1994.0997       -23.443         8.984       -1.173  1994\n",
      "44  1994.1268       -31.320         4.399       -6.507  1994\n",
      "45  1994.1540       -37.411         1.308      -10.638  1994\n",
      "46  1994.1811       -35.844        13.495       -2.544  1994\n",
      "47  1994.2083       -20.794        10.220          NaN  1994\n",
      "..        ...           ...           ...          ...   ...\n",
      "69  1994.8055        18.954       -10.939       -4.447  1994\n",
      "70  1994.8327        14.186       -10.363       -5.614  1994\n",
      "71  1994.8598        19.882         4.403          NaN  1994\n",
      "72  1994.8870        16.490       -10.154       -3.240  1994\n",
      "73  1994.9141        -0.195       -12.189      -10.229  1994\n",
      "74  1994.9413        -0.438        -9.834       -7.929  1994\n",
      "75  1994.9684        -6.651        -2.703       -5.132  1994\n",
      "76  1994.9956       -12.734         7.809       -0.212  1994\n",
      "\n",
      "[37 rows x 5 columns]\n",
      "\n",
      "1995\n",
      "          date  northern_hem  southern_hem  mean_global  year\n",
      "77   1995.0227       -16.869        13.406        2.458  1995\n",
      "78   1995.0499       -16.734        11.835        2.365  1995\n",
      "79   1995.0770       -24.215        17.897        3.806  1995\n",
      "80   1995.1042       -32.395        10.742       -3.379  1995\n",
      "81   1995.1313       -37.790         4.341       -8.843  1995\n",
      "82   1995.1585       -30.054        11.276       -1.374  1995\n",
      "83   1995.1856       -18.882        24.336          NaN  1995\n",
      "84   1995.2128       -29.813        21.872        5.367  1995\n",
      "..         ...           ...           ...          ...   ...\n",
      "104  1995.7557        26.196       -16.096       -4.116  1995\n",
      "105  1995.7829        26.565       -18.685       -5.580  1995\n",
      "106  1995.8100        18.206       -11.709          NaN  1995\n",
      "107  1995.8372        20.199        -7.319       -1.007  1995\n",
      "108  1995.8643        22.797        -8.014        0.257  1995\n",
      "109  1995.8915        20.865       -10.144       -0.928  1995\n",
      "110  1995.9458         3.133       -10.152       -6.178  1995\n",
      "111  1995.9729         3.723         4.050        3.549  1995\n",
      "\n",
      "[35 rows x 5 columns]\n",
      "\n",
      "1996\n",
      "          date  northern_hem  southern_hem  mean_global  year\n",
      "112  1996.0000        -8.298         8.021        2.121  1996\n",
      "113  1996.0272       -15.226         4.369       -1.907  1996\n",
      "114  1996.0543       -19.351         0.676       -5.008  1996\n",
      "115  1996.0815       -27.781         1.914       -6.979  1996\n",
      "116  1996.1086       -32.942         8.965       -4.363  1996\n",
      "117  1996.1358       -26.880        14.640          NaN  1996\n",
      "118  1996.1629       -25.254        18.665        5.333  1996\n",
      "119  1996.1901       -31.981        14.792        0.404  1996\n",
      "..         ...           ...           ...          ...   ...\n",
      "141  1996.7873        16.485       -16.277          NaN  1996\n",
      "142  1996.8145        23.172        -7.566        0.035  1996\n",
      "143  1996.8416        27.836        -5.890        3.471  1996\n",
      "144  1996.8688        25.333        -9.022        1.228  1996\n",
      "145  1996.8959         8.147        -5.264       -2.764  1996\n",
      "146  1996.9231         6.546        -0.403        0.452  1996\n",
      "147  1996.9502         3.238         7.443        4.804  1996\n",
      "148  1996.9774         0.742         5.352        3.602  1996\n",
      "\n",
      "[37 rows x 5 columns]\n",
      "\n",
      "1997\n",
      "          date  northern_hem  southern_hem  mean_global  year\n",
      "149  1997.0045        -6.439         5.169        1.636  1997\n",
      "150  1997.0317       -11.603         3.083       -0.803  1997\n",
      "151  1997.0588       -27.445         5.189       -5.010  1997\n",
      "152  1997.0860       -24.603        12.049        0.989  1997\n",
      "153  1997.1131       -32.545         2.174          NaN  1997\n",
      "154  1997.1403       -22.992        13.187        3.083  1997\n",
      "155  1997.1674       -21.150         9.064        1.468  1997\n",
      "156  1997.1946       -28.745         8.237       -1.823  1997\n",
      "..         ...           ...           ...          ...   ...\n",
      "178  1997.7918        41.540         4.793       14.829  1997\n",
      "179  1997.8190        33.572         6.671       12.947  1997\n",
      "180  1997.8461        23.610        10.016       11.460  1997\n",
      "181  1997.8733        10.445        13.478        8.891  1997\n",
      "182  1997.9004        12.106        14.756       11.173  1997\n",
      "183  1997.9276        11.524        19.435       14.685  1997\n",
      "184  1997.9547         4.187        16.530       11.068  1997\n",
      "185  1997.9819        -7.182        21.664       10.593  1997\n",
      "\n",
      "[37 rows x 5 columns]\n",
      "\n",
      "1998\n",
      "          date  northern_hem  southern_hem  mean_global  year\n",
      "186  1998.0090       -18.303        17.642        4.736  1998\n",
      "187  1998.0362       -12.483        18.718        8.719  1998\n",
      "188  1998.0633       -25.377         9.945          NaN  1998\n",
      "189  1998.0905       -15.267        27.836       14.428  1998\n",
      "190  1998.1176       -14.355        25.288       13.615  1998\n",
      "191  1998.1448       -20.614        24.298       10.997  1998\n",
      "192  1998.1719       -21.860        18.501        7.134  1998\n",
      "193  1998.1990       -21.656        23.332       10.277  1998\n",
      "..         ...           ...           ...          ...   ...\n",
      "215  1998.7963        24.604       -28.239          NaN  1998\n",
      "216  1998.8235        40.522        -9.477        6.725  1998\n",
      "217  1998.8506        36.535        -6.496        7.464  1998\n",
      "218  1998.8777        37.038         1.925       13.388  1998\n",
      "219  1998.9049        25.888        -1.569        7.522  1998\n",
      "220  1998.9320        30.483         9.042       16.727  1998\n",
      "221  1998.9592        12.372         9.913       10.897  1998\n",
      "222  1998.9863         6.869         4.941        6.738  1998\n",
      "\n",
      "[37 rows x 5 columns]\n",
      "\n",
      "1999\n",
      "          date  northern_hem  southern_hem  mean_global  year\n",
      "223  1999.0135        -3.830        13.669        8.833  1999\n",
      "224  1999.0406        -2.387        21.230       14.662  1999\n",
      "225  1999.0678       -21.709         2.566          NaN  1999\n",
      "226  1999.0949        -5.048        13.182       10.119  1999\n",
      "227  1999.1221       -17.530        20.970       10.080  1999\n",
      "228  1999.1492       -18.436        16.705        7.655  1999\n",
      "229  1999.1764       -19.660        22.345       10.832  1999\n",
      "230  1999.2035       -13.171        20.341       12.249  1999\n",
      "..         ...           ...           ...          ...   ...\n",
      "252  1999.8008        34.355         2.509       11.388  1999\n",
      "253  1999.8279        34.834         5.045       13.432  1999\n",
      "254  1999.8551        42.485         4.787       16.967  1999\n",
      "255  1999.8822        36.612         5.828       15.993  1999\n",
      "256  1999.9094        28.903         5.765       13.563  1999\n",
      "257  1999.9365         7.769         7.551          NaN  1999\n",
      "258  1999.9637         7.359        17.264       13.728  1999\n",
      "259  1999.9908         3.449        24.124       17.333  1999\n",
      "\n",
      "[37 rows x 5 columns]\n",
      "\n",
      "2000\n",
      "          date  northern_hem  southern_hem  mean_global  year\n",
      "260  2000.0180        10.176        18.375       17.533  2000\n",
      "261  2000.0451         6.061        20.247       17.858  2000\n",
      "262  2000.0723        -6.104        24.273       16.159  2000\n",
      "263  2000.0994       -21.263        24.218       10.783  2000\n",
      "264  2000.1266       -15.703        21.589       11.807  2000\n",
      "265  2000.1537        -9.047        26.780       17.805  2000\n",
      "266  2000.1809       -10.735        29.419       18.971  2000\n",
      "267  2000.2080        -9.286        27.323       18.474  2000\n",
      "..         ...           ...           ...          ...   ...\n",
      "289  2000.8053        43.405         9.175       19.382  2000\n",
      "290  2000.8324        42.480         3.772          NaN  2000\n",
      "291  2000.8596        43.878        10.708       21.424  2000\n",
      "292  2000.8867        30.982        11.342       17.268  2000\n",
      "293  2000.9139        29.436        11.797       17.882  2000\n",
      "294  2000.9410        15.358        14.999       15.043  2000\n",
      "295  2000.9682        17.786        15.890       17.602  2000\n",
      "296  2000.9953        19.537        20.462       22.057  2000\n",
      "\n",
      "[37 rows x 5 columns]\n",
      "\n",
      "2001\n",
      "          date  northern_hem  southern_hem  mean_global  year\n",
      "297  2001.0225         7.732        19.694       17.812  2001\n",
      "298  2001.0496        -1.064         9.399          NaN  2001\n",
      "299  2001.0767       -13.165        26.607       15.095  2001\n",
      "300  2001.1039        -6.459        27.718       19.007  2001\n",
      "301  2001.1310        -1.461        25.099       19.868  2001\n",
      "302  2001.1582        -1.053        31.460       24.128  2001\n",
      "303  2001.1853        -5.181        34.418       24.451  2001\n",
      "304  2001.2125       -15.876        30.493       18.088  2001\n",
      "..         ...           ...           ...          ...   ...\n",
      "326  2001.8097        51.379         8.698       22.653  2001\n",
      "327  2001.8369        50.977        14.050       26.002  2001\n",
      "328  2001.8640        37.447        17.758       23.384  2001\n",
      "329  2001.8912        25.848        20.314       20.948  2001\n",
      "330  2001.9183        19.967        22.864       21.027  2001\n",
      "331  2001.9455        26.199        18.393       21.930  2001\n",
      "332  2001.9726        17.269        26.257       24.021  2001\n",
      "333  2001.9998        10.626        30.408       24.842  2001\n",
      "\n",
      "[37 rows x 5 columns]\n",
      "\n",
      "2002\n",
      "          date  northern_hem  southern_hem  mean_global  year\n",
      "334  2002.0269        -4.812        28.283       18.262  2002\n",
      "335  2002.0541        -5.577        30.166       19.437  2002\n",
      "336  2002.0812        -3.769        38.490       26.850  2002\n",
      "337  2002.1084         2.032        38.583       29.728  2002\n",
      "338  2002.1355         1.644        36.029       28.163  2002\n",
      "339  2002.1627        -8.796        38.791       23.377  2002\n",
      "340  2002.1898       -19.634        35.139       17.886  2002\n",
      "341  2002.2170       -15.731        35.783       20.958  2002\n",
      "..         ...           ...           ...          ...   ...\n",
      "362  2002.7871        58.563        16.982       30.754  2002\n",
      "363  2002.8142        56.392        18.809       31.080  2002\n",
      "364  2002.8414        43.217        14.710       23.692  2002\n",
      "365  2002.8685        36.530        21.482       25.621  2002\n",
      "366  2002.8957        37.029        33.326       33.671  2002\n",
      "367  2002.9228        32.933        28.857       30.318  2002\n",
      "368  2002.9500        30.865        26.055       28.853  2002\n",
      "369  2002.9771        15.771        31.447       26.970  2002\n",
      "\n",
      "[36 rows x 5 columns]\n",
      "\n",
      "2003\n",
      "          date  northern_hem  southern_hem  mean_global  year\n",
      "370  2003.0043         5.963        31.473       24.113  2003\n",
      "371  2003.0314         2.851        31.508       23.798  2003\n",
      "372  2003.0586         4.805        43.326       32.515  2003\n",
      "373  2003.0857        11.383        41.987       34.928  2003\n",
      "374  2003.1129         3.465        45.671       34.526  2003\n",
      "375  2003.1400        -7.422        34.322       23.710  2003\n",
      "376  2003.1672        -7.073        37.813       26.165  2003\n",
      "377  2003.1943        -6.972        41.401       28.678  2003\n",
      "..         ...           ...           ...          ...   ...\n",
      "399  2003.7916        56.984         9.884       26.229  2003\n",
      "400  2003.8187        51.042        15.270       27.206  2003\n",
      "401  2003.8459        47.689        17.865       27.779  2003\n",
      "402  2003.8730        50.523        19.480       30.516  2003\n",
      "403  2003.9002        38.028        23.465          NaN  2003\n",
      "404  2003.9273        38.324        24.332       30.318  2003\n",
      "405  2003.9544        28.413        23.719       26.939  2003\n",
      "406  2003.9816        20.909        24.111       25.179  2003\n",
      "\n",
      "[37 rows x 5 columns]\n",
      "\n",
      "2004\n",
      "          date  northern_hem  southern_hem  mean_global  year\n",
      "407  2004.0087        15.141        35.164       30.448  2004\n",
      "408  2004.0359        15.516        42.777       36.011  2004\n",
      "409  2004.0630         9.291        45.368       35.822  2004\n",
      "410  2004.0902         0.779        43.484       31.936  2004\n",
      "411  2004.1173        -8.565        29.311       20.438  2004\n",
      "412  2004.1445         4.549        38.408       31.004  2004\n",
      "413  2004.1716         4.706        37.540       31.054  2004\n",
      "414  2004.1988         8.429        40.072       34.182  2004\n",
      "..         ...           ...           ...          ...   ...\n",
      "436  2004.7960        59.767        14.801       30.720  2004\n",
      "437  2004.8232        49.215        25.103       32.614  2004\n",
      "438  2004.8503        52.121        27.575       35.760  2004\n",
      "439  2004.8775        55.696        23.664       35.617  2004\n",
      "440  2004.9046        39.797        22.644       29.439  2004\n",
      "441  2004.9318        33.859        26.647       30.321  2004\n",
      "442  2004.9589        28.070        34.103       33.447  2004\n",
      "443  2004.9861        30.828        45.432       42.391  2004\n",
      "\n",
      "[37 rows x 5 columns]\n",
      "\n",
      "2005\n",
      "          date  northern_hem  southern_hem  mean_global  year\n",
      "444  2005.0132        13.266        44.864       36.016  2005\n",
      "445  2005.0404         8.487        41.739       33.156  2005\n",
      "446  2005.0675         5.659        42.850       33.256  2005\n",
      "447  2005.0947         1.446        42.562       32.125  2005\n",
      "448  2005.1218         3.810        44.824       34.871  2005\n",
      "449  2005.1490         2.986        50.571       38.288  2005\n",
      "450  2005.1761        11.661        53.613       43.796  2005\n",
      "451  2005.2033         5.552        53.487       41.497  2005\n",
      "..         ...           ...           ...          ...   ...\n",
      "473  2005.8005        59.212        27.535       38.238  2005\n",
      "474  2005.8277        60.640        26.807       38.673  2005\n",
      "475  2005.8548        62.702        27.678       40.573  2005\n",
      "476  2005.8820        56.170        29.275       39.607  2005\n",
      "477  2005.9091        42.528        36.391       39.121  2005\n",
      "478  2005.9363        37.889        36.448       38.252  2005\n",
      "479  2005.9634        31.711        46.602       42.833  2005\n",
      "480  2005.9906        28.838        45.449       42.022  2005\n",
      "\n",
      "[37 rows x 5 columns]\n",
      "\n",
      "2006\n",
      "          date  northern_hem  southern_hem  mean_global  year\n",
      "481  2006.0177        15.208        40.995       34.920  2006\n",
      "482  2006.0449         9.615        40.183       33.051  2006\n",
      "483  2006.0720        11.103        42.116       35.496  2006\n",
      "484  2006.0992        12.648        43.330       37.377  2006\n",
      "485  2006.1263         1.121        54.380       39.798  2006\n",
      "486  2006.1534         4.234        50.949       39.271  2006\n",
      "487  2006.1806         3.625        51.639       39.790  2006\n",
      "488  2006.2077        -2.376        41.009       31.129  2006\n",
      "..         ...           ...           ...          ...   ...\n",
      "509  2006.7779        72.515        25.209       42.603  2006\n",
      "510  2006.8050        60.166        34.091       42.843  2006\n",
      "511  2006.8321        53.757        35.536          NaN  2006\n",
      "512  2006.8864        39.182        40.578       39.739  2006\n",
      "513  2006.9136        35.415        38.551       37.942  2006\n",
      "514  2006.9407        38.152        47.284       45.260  2006\n",
      "515  2006.9679        34.626        42.577       42.091  2006\n",
      "516  2006.9950        22.585        39.894       36.713  2006\n",
      "\n",
      "[36 rows x 5 columns]\n",
      "\n",
      "2007\n",
      "          date  northern_hem  southern_hem  mean_global  year\n",
      "517  2007.0222        14.020        39.105       33.873  2007\n",
      "518  2007.0493         6.764        39.398       31.887  2007\n",
      "519  2007.0765        12.670        47.309       39.598  2007\n",
      "520  2007.1036         7.893        50.473       40.276  2007\n",
      "521  2007.1308         2.065        50.542       38.291  2007\n",
      "522  2007.1579         1.877        52.641       39.852  2007\n",
      "523  2007.1851        -2.946        45.414       33.755  2007\n",
      "524  2007.2122        -4.152        47.918       34.891  2007\n",
      "..         ...           ...           ...          ...   ...\n",
      "546  2007.8095        59.060        22.833       36.094  2007\n",
      "547  2007.8366        51.554        24.945       34.622  2007\n",
      "548  2007.8638        47.467        36.165       40.161  2007\n",
      "549  2007.8909        51.270        40.482       45.064  2007\n",
      "550  2007.9181        43.922        41.457       43.596  2007\n",
      "551  2007.9452        38.697        40.180       41.739  2007\n",
      "552  2007.9724        28.495        31.595       33.547  2007\n",
      "553  2007.9995        21.967        34.136       33.442  2007\n",
      "\n",
      "[37 rows x 5 columns]\n",
      "\n",
      "2008\n",
      "          date  northern_hem  southern_hem  mean_global  year\n",
      "554  2008.0267        21.058        40.662       37.931  2008\n",
      "555  2008.0538        19.814        49.348       43.468  2008\n",
      "556  2008.0810        21.366        46.670       43.161  2008\n",
      "557  2008.1081         9.819        39.811       35.051  2008\n",
      "558  2008.1353         3.636        45.203       36.126  2008\n",
      "559  2008.1624        -1.445        45.221       34.481  2008\n",
      "560  2008.1896         0.857        52.063       39.613  2008\n",
      "561  2008.2167         5.715        53.753       42.747  2008\n",
      "..         ...           ...           ...          ...   ...\n",
      "582  2008.7868        62.449        26.224       39.684  2008\n",
      "583  2008.8140        58.994        31.039       41.257  2008\n",
      "584  2008.8411        57.145        34.752       43.062  2008\n",
      "585  2008.8683        57.446        38.421       46.017  2008\n",
      "586  2008.8954        51.724        37.105       43.723  2008\n",
      "587  2008.9226        47.520        40.971       45.242  2008\n",
      "588  2008.9497        35.003        40.331       40.793  2008\n",
      "589  2008.9769        27.860        42.238       40.079  2008\n",
      "\n",
      "[36 rows x 5 columns]\n",
      "\n",
      "2009\n",
      "          date  northern_hem  southern_hem  mean_global  year\n",
      "590  2009.0040        23.942        45.255       41.273  2009\n",
      "591  2009.0311        20.181        52.552       44.988  2009\n",
      "592  2009.0583        19.316        54.624       46.683  2009\n",
      "593  2009.0854         9.433        48.872       39.889  2009\n",
      "594  2009.1126         4.119        46.818       36.979  2009\n",
      "595  2009.1397         3.346        57.280       43.305  2009\n",
      "596  2009.1669         8.681        59.119       46.849  2009\n",
      "597  2009.1940        11.278        59.213       48.000  2009\n",
      "..         ...           ...           ...          ...   ...\n",
      "619  2009.7913        63.070        38.871       47.685  2009\n",
      "620  2009.8184        63.075        46.435       52.336  2009\n",
      "621  2009.8456        62.655        49.685       54.538  2009\n",
      "622  2009.8727        52.791        45.958       48.978  2009\n",
      "623  2009.8999        53.320        41.828       47.605  2009\n",
      "624  2009.9270        46.465        41.179       45.401  2009\n",
      "625  2009.9542        37.661        49.314       47.678  2009\n",
      "626  2009.9813        37.620        56.767       53.142  2009\n",
      "\n",
      "[37 rows x 5 columns]\n",
      "\n",
      "2010\n",
      "          date  northern_hem  southern_hem  mean_global  year\n",
      "627  2010.0085        31.284        53.366       49.536  2010\n",
      "628  2010.0356        25.411        51.109       46.686  2010\n",
      "629  2010.0628        12.342        54.702       44.267  2010\n",
      "630  2010.0899         8.114        50.866       40.904  2010\n",
      "631  2010.1171        12.005        58.937       47.728  2010\n",
      "632  2010.1442        19.827        63.416       53.985  2010\n",
      "633  2010.1714        21.825        64.558       55.642  2010\n",
      "634  2010.1985        14.246        54.671       46.863  2010\n",
      "..         ...           ...           ...          ...   ...\n",
      "656  2010.7958        73.332        35.395       50.165  2010\n",
      "657  2010.8229        66.836        36.806       48.586  2010\n",
      "658  2010.8501        58.128        34.763       44.281  2010\n",
      "659  2010.8772        52.196        33.227       41.655  2010\n",
      "660  2010.9044        41.361        35.411       39.390  2010\n",
      "661  2010.9315        41.026        44.128       45.394  2010\n",
      "662  2010.9587        38.633        45.985       46.572  2010\n",
      "663  2010.9858        34.141        46.744       46.239  2010\n",
      "\n",
      "[37 rows x 5 columns]\n",
      "\n",
      "2011\n",
      "          date  northern_hem  southern_hem  mean_global  year\n",
      "664  2011.0130        30.716        42.938       43.566  2011\n",
      "665  2011.0401        23.483        41.860       40.867  2011\n",
      "666  2011.0673        13.902        46.066       40.210  2011\n",
      "667  2011.0944         5.609        58.039       44.603  2011\n",
      "668  2011.1216        11.143        57.750       47.179  2011\n",
      "669  2011.1487        12.212        56.681       47.204  2011\n",
      "670  2011.1759         5.104        51.587       41.495  2011\n",
      "671  2011.2030        -3.162        52.335       38.762  2011\n",
      "..         ...           ...           ...          ...   ...\n",
      "693  2011.8003        72.225        41.945       53.828  2011\n",
      "694  2011.8274        63.727        35.358       46.806  2011\n",
      "695  2011.8546        58.443        33.233       43.885  2011\n",
      "696  2011.8817        49.444        39.057       44.402  2011\n",
      "697  2011.9089        48.666        52.376       52.858  2011\n",
      "698  2011.9360        51.497        49.351       53.230  2011\n",
      "699  2011.9631        45.172        45.614       49.491  2011\n",
      "700  2011.9903        36.838        48.626       48.917  2011\n",
      "\n",
      "[37 rows x 5 columns]\n",
      "\n",
      "2012\n",
      "          date  northern_hem  southern_hem  mean_global  year\n",
      "701  2012.0174        34.488        54.170       52.218  2012\n",
      "702  2012.0446        26.415        59.324       52.830  2012\n",
      "703  2012.0717        26.632        66.007       57.621  2012\n",
      "704  2012.0989        19.153        68.557       56.729  2012\n",
      "705  2012.1260        18.327        66.719       55.610  2012\n",
      "706  2012.1532        10.008        64.715       51.437  2012\n",
      "707  2012.1803        11.120        57.088       47.644  2012\n",
      "708  2012.2075        21.211        58.073       52.460  2012\n",
      "..         ...           ...           ...          ...   ...\n",
      "730  2012.8047        71.692        46.084       56.444  2012\n",
      "731  2012.8319        68.279        49.719       57.525  2012\n",
      "732  2012.8590        69.288        51.148       59.318  2012\n",
      "733  2012.8862        68.955        56.288       63.006  2012\n",
      "734  2012.9133        65.818        58.031       63.669  2012\n",
      "735  2012.9405        59.783        57.225       61.746  2012\n",
      "736  2012.9676        53.291        54.447       58.504  2012\n",
      "737  2012.9948        48.216        61.680       61.747  2012\n",
      "\n",
      "[37 rows x 5 columns]\n",
      "\n",
      "2013\n",
      "          date  northern_hem  southern_hem  mean_global  year\n",
      "738  2013.0219        41.826        64.677       61.889  2013\n",
      "739  2013.0491        42.422        66.982       64.321  2013\n",
      "740  2013.0762        39.225        67.524       63.984  2013\n",
      "741  2013.1034        31.808        67.212       61.167  2013\n",
      "742  2013.1305        25.700        65.306       58.161  2013\n",
      "743  2013.1577        22.666        66.361       57.881  2013\n",
      "744  2013.1848        22.479        76.215       63.789  2013\n",
      "745  2013.2120        30.486        74.929       66.444  2013\n",
      "..         ...           ...           ...          ...   ...\n",
      "767  2013.8092        78.021        49.384       61.335  2013\n",
      "768  2013.8364        75.166        51.062       61.503  2013\n",
      "769  2013.8635        68.294        56.361       62.432  2013\n",
      "770  2013.8907        65.842        58.415       63.435  2013\n",
      "771  2013.9178        55.578        58.389       60.160  2013\n",
      "772  2013.9450        47.291        53.524       54.927  2013\n",
      "773  2013.9721        45.383        59.871       58.974  2013\n",
      "774  2013.9993        46.902        63.605       62.804  2013\n",
      "\n",
      "[37 rows x 5 columns]\n",
      "\n",
      "2014\n",
      "          date  northern_hem  southern_hem  mean_global  year\n",
      "775  2014.0264        40.417        68.653       64.102  2014\n",
      "776  2014.0536        34.571        67.932       62.125  2014\n",
      "777  2014.0807        23.058        67.100       57.643  2014\n",
      "778  2014.1079        21.168        72.272       60.502  2014\n",
      "779  2014.1350        23.216        74.869       63.246  2014\n",
      "780  2014.1621        18.486        82.303       66.032  2014\n",
      "781  2014.1893        21.125        82.769       67.625  2014\n",
      "782  2014.2164        21.179        74.717       62.877  2014\n",
      "..         ...           ...           ...          ...   ...\n",
      "803  2014.7866        83.396        55.520       67.344  2014\n",
      "804  2014.8137        82.410        58.394       68.780  2014\n",
      "805  2014.8409        79.392        53.893       65.301  2014\n",
      "806  2014.8680        70.305        58.685       65.015  2014\n",
      "807  2014.8951        59.157        55.438       59.381  2014\n",
      "808  2014.9223        59.013        57.644       61.591  2014\n",
      "809  2014.9494        63.004        68.561       70.723  2014\n",
      "810  2014.9766        56.990        70.551       70.522  2014\n",
      "\n",
      "[36 rows x 5 columns]\n",
      "\n",
      "2015\n",
      "          date  northern_hem  southern_hem  mean_global  year\n",
      "811  2015.0037        49.183        67.742       66.662  2015\n",
      "812  2015.0309        39.398        69.746       64.804  2015\n",
      "813  2015.0580        31.524        69.317       62.115  2015\n",
      "814  2015.0852        33.878        77.533       68.589  2015\n",
      "815  2015.1123        29.822        81.370       69.745  2015\n",
      "816  2015.1395        33.825        86.893       75.007  2015\n",
      "817  2015.1666        34.251        85.865          NaN  2015\n",
      "818  2015.1938        33.765        75.001          NaN  2015\n",
      "..         ...           ...           ...          ...   ...\n",
      "840  2015.7910        96.789        71.575          NaN  2015\n",
      "841  2015.8182        92.405        74.234          NaN  2015\n",
      "842  2015.8453        81.278        72.443          NaN  2015\n",
      "843  2015.8725        79.341        67.228          NaN  2015\n",
      "844  2015.8996        78.108        74.586          NaN  2015\n",
      "845  2015.9268        76.599        77.518          NaN  2015\n",
      "846  2015.9539        69.691        77.618          NaN  2015\n",
      "847  2015.9811        59.957        76.646          NaN  2015\n",
      "\n",
      "[37 rows x 5 columns]\n",
      "\n",
      "2016\n",
      "          date  northern_hem  southern_hem  mean_global  year\n",
      "848  2016.0082        46.712        77.585          NaN  2016\n",
      "849  2016.0354        42.882        82.549          NaN  2016\n",
      "850  2016.0625        45.051        90.633          NaN  2016\n",
      "851  2016.0897        43.793        88.760          NaN  2016\n",
      "852  2016.1168        46.603        90.561          NaN  2016\n",
      "853  2016.1440        49.218        84.902          NaN  2016\n",
      "854  2016.1711        44.274        83.829          NaN  2016\n",
      "855  2016.1983        33.961        86.020          NaN  2016\n",
      "..         ...           ...           ...          ...   ...\n",
      "861  2016.3611        56.282        66.331          NaN  2016\n",
      "862  2016.3883        63.273        64.067          NaN  2016\n",
      "863  2016.4154        69.371        68.305          NaN  2016\n",
      "864  2016.4426        75.595        67.053          NaN  2016\n",
      "865  2016.4697        80.087        65.238          NaN  2016\n",
      "866  2016.4969        81.619        54.950          NaN  2016\n",
      "867  2016.5240        83.580        53.514          NaN  2016\n",
      "868  2016.5512        87.190        55.389          NaN  2016\n",
      "\n",
      "[21 rows x 5 columns]\n",
      "\n"
     ]
    }
   ],
   "source": [
    "for group_name, subdf in sl_grouped_year:\n",
    "    print(group_name)\n",
    "    print(subdf)\n",
    "    print(\"\")"
   ]
  },
  {
   "cell_type": "markdown",
   "metadata": {},
   "source": [
    "We could have done the same with less effort by grouping by the result of a custom function applied to the index. Let's reset the dataframe:"
   ]
  },
  {
   "cell_type": "code",
   "execution_count": 114,
   "metadata": {
    "collapsed": false
   },
   "outputs": [],
   "source": [
    "mean_sea_level = mean_sea_level.drop([\"year\"], axis=1).set_index(\"date\")"
   ]
  },
  {
   "cell_type": "markdown",
   "metadata": {},
   "source": [
    "So that we can do the groupby on the index:"
   ]
  },
  {
   "cell_type": "code",
   "execution_count": 115,
   "metadata": {
    "collapsed": false
   },
   "outputs": [],
   "source": [
    "sl_grouped_year = mean_sea_level.groupby(int)"
   ]
  },
  {
   "cell_type": "markdown",
   "metadata": {},
   "source": [
    "Something else that can be done with such an object is to look at its `groups` attribute to see the labels mapped to the rows involved:"
   ]
  },
  {
   "cell_type": "code",
   "execution_count": 116,
   "metadata": {
    "collapsed": false
   },
   "outputs": [
    {
     "data": {
      "text/plain": [
       "{1992: [1992.9323, 1992.9595, 1992.9866],\n",
       " 1993: [1993.0138,\n",
       "  1993.0409,\n",
       "  1993.0681,\n",
       "  1993.0952,\n",
       "  1993.1223,\n",
       "  1993.1495,\n",
       "  1993.1766,\n",
       "  1993.2038,\n",
       "  1993.2309,\n",
       "  1993.2581,\n",
       "  1993.2852,\n",
       "  1993.3124,\n",
       "  1993.3395,\n",
       "  1993.3667,\n",
       "  1993.3938,\n",
       "  1993.421,\n",
       "  1993.4481,\n",
       "  1993.4753,\n",
       "  1993.5024,\n",
       "  1993.5296,\n",
       "  1993.5567,\n",
       "  1993.5839,\n",
       "  1993.611,\n",
       "  1993.6382,\n",
       "  1993.6653,\n",
       "  1993.6925,\n",
       "  1993.7196,\n",
       "  1993.7468,\n",
       "  1993.7739,\n",
       "  1993.801,\n",
       "  1993.8282,\n",
       "  1993.8553,\n",
       "  1993.8825,\n",
       "  1993.9096,\n",
       "  1993.9368,\n",
       "  1993.9639,\n",
       "  1993.9911],\n",
       " 1994: [1994.0182,\n",
       "  1994.0454,\n",
       "  1994.0725,\n",
       "  1994.0997,\n",
       "  1994.1268,\n",
       "  1994.154,\n",
       "  1994.1811,\n",
       "  1994.2083,\n",
       "  1994.2354,\n",
       "  1994.2626,\n",
       "  1994.2897,\n",
       "  1994.3169,\n",
       "  1994.344,\n",
       "  1994.3712,\n",
       "  1994.3983,\n",
       "  1994.4255,\n",
       "  1994.4526,\n",
       "  1994.4798,\n",
       "  1994.5069,\n",
       "  1994.534,\n",
       "  1994.5612,\n",
       "  1994.5883,\n",
       "  1994.6155,\n",
       "  1994.6426,\n",
       "  1994.6698,\n",
       "  1994.6969,\n",
       "  1994.7241,\n",
       "  1994.7512,\n",
       "  1994.7784,\n",
       "  1994.8055,\n",
       "  1994.8327,\n",
       "  1994.8598,\n",
       "  1994.887,\n",
       "  1994.9141,\n",
       "  1994.9413,\n",
       "  1994.9684,\n",
       "  1994.9956],\n",
       " 1995: [1995.0227,\n",
       "  1995.0499,\n",
       "  1995.077,\n",
       "  1995.1042,\n",
       "  1995.1313,\n",
       "  1995.1585,\n",
       "  1995.1856,\n",
       "  1995.2128,\n",
       "  1995.2399,\n",
       "  1995.267,\n",
       "  1995.2942,\n",
       "  1995.3213,\n",
       "  1995.3485,\n",
       "  1995.3756,\n",
       "  1995.4028,\n",
       "  1995.4299,\n",
       "  1995.4571,\n",
       "  1995.4842,\n",
       "  1995.5114,\n",
       "  1995.5385,\n",
       "  1995.5657,\n",
       "  1995.5928,\n",
       "  1995.62,\n",
       "  1995.6471,\n",
       "  1995.6743,\n",
       "  1995.7014,\n",
       "  1995.7286,\n",
       "  1995.7557,\n",
       "  1995.7829,\n",
       "  1995.81,\n",
       "  1995.8372,\n",
       "  1995.8643,\n",
       "  1995.8915,\n",
       "  1995.9458,\n",
       "  1995.9729],\n",
       " 1996: [1996.0,\n",
       "  1996.0272,\n",
       "  1996.0543,\n",
       "  1996.0815,\n",
       "  1996.1086,\n",
       "  1996.1358,\n",
       "  1996.1629,\n",
       "  1996.1901,\n",
       "  1996.2172,\n",
       "  1996.2444,\n",
       "  1996.2715,\n",
       "  1996.2987,\n",
       "  1996.3258,\n",
       "  1996.353,\n",
       "  1996.3801,\n",
       "  1996.4073,\n",
       "  1996.4344,\n",
       "  1996.4616,\n",
       "  1996.4887,\n",
       "  1996.5159,\n",
       "  1996.543,\n",
       "  1996.5702,\n",
       "  1996.5973,\n",
       "  1996.6245,\n",
       "  1996.6516,\n",
       "  1996.6788,\n",
       "  1996.7059,\n",
       "  1996.733,\n",
       "  1996.7602,\n",
       "  1996.7873,\n",
       "  1996.8145,\n",
       "  1996.8416,\n",
       "  1996.8688,\n",
       "  1996.8959,\n",
       "  1996.9231,\n",
       "  1996.9502,\n",
       "  1996.9774],\n",
       " 1997: [1997.0045,\n",
       "  1997.0317,\n",
       "  1997.0588,\n",
       "  1997.086,\n",
       "  1997.1131,\n",
       "  1997.1403,\n",
       "  1997.1674,\n",
       "  1997.1946,\n",
       "  1997.2217,\n",
       "  1997.2489,\n",
       "  1997.276,\n",
       "  1997.3032,\n",
       "  1997.3303,\n",
       "  1997.3575,\n",
       "  1997.3846,\n",
       "  1997.4118,\n",
       "  1997.4389,\n",
       "  1997.466,\n",
       "  1997.4932,\n",
       "  1997.5203,\n",
       "  1997.5475,\n",
       "  1997.5746,\n",
       "  1997.6018,\n",
       "  1997.6289,\n",
       "  1997.6561,\n",
       "  1997.6832,\n",
       "  1997.7104,\n",
       "  1997.7375,\n",
       "  1997.7647,\n",
       "  1997.7918,\n",
       "  1997.819,\n",
       "  1997.8461,\n",
       "  1997.8733,\n",
       "  1997.9004,\n",
       "  1997.9276,\n",
       "  1997.9547,\n",
       "  1997.9819],\n",
       " 1998: [1998.009,\n",
       "  1998.0362,\n",
       "  1998.0633,\n",
       "  1998.0905,\n",
       "  1998.1176,\n",
       "  1998.1448,\n",
       "  1998.1719,\n",
       "  1998.199,\n",
       "  1998.2262,\n",
       "  1998.2533,\n",
       "  1998.2805,\n",
       "  1998.3076,\n",
       "  1998.3348,\n",
       "  1998.3619,\n",
       "  1998.3891,\n",
       "  1998.4162,\n",
       "  1998.4434,\n",
       "  1998.4705,\n",
       "  1998.4977,\n",
       "  1998.5248,\n",
       "  1998.552,\n",
       "  1998.5791,\n",
       "  1998.6063,\n",
       "  1998.6334,\n",
       "  1998.6606,\n",
       "  1998.6877,\n",
       "  1998.7149,\n",
       "  1998.742,\n",
       "  1998.7692,\n",
       "  1998.7963,\n",
       "  1998.8235,\n",
       "  1998.8506,\n",
       "  1998.8777,\n",
       "  1998.9049,\n",
       "  1998.932,\n",
       "  1998.9592,\n",
       "  1998.9863],\n",
       " 1999: [1999.0135,\n",
       "  1999.0406,\n",
       "  1999.0678,\n",
       "  1999.0949,\n",
       "  1999.1221,\n",
       "  1999.1492,\n",
       "  1999.1764,\n",
       "  1999.2035,\n",
       "  1999.2307,\n",
       "  1999.2578,\n",
       "  1999.285,\n",
       "  1999.3121,\n",
       "  1999.3393,\n",
       "  1999.3664,\n",
       "  1999.3936,\n",
       "  1999.4207,\n",
       "  1999.4479,\n",
       "  1999.475,\n",
       "  1999.5022,\n",
       "  1999.5293,\n",
       "  1999.5565,\n",
       "  1999.5836,\n",
       "  1999.6107,\n",
       "  1999.6379,\n",
       "  1999.665,\n",
       "  1999.6922,\n",
       "  1999.7193,\n",
       "  1999.7465,\n",
       "  1999.7736,\n",
       "  1999.8008,\n",
       "  1999.8279,\n",
       "  1999.8551,\n",
       "  1999.8822,\n",
       "  1999.9094,\n",
       "  1999.9365,\n",
       "  1999.9637,\n",
       "  1999.9908],\n",
       " 2000: [2000.018,\n",
       "  2000.0451,\n",
       "  2000.0723,\n",
       "  2000.0994,\n",
       "  2000.1266,\n",
       "  2000.1537,\n",
       "  2000.1809,\n",
       "  2000.208,\n",
       "  2000.2352,\n",
       "  2000.2623,\n",
       "  2000.2895,\n",
       "  2000.3166,\n",
       "  2000.3437,\n",
       "  2000.3709,\n",
       "  2000.398,\n",
       "  2000.4252,\n",
       "  2000.4523,\n",
       "  2000.4795,\n",
       "  2000.5066,\n",
       "  2000.5338,\n",
       "  2000.5609,\n",
       "  2000.5881,\n",
       "  2000.6152,\n",
       "  2000.6424,\n",
       "  2000.6695,\n",
       "  2000.6967,\n",
       "  2000.7238,\n",
       "  2000.751,\n",
       "  2000.7781,\n",
       "  2000.8053,\n",
       "  2000.8324,\n",
       "  2000.8596,\n",
       "  2000.8867,\n",
       "  2000.9139,\n",
       "  2000.941,\n",
       "  2000.9682,\n",
       "  2000.9953],\n",
       " 2001: [2001.0225,\n",
       "  2001.0496,\n",
       "  2001.0767,\n",
       "  2001.1039,\n",
       "  2001.131,\n",
       "  2001.1582,\n",
       "  2001.1853,\n",
       "  2001.2125,\n",
       "  2001.2396,\n",
       "  2001.2668,\n",
       "  2001.2939,\n",
       "  2001.3211,\n",
       "  2001.3482,\n",
       "  2001.3754,\n",
       "  2001.4025,\n",
       "  2001.4297,\n",
       "  2001.4568,\n",
       "  2001.484,\n",
       "  2001.5111,\n",
       "  2001.5383,\n",
       "  2001.5654,\n",
       "  2001.5926,\n",
       "  2001.6197,\n",
       "  2001.6469,\n",
       "  2001.674,\n",
       "  2001.7012,\n",
       "  2001.7283,\n",
       "  2001.7555,\n",
       "  2001.7826,\n",
       "  2001.8097,\n",
       "  2001.8369,\n",
       "  2001.864,\n",
       "  2001.8912,\n",
       "  2001.9183,\n",
       "  2001.9455,\n",
       "  2001.9726,\n",
       "  2001.9998],\n",
       " 2002: [2002.0269,\n",
       "  2002.0541,\n",
       "  2002.0812,\n",
       "  2002.1084,\n",
       "  2002.1355,\n",
       "  2002.1627,\n",
       "  2002.1898,\n",
       "  2002.217,\n",
       "  2002.2441,\n",
       "  2002.2713,\n",
       "  2002.2984,\n",
       "  2002.3256,\n",
       "  2002.3527,\n",
       "  2002.3799,\n",
       "  2002.407,\n",
       "  2002.4342,\n",
       "  2002.4613,\n",
       "  2002.4885,\n",
       "  2002.5156,\n",
       "  2002.5427,\n",
       "  2002.5699,\n",
       "  2002.597,\n",
       "  2002.6242,\n",
       "  2002.6513,\n",
       "  2002.6785,\n",
       "  2002.7056,\n",
       "  2002.7328,\n",
       "  2002.7599,\n",
       "  2002.7871,\n",
       "  2002.8142,\n",
       "  2002.8414,\n",
       "  2002.8685,\n",
       "  2002.8957,\n",
       "  2002.9228,\n",
       "  2002.95,\n",
       "  2002.9771],\n",
       " 2003: [2003.0043,\n",
       "  2003.0314,\n",
       "  2003.0586,\n",
       "  2003.0857,\n",
       "  2003.1129,\n",
       "  2003.14,\n",
       "  2003.1672,\n",
       "  2003.1943,\n",
       "  2003.2214,\n",
       "  2003.2486,\n",
       "  2003.2757,\n",
       "  2003.3029,\n",
       "  2003.33,\n",
       "  2003.3572,\n",
       "  2003.3843,\n",
       "  2003.4115,\n",
       "  2003.4386,\n",
       "  2003.4658,\n",
       "  2003.4929,\n",
       "  2003.5201,\n",
       "  2003.5472,\n",
       "  2003.5744,\n",
       "  2003.6015,\n",
       "  2003.6287,\n",
       "  2003.6558,\n",
       "  2003.683,\n",
       "  2003.7101,\n",
       "  2003.7373,\n",
       "  2003.7644,\n",
       "  2003.7916,\n",
       "  2003.8187,\n",
       "  2003.8459,\n",
       "  2003.873,\n",
       "  2003.9002,\n",
       "  2003.9273,\n",
       "  2003.9544,\n",
       "  2003.9816],\n",
       " 2004: [2004.0087,\n",
       "  2004.0359,\n",
       "  2004.063,\n",
       "  2004.0902,\n",
       "  2004.1173,\n",
       "  2004.1445,\n",
       "  2004.1716,\n",
       "  2004.1988,\n",
       "  2004.2259,\n",
       "  2004.2531,\n",
       "  2004.2802,\n",
       "  2004.3074,\n",
       "  2004.3345,\n",
       "  2004.3617,\n",
       "  2004.3888,\n",
       "  2004.416,\n",
       "  2004.4431,\n",
       "  2004.4703,\n",
       "  2004.4974,\n",
       "  2004.5246,\n",
       "  2004.5517,\n",
       "  2004.5789,\n",
       "  2004.606,\n",
       "  2004.6332,\n",
       "  2004.6603,\n",
       "  2004.6874,\n",
       "  2004.7146,\n",
       "  2004.7417,\n",
       "  2004.7689,\n",
       "  2004.796,\n",
       "  2004.8232,\n",
       "  2004.8503,\n",
       "  2004.8775,\n",
       "  2004.9046,\n",
       "  2004.9318,\n",
       "  2004.9589,\n",
       "  2004.9861],\n",
       " 2005: [2005.0132,\n",
       "  2005.0404,\n",
       "  2005.0675,\n",
       "  2005.0947,\n",
       "  2005.1218,\n",
       "  2005.149,\n",
       "  2005.1761,\n",
       "  2005.2033,\n",
       "  2005.2304,\n",
       "  2005.2576,\n",
       "  2005.2847,\n",
       "  2005.3119,\n",
       "  2005.339,\n",
       "  2005.3662,\n",
       "  2005.3933,\n",
       "  2005.4204,\n",
       "  2005.4476,\n",
       "  2005.4747,\n",
       "  2005.5019,\n",
       "  2005.529,\n",
       "  2005.5562,\n",
       "  2005.5833,\n",
       "  2005.6105,\n",
       "  2005.6376,\n",
       "  2005.6648,\n",
       "  2005.6919,\n",
       "  2005.7191,\n",
       "  2005.7462,\n",
       "  2005.7734,\n",
       "  2005.8005,\n",
       "  2005.8277,\n",
       "  2005.8548,\n",
       "  2005.882,\n",
       "  2005.9091,\n",
       "  2005.9363,\n",
       "  2005.9634,\n",
       "  2005.9906],\n",
       " 2006: [2006.0177,\n",
       "  2006.0449,\n",
       "  2006.072,\n",
       "  2006.0992,\n",
       "  2006.1263,\n",
       "  2006.1534,\n",
       "  2006.1806,\n",
       "  2006.2077,\n",
       "  2006.2349,\n",
       "  2006.262,\n",
       "  2006.2892,\n",
       "  2006.3163,\n",
       "  2006.3435,\n",
       "  2006.3706,\n",
       "  2006.3978,\n",
       "  2006.4249,\n",
       "  2006.4521,\n",
       "  2006.4792,\n",
       "  2006.5064,\n",
       "  2006.5335,\n",
       "  2006.5607,\n",
       "  2006.5878,\n",
       "  2006.615,\n",
       "  2006.6421,\n",
       "  2006.6693,\n",
       "  2006.6964,\n",
       "  2006.7236,\n",
       "  2006.7507,\n",
       "  2006.7779,\n",
       "  2006.805,\n",
       "  2006.8321,\n",
       "  2006.8864,\n",
       "  2006.9136,\n",
       "  2006.9407,\n",
       "  2006.9679,\n",
       "  2006.995],\n",
       " 2007: [2007.0222,\n",
       "  2007.0493,\n",
       "  2007.0765,\n",
       "  2007.1036,\n",
       "  2007.1308,\n",
       "  2007.1579,\n",
       "  2007.1851,\n",
       "  2007.2122,\n",
       "  2007.2394,\n",
       "  2007.2665,\n",
       "  2007.2937,\n",
       "  2007.3208,\n",
       "  2007.348,\n",
       "  2007.3751,\n",
       "  2007.4023,\n",
       "  2007.4294,\n",
       "  2007.4566,\n",
       "  2007.4837,\n",
       "  2007.5109,\n",
       "  2007.538,\n",
       "  2007.5651,\n",
       "  2007.5923,\n",
       "  2007.6194,\n",
       "  2007.6466,\n",
       "  2007.6737,\n",
       "  2007.7009,\n",
       "  2007.728,\n",
       "  2007.7552,\n",
       "  2007.7823,\n",
       "  2007.8095,\n",
       "  2007.8366,\n",
       "  2007.8638,\n",
       "  2007.8909,\n",
       "  2007.9181,\n",
       "  2007.9452,\n",
       "  2007.9724,\n",
       "  2007.9995],\n",
       " 2008: [2008.0267,\n",
       "  2008.0538,\n",
       "  2008.081,\n",
       "  2008.1081,\n",
       "  2008.1353,\n",
       "  2008.1624,\n",
       "  2008.1896,\n",
       "  2008.2167,\n",
       "  2008.2439,\n",
       "  2008.271,\n",
       "  2008.2981,\n",
       "  2008.3253,\n",
       "  2008.3524,\n",
       "  2008.3796,\n",
       "  2008.4067,\n",
       "  2008.4339,\n",
       "  2008.461,\n",
       "  2008.4882,\n",
       "  2008.5153,\n",
       "  2008.5425,\n",
       "  2008.5696,\n",
       "  2008.5968,\n",
       "  2008.6239,\n",
       "  2008.6511,\n",
       "  2008.6782,\n",
       "  2008.7054,\n",
       "  2008.7325,\n",
       "  2008.7597,\n",
       "  2008.7868,\n",
       "  2008.814,\n",
       "  2008.8411,\n",
       "  2008.8683,\n",
       "  2008.8954,\n",
       "  2008.9226,\n",
       "  2008.9497,\n",
       "  2008.9769],\n",
       " 2009: [2009.004,\n",
       "  2009.0311,\n",
       "  2009.0583,\n",
       "  2009.0854,\n",
       "  2009.1126,\n",
       "  2009.1397,\n",
       "  2009.1669,\n",
       "  2009.194,\n",
       "  2009.2212,\n",
       "  2009.2483,\n",
       "  2009.2755,\n",
       "  2009.3026,\n",
       "  2009.3298,\n",
       "  2009.3569,\n",
       "  2009.3841,\n",
       "  2009.4112,\n",
       "  2009.4384,\n",
       "  2009.4655,\n",
       "  2009.4927,\n",
       "  2009.5198,\n",
       "  2009.547,\n",
       "  2009.5741,\n",
       "  2009.6013,\n",
       "  2009.6284,\n",
       "  2009.6556,\n",
       "  2009.6827,\n",
       "  2009.7099,\n",
       "  2009.737,\n",
       "  2009.7642,\n",
       "  2009.7913,\n",
       "  2009.8184,\n",
       "  2009.8456,\n",
       "  2009.8727,\n",
       "  2009.8999,\n",
       "  2009.927,\n",
       "  2009.9542,\n",
       "  2009.9813],\n",
       " 2010: [2010.0085,\n",
       "  2010.0356,\n",
       "  2010.0628,\n",
       "  2010.0899,\n",
       "  2010.1171,\n",
       "  2010.1442,\n",
       "  2010.1714,\n",
       "  2010.1985,\n",
       "  2010.2257,\n",
       "  2010.2528,\n",
       "  2010.28,\n",
       "  2010.3071,\n",
       "  2010.3343,\n",
       "  2010.3614,\n",
       "  2010.3886,\n",
       "  2010.4157,\n",
       "  2010.4429,\n",
       "  2010.47,\n",
       "  2010.4971,\n",
       "  2010.5243,\n",
       "  2010.5514,\n",
       "  2010.5786,\n",
       "  2010.6057,\n",
       "  2010.6329,\n",
       "  2010.66,\n",
       "  2010.6872,\n",
       "  2010.7143,\n",
       "  2010.7415,\n",
       "  2010.7686,\n",
       "  2010.7958,\n",
       "  2010.8229,\n",
       "  2010.8501,\n",
       "  2010.8772,\n",
       "  2010.9044,\n",
       "  2010.9315,\n",
       "  2010.9587,\n",
       "  2010.9858],\n",
       " 2011: [2011.013,\n",
       "  2011.0401,\n",
       "  2011.0673,\n",
       "  2011.0944,\n",
       "  2011.1216,\n",
       "  2011.1487,\n",
       "  2011.1759,\n",
       "  2011.203,\n",
       "  2011.2301,\n",
       "  2011.2573,\n",
       "  2011.2844,\n",
       "  2011.3116,\n",
       "  2011.3387,\n",
       "  2011.3659,\n",
       "  2011.393,\n",
       "  2011.4202,\n",
       "  2011.4473,\n",
       "  2011.4745,\n",
       "  2011.5016,\n",
       "  2011.5288,\n",
       "  2011.5559,\n",
       "  2011.5831,\n",
       "  2011.6102,\n",
       "  2011.6374,\n",
       "  2011.6645,\n",
       "  2011.6917,\n",
       "  2011.7188,\n",
       "  2011.746,\n",
       "  2011.7731,\n",
       "  2011.8003,\n",
       "  2011.8274,\n",
       "  2011.8546,\n",
       "  2011.8817,\n",
       "  2011.9089,\n",
       "  2011.936,\n",
       "  2011.9631,\n",
       "  2011.9903],\n",
       " 2012: [2012.0174,\n",
       "  2012.0446,\n",
       "  2012.0717,\n",
       "  2012.0989,\n",
       "  2012.126,\n",
       "  2012.1532,\n",
       "  2012.1803,\n",
       "  2012.2075,\n",
       "  2012.2346,\n",
       "  2012.2618,\n",
       "  2012.2889,\n",
       "  2012.3161,\n",
       "  2012.3432,\n",
       "  2012.3704,\n",
       "  2012.3975,\n",
       "  2012.4247,\n",
       "  2012.4518,\n",
       "  2012.479,\n",
       "  2012.5061,\n",
       "  2012.5333,\n",
       "  2012.5604,\n",
       "  2012.5876,\n",
       "  2012.6147,\n",
       "  2012.6419,\n",
       "  2012.669,\n",
       "  2012.6961,\n",
       "  2012.7233,\n",
       "  2012.7504,\n",
       "  2012.7776,\n",
       "  2012.8047,\n",
       "  2012.8319,\n",
       "  2012.859,\n",
       "  2012.8862,\n",
       "  2012.9133,\n",
       "  2012.9405,\n",
       "  2012.9676,\n",
       "  2012.9948],\n",
       " 2013: [2013.0219,\n",
       "  2013.0491,\n",
       "  2013.0762,\n",
       "  2013.1034,\n",
       "  2013.1305,\n",
       "  2013.1577,\n",
       "  2013.1848,\n",
       "  2013.212,\n",
       "  2013.2391,\n",
       "  2013.2663,\n",
       "  2013.2934,\n",
       "  2013.3206,\n",
       "  2013.3477,\n",
       "  2013.3749,\n",
       "  2013.402,\n",
       "  2013.4291,\n",
       "  2013.4563,\n",
       "  2013.4834,\n",
       "  2013.5106,\n",
       "  2013.5377,\n",
       "  2013.5649,\n",
       "  2013.592,\n",
       "  2013.6192,\n",
       "  2013.6463,\n",
       "  2013.6735,\n",
       "  2013.7006,\n",
       "  2013.7278,\n",
       "  2013.7549,\n",
       "  2013.7821,\n",
       "  2013.8092,\n",
       "  2013.8364,\n",
       "  2013.8635,\n",
       "  2013.8907,\n",
       "  2013.9178,\n",
       "  2013.945,\n",
       "  2013.9721,\n",
       "  2013.9993],\n",
       " 2014: [2014.0264,\n",
       "  2014.0536,\n",
       "  2014.0807,\n",
       "  2014.1079,\n",
       "  2014.135,\n",
       "  2014.1621,\n",
       "  2014.1893,\n",
       "  2014.2164,\n",
       "  2014.2436,\n",
       "  2014.2707,\n",
       "  2014.2979,\n",
       "  2014.325,\n",
       "  2014.3522,\n",
       "  2014.3793,\n",
       "  2014.4065,\n",
       "  2014.4336,\n",
       "  2014.4608,\n",
       "  2014.4879,\n",
       "  2014.5151,\n",
       "  2014.5422,\n",
       "  2014.5694,\n",
       "  2014.5965,\n",
       "  2014.6237,\n",
       "  2014.6508,\n",
       "  2014.678,\n",
       "  2014.7051,\n",
       "  2014.7323,\n",
       "  2014.7594,\n",
       "  2014.7866,\n",
       "  2014.8137,\n",
       "  2014.8409,\n",
       "  2014.868,\n",
       "  2014.8951,\n",
       "  2014.9223,\n",
       "  2014.9494,\n",
       "  2014.9766],\n",
       " 2015: [2015.0037,\n",
       "  2015.0309,\n",
       "  2015.058,\n",
       "  2015.0852,\n",
       "  2015.1123,\n",
       "  2015.1395,\n",
       "  2015.1666,\n",
       "  2015.1938,\n",
       "  2015.2209,\n",
       "  2015.2481,\n",
       "  2015.2752,\n",
       "  2015.3024,\n",
       "  2015.3295,\n",
       "  2015.3567,\n",
       "  2015.3838,\n",
       "  2015.411,\n",
       "  2015.4381,\n",
       "  2015.4653,\n",
       "  2015.4924,\n",
       "  2015.5196,\n",
       "  2015.5467,\n",
       "  2015.5739,\n",
       "  2015.601,\n",
       "  2015.6281,\n",
       "  2015.6553,\n",
       "  2015.6824,\n",
       "  2015.7096,\n",
       "  2015.7367,\n",
       "  2015.7639,\n",
       "  2015.791,\n",
       "  2015.8182,\n",
       "  2015.8453,\n",
       "  2015.8725,\n",
       "  2015.8996,\n",
       "  2015.9268,\n",
       "  2015.9539,\n",
       "  2015.9811],\n",
       " 2016: [2016.0082,\n",
       "  2016.0354,\n",
       "  2016.0625,\n",
       "  2016.0897,\n",
       "  2016.1168,\n",
       "  2016.144,\n",
       "  2016.1711,\n",
       "  2016.1983,\n",
       "  2016.2254,\n",
       "  2016.2526,\n",
       "  2016.2797,\n",
       "  2016.3068,\n",
       "  2016.334,\n",
       "  2016.3611,\n",
       "  2016.3883,\n",
       "  2016.4154,\n",
       "  2016.4426,\n",
       "  2016.4697,\n",
       "  2016.4969,\n",
       "  2016.524,\n",
       "  2016.5512]}"
      ]
     },
     "execution_count": 116,
     "metadata": {},
     "output_type": "execute_result"
    }
   ],
   "source": [
    "sl_grouped_year.groups"
   ]
  },
  {
   "cell_type": "markdown",
   "metadata": {},
   "source": [
    "How to aggregate the results of this grouping depends on what we want to see: do we want to see averaged over the years? That is so common that it has been implemented directly as a method on the `GroupBy` object."
   ]
  },
  {
   "cell_type": "code",
   "execution_count": 117,
   "metadata": {
    "collapsed": false
   },
   "outputs": [
    {
     "data": {
      "text/html": [
       "<div>\n",
       "<table border=\"1\" class=\"dataframe\">\n",
       "  <thead>\n",
       "    <tr style=\"text-align: right;\">\n",
       "      <th></th>\n",
       "      <th>northern_hem</th>\n",
       "      <th>southern_hem</th>\n",
       "      <th>mean_global</th>\n",
       "    </tr>\n",
       "  </thead>\n",
       "  <tbody>\n",
       "    <tr>\n",
       "      <th>1992</th>\n",
       "      <td>0.556667</td>\n",
       "      <td>-2.465000</td>\n",
       "      <td>-6.671500</td>\n",
       "    </tr>\n",
       "    <tr>\n",
       "      <th>1993</th>\n",
       "      <td>-3.787108</td>\n",
       "      <td>-5.485378</td>\n",
       "      <td>-4.181882</td>\n",
       "    </tr>\n",
       "    <tr>\n",
       "      <th>1994</th>\n",
       "      <td>-4.631432</td>\n",
       "      <td>-3.523946</td>\n",
       "      <td>-3.668971</td>\n",
       "    </tr>\n",
       "    <tr>\n",
       "      <th>1995</th>\n",
       "      <td>-2.709314</td>\n",
       "      <td>-1.625171</td>\n",
       "      <td>-1.755452</td>\n",
       "    </tr>\n",
       "    <tr>\n",
       "      <th>1996</th>\n",
       "      <td>-1.184541</td>\n",
       "      <td>-0.204919</td>\n",
       "      <td>0.775912</td>\n",
       "    </tr>\n",
       "    <tr>\n",
       "      <th>1997</th>\n",
       "      <td>1.205108</td>\n",
       "      <td>8.180189</td>\n",
       "      <td>7.155545</td>\n",
       "    </tr>\n",
       "    <tr>\n",
       "      <th>1998</th>\n",
       "      <td>10.994865</td>\n",
       "      <td>4.420541</td>\n",
       "      <td>10.108182</td>\n",
       "    </tr>\n",
       "    <tr>\n",
       "      <th>1999</th>\n",
       "      <td>10.244595</td>\n",
       "      <td>8.327162</td>\n",
       "      <td>12.321727</td>\n",
       "    </tr>\n",
       "    <tr>\n",
       "      <th>...</th>\n",
       "      <td>...</td>\n",
       "      <td>...</td>\n",
       "      <td>...</td>\n",
       "    </tr>\n",
       "    <tr>\n",
       "      <th>2009</th>\n",
       "      <td>37.268270</td>\n",
       "      <td>43.703973</td>\n",
       "      <td>46.127108</td>\n",
       "    </tr>\n",
       "    <tr>\n",
       "      <th>2010</th>\n",
       "      <td>39.910946</td>\n",
       "      <td>43.347676</td>\n",
       "      <td>47.285838</td>\n",
       "    </tr>\n",
       "    <tr>\n",
       "      <th>2011</th>\n",
       "      <td>36.664865</td>\n",
       "      <td>43.639108</td>\n",
       "      <td>46.442865</td>\n",
       "    </tr>\n",
       "    <tr>\n",
       "      <th>2012</th>\n",
       "      <td>48.506541</td>\n",
       "      <td>53.315595</td>\n",
       "      <td>57.293730</td>\n",
       "    </tr>\n",
       "    <tr>\n",
       "      <th>2013</th>\n",
       "      <td>52.047757</td>\n",
       "      <td>54.749270</td>\n",
       "      <td>59.685571</td>\n",
       "    </tr>\n",
       "    <tr>\n",
       "      <th>2014</th>\n",
       "      <td>51.709861</td>\n",
       "      <td>60.794194</td>\n",
       "      <td>63.649583</td>\n",
       "    </tr>\n",
       "    <tr>\n",
       "      <th>2015</th>\n",
       "      <td>61.329568</td>\n",
       "      <td>71.623676</td>\n",
       "      <td>67.820333</td>\n",
       "    </tr>\n",
       "    <tr>\n",
       "      <th>2016</th>\n",
       "      <td>56.777143</td>\n",
       "      <td>75.804286</td>\n",
       "      <td>NaN</td>\n",
       "    </tr>\n",
       "  </tbody>\n",
       "</table>\n",
       "<p>25 rows × 3 columns</p>\n",
       "</div>"
      ],
      "text/plain": [
       "      northern_hem  southern_hem  mean_global\n",
       "1992      0.556667     -2.465000    -6.671500\n",
       "1993     -3.787108     -5.485378    -4.181882\n",
       "1994     -4.631432     -3.523946    -3.668971\n",
       "1995     -2.709314     -1.625171    -1.755452\n",
       "1996     -1.184541     -0.204919     0.775912\n",
       "1997      1.205108      8.180189     7.155545\n",
       "1998     10.994865      4.420541    10.108182\n",
       "1999     10.244595      8.327162    12.321727\n",
       "...            ...           ...          ...\n",
       "2009     37.268270     43.703973    46.127108\n",
       "2010     39.910946     43.347676    47.285838\n",
       "2011     36.664865     43.639108    46.442865\n",
       "2012     48.506541     53.315595    57.293730\n",
       "2013     52.047757     54.749270    59.685571\n",
       "2014     51.709861     60.794194    63.649583\n",
       "2015     61.329568     71.623676    67.820333\n",
       "2016     56.777143     75.804286          NaN\n",
       "\n",
       "[25 rows x 3 columns]"
      ]
     },
     "execution_count": 117,
     "metadata": {},
     "output_type": "execute_result"
    }
   ],
   "source": [
    "sl_grouped_year.mean()"
   ]
  },
  {
   "cell_type": "code",
   "execution_count": 118,
   "metadata": {
    "collapsed": false
   },
   "outputs": [
    {
     "data": {
      "text/html": [
       "<div>\n",
       "<table border=\"1\" class=\"dataframe\">\n",
       "  <thead>\n",
       "    <tr style=\"text-align: right;\">\n",
       "      <th></th>\n",
       "      <th>mean_global</th>\n",
       "    </tr>\n",
       "  </thead>\n",
       "  <tbody>\n",
       "    <tr>\n",
       "      <th>1992</th>\n",
       "      <td>1.207031</td>\n",
       "    </tr>\n",
       "    <tr>\n",
       "      <th>1993</th>\n",
       "      <td>3.411971</td>\n",
       "    </tr>\n",
       "    <tr>\n",
       "      <th>1994</th>\n",
       "      <td>3.347750</td>\n",
       "    </tr>\n",
       "    <tr>\n",
       "      <th>1995</th>\n",
       "      <td>3.486596</td>\n",
       "    </tr>\n",
       "    <tr>\n",
       "      <th>1996</th>\n",
       "      <td>3.138087</td>\n",
       "    </tr>\n",
       "    <tr>\n",
       "      <th>1997</th>\n",
       "      <td>5.444541</td>\n",
       "    </tr>\n",
       "    <tr>\n",
       "      <th>1998</th>\n",
       "      <td>3.565379</td>\n",
       "    </tr>\n",
       "    <tr>\n",
       "      <th>1999</th>\n",
       "      <td>2.960703</td>\n",
       "    </tr>\n",
       "    <tr>\n",
       "      <th>...</th>\n",
       "      <td>...</td>\n",
       "    </tr>\n",
       "    <tr>\n",
       "      <th>2009</th>\n",
       "      <td>3.776398</td>\n",
       "    </tr>\n",
       "    <tr>\n",
       "      <th>2010</th>\n",
       "      <td>4.000347</td>\n",
       "    </tr>\n",
       "    <tr>\n",
       "      <th>2011</th>\n",
       "      <td>4.277106</td>\n",
       "    </tr>\n",
       "    <tr>\n",
       "      <th>2012</th>\n",
       "      <td>4.249205</td>\n",
       "    </tr>\n",
       "    <tr>\n",
       "      <th>2013</th>\n",
       "      <td>3.276180</td>\n",
       "    </tr>\n",
       "    <tr>\n",
       "      <th>2014</th>\n",
       "      <td>3.716325</td>\n",
       "    </tr>\n",
       "    <tr>\n",
       "      <th>2015</th>\n",
       "      <td>4.448240</td>\n",
       "    </tr>\n",
       "    <tr>\n",
       "      <th>2016</th>\n",
       "      <td>NaN</td>\n",
       "    </tr>\n",
       "  </tbody>\n",
       "</table>\n",
       "<p>25 rows × 1 columns</p>\n",
       "</div>"
      ],
      "text/plain": [
       "      mean_global\n",
       "1992     1.207031\n",
       "1993     3.411971\n",
       "1994     3.347750\n",
       "1995     3.486596\n",
       "1996     3.138087\n",
       "1997     5.444541\n",
       "1998     3.565379\n",
       "1999     2.960703\n",
       "...           ...\n",
       "2009     3.776398\n",
       "2010     4.000347\n",
       "2011     4.277106\n",
       "2012     4.249205\n",
       "2013     3.276180\n",
       "2014     3.716325\n",
       "2015     4.448240\n",
       "2016          NaN\n",
       "\n",
       "[25 rows x 1 columns]"
      ]
     },
     "execution_count": 118,
     "metadata": {},
     "output_type": "execute_result"
    }
   ],
   "source": [
    "# We can apply any other reduction function or even a dict of functions using aggregate:\n",
    "sl_grouped_year.aggregate({\"mean_global\": np.std})"
   ]
  },
  {
   "cell_type": "markdown",
   "metadata": {},
   "source": [
    "Another possibility is to transform each group separately, rather than aggregate. For example, here we group over decades and subtract to each value, the average over that decade:"
   ]
  },
  {
   "cell_type": "code",
   "execution_count": 119,
   "metadata": {
    "collapsed": false
   },
   "outputs": [
    {
     "data": {
      "text/plain": [
       "dict_keys([200, 201, 199])"
      ]
     },
     "execution_count": 119,
     "metadata": {},
     "output_type": "execute_result"
    }
   ],
   "source": [
    "sl_grouped_decade = mean_sea_level.groupby(lambda x: int(x/10.))\n",
    "sl_grouped_decade.groups.keys()"
   ]
  },
  {
   "cell_type": "code",
   "execution_count": 120,
   "metadata": {
    "collapsed": false
   },
   "outputs": [
    {
     "data": {
      "text/html": [
       "<div>\n",
       "<table border=\"1\" class=\"dataframe\">\n",
       "  <thead>\n",
       "    <tr style=\"text-align: right;\">\n",
       "      <th></th>\n",
       "      <th>northern_hem</th>\n",
       "      <th>southern_hem</th>\n",
       "      <th>mean_global</th>\n",
       "    </tr>\n",
       "    <tr>\n",
       "      <th>date</th>\n",
       "      <th></th>\n",
       "      <th></th>\n",
       "      <th></th>\n",
       "    </tr>\n",
       "  </thead>\n",
       "  <tbody>\n",
       "    <tr>\n",
       "      <th>1992.9323</th>\n",
       "      <td>13.652814</td>\n",
       "      <td>2.395273</td>\n",
       "      <td>NaN</td>\n",
       "    </tr>\n",
       "    <tr>\n",
       "      <th>1992.9595</th>\n",
       "      <td>1.263814</td>\n",
       "      <td>-7.766727</td>\n",
       "      <td>-6.207707</td>\n",
       "    </tr>\n",
       "    <tr>\n",
       "      <th>1992.9866</th>\n",
       "      <td>-13.439186</td>\n",
       "      <td>-2.388727</td>\n",
       "      <td>-7.914707</td>\n",
       "    </tr>\n",
       "    <tr>\n",
       "      <th>1993.0138</th>\n",
       "      <td>-24.787186</td>\n",
       "      <td>0.733273</td>\n",
       "      <td>-9.604707</td>\n",
       "    </tr>\n",
       "    <tr>\n",
       "      <th>1993.0409</th>\n",
       "      <td>-29.295186</td>\n",
       "      <td>-2.141727</td>\n",
       "      <td>-12.185707</td>\n",
       "    </tr>\n",
       "    <tr>\n",
       "      <th>1993.0681</th>\n",
       "      <td>-32.602186</td>\n",
       "      <td>-0.519727</td>\n",
       "      <td>-11.680707</td>\n",
       "    </tr>\n",
       "    <tr>\n",
       "      <th>1993.0952</th>\n",
       "      <td>-35.652186</td>\n",
       "      <td>3.980273</td>\n",
       "      <td>-9.958707</td>\n",
       "    </tr>\n",
       "    <tr>\n",
       "      <th>1993.1223</th>\n",
       "      <td>-26.643186</td>\n",
       "      <td>6.665273</td>\n",
       "      <td>-4.103707</td>\n",
       "    </tr>\n",
       "    <tr>\n",
       "      <th>...</th>\n",
       "      <td>...</td>\n",
       "      <td>...</td>\n",
       "      <td>...</td>\n",
       "    </tr>\n",
       "    <tr>\n",
       "      <th>2016.3611</th>\n",
       "      <td>54.188980</td>\n",
       "      <td>62.544141</td>\n",
       "      <td>NaN</td>\n",
       "    </tr>\n",
       "    <tr>\n",
       "      <th>2016.3883</th>\n",
       "      <td>61.179980</td>\n",
       "      <td>60.280141</td>\n",
       "      <td>NaN</td>\n",
       "    </tr>\n",
       "    <tr>\n",
       "      <th>2016.4154</th>\n",
       "      <td>67.277980</td>\n",
       "      <td>64.518141</td>\n",
       "      <td>NaN</td>\n",
       "    </tr>\n",
       "    <tr>\n",
       "      <th>2016.4426</th>\n",
       "      <td>73.501980</td>\n",
       "      <td>63.266141</td>\n",
       "      <td>NaN</td>\n",
       "    </tr>\n",
       "    <tr>\n",
       "      <th>2016.4697</th>\n",
       "      <td>77.993980</td>\n",
       "      <td>61.451141</td>\n",
       "      <td>NaN</td>\n",
       "    </tr>\n",
       "    <tr>\n",
       "      <th>2016.4969</th>\n",
       "      <td>79.525980</td>\n",
       "      <td>51.163141</td>\n",
       "      <td>NaN</td>\n",
       "    </tr>\n",
       "    <tr>\n",
       "      <th>2016.5240</th>\n",
       "      <td>81.486980</td>\n",
       "      <td>49.727141</td>\n",
       "      <td>NaN</td>\n",
       "    </tr>\n",
       "    <tr>\n",
       "      <th>2016.5512</th>\n",
       "      <td>85.096980</td>\n",
       "      <td>51.602141</td>\n",
       "      <td>NaN</td>\n",
       "    </tr>\n",
       "  </tbody>\n",
       "</table>\n",
       "<p>869 rows × 3 columns</p>\n",
       "</div>"
      ],
      "text/plain": [
       "           northern_hem  southern_hem  mean_global\n",
       "date                                              \n",
       "1992.9323     13.652814      2.395273          NaN\n",
       "1992.9595      1.263814     -7.766727    -6.207707\n",
       "1992.9866    -13.439186     -2.388727    -7.914707\n",
       "1993.0138    -24.787186      0.733273    -9.604707\n",
       "1993.0409    -29.295186     -2.141727   -12.185707\n",
       "1993.0681    -32.602186     -0.519727   -11.680707\n",
       "1993.0952    -35.652186      3.980273    -9.958707\n",
       "1993.1223    -26.643186      6.665273    -4.103707\n",
       "...                 ...           ...          ...\n",
       "2016.3611     54.188980     62.544141          NaN\n",
       "2016.3883     61.179980     60.280141          NaN\n",
       "2016.4154     67.277980     64.518141          NaN\n",
       "2016.4426     73.501980     63.266141          NaN\n",
       "2016.4697     77.993980     61.451141          NaN\n",
       "2016.4969     79.525980     51.163141          NaN\n",
       "2016.5240     81.486980     49.727141          NaN\n",
       "2016.5512     85.096980     51.602141          NaN\n",
       "\n",
       "[869 rows x 3 columns]"
      ]
     },
     "execution_count": 120,
     "metadata": {},
     "output_type": "execute_result"
    }
   ],
   "source": [
    "sl_grouped_decade.transform(lambda subframe: (subframe - subframe.mean()/subframe.std()))"
   ]
  },
  {
   "cell_type": "code",
   "execution_count": 121,
   "metadata": {
    "collapsed": true
   },
   "outputs": [],
   "source": [
    "sl_grouped_decade.transform?"
   ]
  },
  {
   "cell_type": "markdown",
   "metadata": {},
   "source": [
    "### Pivot_table"
   ]
  },
  {
   "cell_type": "markdown",
   "metadata": {},
   "source": [
    "Pivot table also allows to summarize the information, allowing to convert repeating columns into axes. For example, let's say that we would like to know how many sea level stations are in various european countries. And we would like to group the answers into 2 categories: the stations that have been updated recently (after 2000) and the others. \n",
    "\n",
    "Let's first extract only entries located (roughly) in Europe."
   ]
  },
  {
   "cell_type": "code",
   "execution_count": 123,
   "metadata": {
    "collapsed": false
   },
   "outputs": [
    {
     "data": {
      "text/plain": [
       "[ALA, BEL, BGR, HRV, CYP, ..., ESP, SWE, TUR, UKR, GBR]\n",
       "Length: 37\n",
       "Categories (37, object): [ALA, BEL, BGR, HRV, ..., SWE, TUR, UKR, GBR]"
      ]
     },
     "execution_count": 123,
     "metadata": {},
     "output_type": "execute_result"
    }
   ],
   "source": [
    "european_filter = ((local_sea_level_stations[\"Lat\"] > 30) & \n",
    "                   (local_sea_level_stations[\"Lat\"] < 70) & \n",
    "                   (local_sea_level_stations[\"Lon\"] > -10) & \n",
    "                   (local_sea_level_stations[\"Lon\"] < 40) \n",
    "                   )\n",
    "\n",
    "# Let's make a copy to work with a new, clean block of memory \n",
    "# (if you are interested, try and remove the copy to see the consequences further down...)\n",
    "european_stations = local_sea_level_stations[european_filter].copy()\n",
    "european_stations[\"Country\"].unique()"
   ]
  },
  {
   "cell_type": "markdown",
   "metadata": {},
   "source": [
    "The columns of our future table should have 2 values, whether the station was updated recently or not. Let's build a column to store that information:"
   ]
  },
  {
   "cell_type": "code",
   "execution_count": 124,
   "metadata": {
    "collapsed": false
   },
   "outputs": [],
   "source": [
    "european_stations[\"Recently updated\"] = european_stations[\"Date\"] > pd.to_datetime(\"2000\")"
   ]
  },
  {
   "cell_type": "markdown",
   "metadata": {},
   "source": [
    "Finally, what value will be displayed inside the table. The values should be extracted from a column, pivot_table allowing an aggregation function to be applied when more than 1 value is found for a given case. Each station should count for 1, and we could aggregate multiple stations by summing these ones:"
   ]
  },
  {
   "cell_type": "code",
   "execution_count": 125,
   "metadata": {
    "collapsed": false
   },
   "outputs": [],
   "source": [
    "european_stations[\"Number of stations\"] = np.ones(len(european_stations))"
   ]
  },
  {
   "cell_type": "code",
   "execution_count": 126,
   "metadata": {
    "collapsed": false
   },
   "outputs": [
    {
     "data": {
      "text/html": [
       "<div>\n",
       "<table border=\"1\" class=\"dataframe\">\n",
       "  <thead>\n",
       "    <tr style=\"text-align: right;\">\n",
       "      <th></th>\n",
       "      <th>Station Name</th>\n",
       "      <th>ID</th>\n",
       "      <th>Lat</th>\n",
       "      <th>Lon</th>\n",
       "      <th>GLOSS ID</th>\n",
       "      <th>Country</th>\n",
       "      <th>Date</th>\n",
       "      <th>Coastline</th>\n",
       "      <th>Station</th>\n",
       "      <th>Recently updated</th>\n",
       "      <th>Number of stations</th>\n",
       "    </tr>\n",
       "  </thead>\n",
       "  <tbody>\n",
       "    <tr>\n",
       "      <th>0</th>\n",
       "      <td>HELIGMAN</td>\n",
       "      <td>231</td>\n",
       "      <td>60.200</td>\n",
       "      <td>19.300</td>\n",
       "      <td>NaN</td>\n",
       "      <td>ALA</td>\n",
       "      <td>1980-01-01</td>\n",
       "      <td>60</td>\n",
       "      <td>251</td>\n",
       "      <td>False</td>\n",
       "      <td>1.0</td>\n",
       "    </tr>\n",
       "    <tr>\n",
       "      <th>1</th>\n",
       "      <td>KOBBAKLINTAR</td>\n",
       "      <td>63</td>\n",
       "      <td>60.033</td>\n",
       "      <td>19.883</td>\n",
       "      <td>NaN</td>\n",
       "      <td>ALA</td>\n",
       "      <td>1980-01-01</td>\n",
       "      <td>60</td>\n",
       "      <td>261</td>\n",
       "      <td>False</td>\n",
       "      <td>1.0</td>\n",
       "    </tr>\n",
       "    <tr>\n",
       "      <th>2</th>\n",
       "      <td>LEMSTROM</td>\n",
       "      <td>84</td>\n",
       "      <td>60.100</td>\n",
       "      <td>20.017</td>\n",
       "      <td>NaN</td>\n",
       "      <td>ALA</td>\n",
       "      <td>1980-01-01</td>\n",
       "      <td>60</td>\n",
       "      <td>271</td>\n",
       "      <td>False</td>\n",
       "      <td>1.0</td>\n",
       "    </tr>\n",
       "    <tr>\n",
       "      <th>3</th>\n",
       "      <td>FOGLO / DEGERBY</td>\n",
       "      <td>249</td>\n",
       "      <td>60.032</td>\n",
       "      <td>20.385</td>\n",
       "      <td>NaN</td>\n",
       "      <td>ALA</td>\n",
       "      <td>2015-06-10</td>\n",
       "      <td>60</td>\n",
       "      <td>281</td>\n",
       "      <td>True</td>\n",
       "      <td>1.0</td>\n",
       "    </tr>\n",
       "    <tr>\n",
       "      <th>128</th>\n",
       "      <td>ZEEBRUGGE</td>\n",
       "      <td>470</td>\n",
       "      <td>51.350</td>\n",
       "      <td>3.200</td>\n",
       "      <td>NaN</td>\n",
       "      <td>BEL</td>\n",
       "      <td>2016-07-26</td>\n",
       "      <td>160</td>\n",
       "      <td>11</td>\n",
       "      <td>True</td>\n",
       "      <td>1.0</td>\n",
       "    </tr>\n",
       "    <tr>\n",
       "      <th>129</th>\n",
       "      <td>OOSTENDE</td>\n",
       "      <td>413</td>\n",
       "      <td>51.233</td>\n",
       "      <td>2.917</td>\n",
       "      <td>NaN</td>\n",
       "      <td>BEL</td>\n",
       "      <td>2016-07-26</td>\n",
       "      <td>160</td>\n",
       "      <td>21</td>\n",
       "      <td>True</td>\n",
       "      <td>1.0</td>\n",
       "    </tr>\n",
       "    <tr>\n",
       "      <th>130</th>\n",
       "      <td>NIEUWPOORT</td>\n",
       "      <td>489</td>\n",
       "      <td>51.150</td>\n",
       "      <td>2.733</td>\n",
       "      <td>NaN</td>\n",
       "      <td>BEL</td>\n",
       "      <td>2016-07-26</td>\n",
       "      <td>160</td>\n",
       "      <td>31</td>\n",
       "      <td>True</td>\n",
       "      <td>1.0</td>\n",
       "    </tr>\n",
       "    <tr>\n",
       "      <th>146</th>\n",
       "      <td>BOURGAS</td>\n",
       "      <td>317</td>\n",
       "      <td>42.483</td>\n",
       "      <td>27.483</td>\n",
       "      <td>NaN</td>\n",
       "      <td>BGR</td>\n",
       "      <td>1997-08-27</td>\n",
       "      <td>295</td>\n",
       "      <td>21</td>\n",
       "      <td>False</td>\n",
       "      <td>1.0</td>\n",
       "    </tr>\n",
       "    <tr>\n",
       "      <th>...</th>\n",
       "      <td>...</td>\n",
       "      <td>...</td>\n",
       "      <td>...</td>\n",
       "      <td>...</td>\n",
       "      <td>...</td>\n",
       "      <td>...</td>\n",
       "      <td>...</td>\n",
       "      <td>...</td>\n",
       "      <td>...</td>\n",
       "      <td>...</td>\n",
       "      <td>...</td>\n",
       "    </tr>\n",
       "    <tr>\n",
       "      <th>1211</th>\n",
       "      <td>ANTALYA II</td>\n",
       "      <td>1681</td>\n",
       "      <td>36.833</td>\n",
       "      <td>30.617</td>\n",
       "      <td>NaN</td>\n",
       "      <td>TUR</td>\n",
       "      <td>2013-09-07</td>\n",
       "      <td>310</td>\n",
       "      <td>52</td>\n",
       "      <td>True</td>\n",
       "      <td>1.0</td>\n",
       "    </tr>\n",
       "    <tr>\n",
       "      <th>1210</th>\n",
       "      <td>BODRUM II</td>\n",
       "      <td>1680</td>\n",
       "      <td>37.033</td>\n",
       "      <td>27.417</td>\n",
       "      <td>NaN</td>\n",
       "      <td>TUR</td>\n",
       "      <td>2013-09-07</td>\n",
       "      <td>310</td>\n",
       "      <td>46</td>\n",
       "      <td>True</td>\n",
       "      <td>1.0</td>\n",
       "    </tr>\n",
       "    <tr>\n",
       "      <th>1209</th>\n",
       "      <td>MENTES/IZMIR</td>\n",
       "      <td>1679</td>\n",
       "      <td>38.433</td>\n",
       "      <td>26.717</td>\n",
       "      <td>NaN</td>\n",
       "      <td>TUR</td>\n",
       "      <td>2013-09-07</td>\n",
       "      <td>310</td>\n",
       "      <td>42</td>\n",
       "      <td>True</td>\n",
       "      <td>1.0</td>\n",
       "    </tr>\n",
       "    <tr>\n",
       "      <th>1208</th>\n",
       "      <td>ERDEK</td>\n",
       "      <td>1598</td>\n",
       "      <td>40.383</td>\n",
       "      <td>27.850</td>\n",
       "      <td>NaN</td>\n",
       "      <td>TUR</td>\n",
       "      <td>2013-09-07</td>\n",
       "      <td>310</td>\n",
       "      <td>38</td>\n",
       "      <td>True</td>\n",
       "      <td>1.0</td>\n",
       "    </tr>\n",
       "    <tr>\n",
       "      <th>1204</th>\n",
       "      <td>TRABZON II</td>\n",
       "      <td>1927</td>\n",
       "      <td>41.000</td>\n",
       "      <td>39.733</td>\n",
       "      <td>NaN</td>\n",
       "      <td>TUR</td>\n",
       "      <td>2010-06-28</td>\n",
       "      <td>310</td>\n",
       "      <td>13</td>\n",
       "      <td>True</td>\n",
       "      <td>1.0</td>\n",
       "    </tr>\n",
       "    <tr>\n",
       "      <th>1206</th>\n",
       "      <td>AMASRA</td>\n",
       "      <td>1919</td>\n",
       "      <td>41.433</td>\n",
       "      <td>32.233</td>\n",
       "      <td>NaN</td>\n",
       "      <td>TUR</td>\n",
       "      <td>2010-06-24</td>\n",
       "      <td>310</td>\n",
       "      <td>26</td>\n",
       "      <td>True</td>\n",
       "      <td>1.0</td>\n",
       "    </tr>\n",
       "    <tr>\n",
       "      <th>1205</th>\n",
       "      <td>IGNEDA</td>\n",
       "      <td>1926</td>\n",
       "      <td>41.883</td>\n",
       "      <td>28.017</td>\n",
       "      <td>NaN</td>\n",
       "      <td>TUR</td>\n",
       "      <td>2013-09-07</td>\n",
       "      <td>310</td>\n",
       "      <td>18</td>\n",
       "      <td>True</td>\n",
       "      <td>1.0</td>\n",
       "    </tr>\n",
       "    <tr>\n",
       "      <th>1216</th>\n",
       "      <td>SEVASTOPOL</td>\n",
       "      <td>42</td>\n",
       "      <td>44.617</td>\n",
       "      <td>33.533</td>\n",
       "      <td>NaN</td>\n",
       "      <td>UKR</td>\n",
       "      <td>1998-03-02</td>\n",
       "      <td>298</td>\n",
       "      <td>41</td>\n",
       "      <td>False</td>\n",
       "      <td>1.0</td>\n",
       "    </tr>\n",
       "  </tbody>\n",
       "</table>\n",
       "<p>427 rows × 11 columns</p>\n",
       "</div>"
      ],
      "text/plain": [
       "         Station Name    ID     Lat     Lon  GLOSS ID Country       Date  \\\n",
       "0            HELIGMAN   231  60.200  19.300       NaN     ALA 1980-01-01   \n",
       "1        KOBBAKLINTAR    63  60.033  19.883       NaN     ALA 1980-01-01   \n",
       "2            LEMSTROM    84  60.100  20.017       NaN     ALA 1980-01-01   \n",
       "3     FOGLO / DEGERBY   249  60.032  20.385       NaN     ALA 2015-06-10   \n",
       "128         ZEEBRUGGE   470  51.350   3.200       NaN     BEL 2016-07-26   \n",
       "129          OOSTENDE   413  51.233   2.917       NaN     BEL 2016-07-26   \n",
       "130        NIEUWPOORT   489  51.150   2.733       NaN     BEL 2016-07-26   \n",
       "146           BOURGAS   317  42.483  27.483       NaN     BGR 1997-08-27   \n",
       "...               ...   ...     ...     ...       ...     ...        ...   \n",
       "1211       ANTALYA II  1681  36.833  30.617       NaN     TUR 2013-09-07   \n",
       "1210        BODRUM II  1680  37.033  27.417       NaN     TUR 2013-09-07   \n",
       "1209     MENTES/IZMIR  1679  38.433  26.717       NaN     TUR 2013-09-07   \n",
       "1208            ERDEK  1598  40.383  27.850       NaN     TUR 2013-09-07   \n",
       "1204       TRABZON II  1927  41.000  39.733       NaN     TUR 2010-06-28   \n",
       "1206           AMASRA  1919  41.433  32.233       NaN     TUR 2010-06-24   \n",
       "1205           IGNEDA  1926  41.883  28.017       NaN     TUR 2013-09-07   \n",
       "1216       SEVASTOPOL    42  44.617  33.533       NaN     UKR 1998-03-02   \n",
       "\n",
       "      Coastline  Station Recently updated  Number of stations  \n",
       "0            60      251            False                 1.0  \n",
       "1            60      261            False                 1.0  \n",
       "2            60      271            False                 1.0  \n",
       "3            60      281             True                 1.0  \n",
       "128         160       11             True                 1.0  \n",
       "129         160       21             True                 1.0  \n",
       "130         160       31             True                 1.0  \n",
       "146         295       21            False                 1.0  \n",
       "...         ...      ...              ...                 ...  \n",
       "1211        310       52             True                 1.0  \n",
       "1210        310       46             True                 1.0  \n",
       "1209        310       42             True                 1.0  \n",
       "1208        310       38             True                 1.0  \n",
       "1204        310       13             True                 1.0  \n",
       "1206        310       26             True                 1.0  \n",
       "1205        310       18             True                 1.0  \n",
       "1216        298       41            False                 1.0  \n",
       "\n",
       "[427 rows x 11 columns]"
      ]
     },
     "execution_count": 126,
     "metadata": {},
     "output_type": "execute_result"
    }
   ],
   "source": [
    "european_stations.sort_values(by=\"Country\")"
   ]
  },
  {
   "cell_type": "code",
   "execution_count": 127,
   "metadata": {
    "collapsed": false
   },
   "outputs": [
    {
     "data": {
      "text/html": [
       "<div>\n",
       "<table border=\"1\" class=\"dataframe\">\n",
       "  <thead>\n",
       "    <tr style=\"text-align: right;\">\n",
       "      <th>Recently updated</th>\n",
       "      <th>False</th>\n",
       "      <th>True</th>\n",
       "    </tr>\n",
       "    <tr>\n",
       "      <th>Country</th>\n",
       "      <th></th>\n",
       "      <th></th>\n",
       "    </tr>\n",
       "  </thead>\n",
       "  <tbody>\n",
       "    <tr>\n",
       "      <th>ALA</th>\n",
       "      <td>3.0</td>\n",
       "      <td>1.0</td>\n",
       "    </tr>\n",
       "    <tr>\n",
       "      <th>BEL</th>\n",
       "      <td>NaN</td>\n",
       "      <td>3.0</td>\n",
       "    </tr>\n",
       "    <tr>\n",
       "      <th>BGR</th>\n",
       "      <td>2.0</td>\n",
       "      <td>NaN</td>\n",
       "    </tr>\n",
       "    <tr>\n",
       "      <th>CYP</th>\n",
       "      <td>1.0</td>\n",
       "      <td>1.0</td>\n",
       "    </tr>\n",
       "    <tr>\n",
       "      <th>DEU</th>\n",
       "      <td>NaN</td>\n",
       "      <td>9.0</td>\n",
       "    </tr>\n",
       "    <tr>\n",
       "      <th>DNK</th>\n",
       "      <td>1.0</td>\n",
       "      <td>14.0</td>\n",
       "    </tr>\n",
       "    <tr>\n",
       "      <th>EGY</th>\n",
       "      <td>1.0</td>\n",
       "      <td>1.0</td>\n",
       "    </tr>\n",
       "    <tr>\n",
       "      <th>ESP</th>\n",
       "      <td>7.0</td>\n",
       "      <td>38.0</td>\n",
       "    </tr>\n",
       "    <tr>\n",
       "      <th>...</th>\n",
       "      <td>...</td>\n",
       "      <td>...</td>\n",
       "    </tr>\n",
       "    <tr>\n",
       "      <th>POL</th>\n",
       "      <td>1.0</td>\n",
       "      <td>6.0</td>\n",
       "    </tr>\n",
       "    <tr>\n",
       "      <th>PRT</th>\n",
       "      <td>6.0</td>\n",
       "      <td>2.0</td>\n",
       "    </tr>\n",
       "    <tr>\n",
       "      <th>ROU</th>\n",
       "      <td>1.0</td>\n",
       "      <td>NaN</td>\n",
       "    </tr>\n",
       "    <tr>\n",
       "      <th>RUS</th>\n",
       "      <td>6.0</td>\n",
       "      <td>6.0</td>\n",
       "    </tr>\n",
       "    <tr>\n",
       "      <th>SVN</th>\n",
       "      <td>1.0</td>\n",
       "      <td>1.0</td>\n",
       "    </tr>\n",
       "    <tr>\n",
       "      <th>SWE</th>\n",
       "      <td>11.0</td>\n",
       "      <td>26.0</td>\n",
       "    </tr>\n",
       "    <tr>\n",
       "      <th>TUR</th>\n",
       "      <td>NaN</td>\n",
       "      <td>10.0</td>\n",
       "    </tr>\n",
       "    <tr>\n",
       "      <th>UKR</th>\n",
       "      <td>1.0</td>\n",
       "      <td>NaN</td>\n",
       "    </tr>\n",
       "  </tbody>\n",
       "</table>\n",
       "<p>37 rows × 2 columns</p>\n",
       "</div>"
      ],
      "text/plain": [
       "Recently updated  False  True \n",
       "Country                       \n",
       "ALA                 3.0    1.0\n",
       "BEL                 NaN    3.0\n",
       "BGR                 2.0    NaN\n",
       "CYP                 1.0    1.0\n",
       "DEU                 NaN    9.0\n",
       "DNK                 1.0   14.0\n",
       "EGY                 1.0    1.0\n",
       "ESP                 7.0   38.0\n",
       "...                 ...    ...\n",
       "POL                 1.0    6.0\n",
       "PRT                 6.0    2.0\n",
       "ROU                 1.0    NaN\n",
       "RUS                 6.0    6.0\n",
       "SVN                 1.0    1.0\n",
       "SWE                11.0   26.0\n",
       "TUR                 NaN   10.0\n",
       "UKR                 1.0    NaN\n",
       "\n",
       "[37 rows x 2 columns]"
      ]
     },
     "execution_count": 127,
     "metadata": {},
     "output_type": "execute_result"
    }
   ],
   "source": [
    "station_counts = pd.pivot_table(european_stations, index=\"Country\", columns=\"Recently updated\", \n",
    "                                values=\"Number of stations\", aggfunc=np.sum)\n",
    "# Let's remove from the table the countries for which no station was found:\n",
    "station_counts.dropna(how=\"all\")"
   ]
  },
  {
   "cell_type": "markdown",
   "metadata": {},
   "source": [
    "**QUIZ:** Why is there still some countries with no entries?"
   ]
  },
  {
   "cell_type": "markdown",
   "metadata": {},
   "source": [
    "**EXERCISE:** How many recently updated stations? Not recently updated stations? Which country has the most recently updated stations? \n",
    "\n",
    "Bonus: Which country has the most stations?"
   ]
  },
  {
   "cell_type": "code",
   "execution_count": null,
   "metadata": {
    "collapsed": false
   },
   "outputs": [],
   "source": [
    "# Your code here"
   ]
  },
  {
   "cell_type": "markdown",
   "metadata": {},
   "source": [
    "**EXERCISE:** How would we build the same dataframe with a `groupby` operation?"
   ]
  },
  {
   "cell_type": "code",
   "execution_count": null,
   "metadata": {
    "collapsed": false
   },
   "outputs": [],
   "source": [
    "# Your code here"
   ]
  },
  {
   "cell_type": "markdown",
   "metadata": {},
   "source": [
    "## 10. Correlations and regressions"
   ]
  },
  {
   "cell_type": "markdown",
   "metadata": {},
   "source": [
    "### Correlation coefficients"
   ]
  },
  {
   "cell_type": "markdown",
   "metadata": {},
   "source": [
    "Both Series and dataframes have a `corr` method to compute the correlation coefficient between series:"
   ]
  },
  {
   "cell_type": "code",
   "execution_count": 128,
   "metadata": {
    "collapsed": false
   },
   "outputs": [
    {
     "data": {
      "text/plain": [
       "0.36048187747206756"
      ]
     },
     "execution_count": 128,
     "metadata": {},
     "output_type": "execute_result"
    }
   ],
   "source": [
    "# Let's see what how the various sea levels are correlated with each other:\n",
    "mean_sea_level[\"northern_hem\"].corr(mean_sea_level[\"southern_hem\"])"
   ]
  },
  {
   "cell_type": "code",
   "execution_count": 129,
   "metadata": {
    "collapsed": false
   },
   "outputs": [
    {
     "data": {
      "text/html": [
       "<div>\n",
       "<table border=\"1\" class=\"dataframe\">\n",
       "  <thead>\n",
       "    <tr style=\"text-align: right;\">\n",
       "      <th></th>\n",
       "      <th>northern_hem</th>\n",
       "      <th>southern_hem</th>\n",
       "      <th>mean_global</th>\n",
       "    </tr>\n",
       "  </thead>\n",
       "  <tbody>\n",
       "    <tr>\n",
       "      <th>northern_hem</th>\n",
       "      <td>1.000000</td>\n",
       "      <td>0.360482</td>\n",
       "      <td>0.649231</td>\n",
       "    </tr>\n",
       "    <tr>\n",
       "      <th>southern_hem</th>\n",
       "      <td>0.360482</td>\n",
       "      <td>1.000000</td>\n",
       "      <td>0.896886</td>\n",
       "    </tr>\n",
       "    <tr>\n",
       "      <th>mean_global</th>\n",
       "      <td>0.649231</td>\n",
       "      <td>0.896886</td>\n",
       "      <td>1.000000</td>\n",
       "    </tr>\n",
       "  </tbody>\n",
       "</table>\n",
       "</div>"
      ],
      "text/plain": [
       "              northern_hem  southern_hem  mean_global\n",
       "northern_hem      1.000000      0.360482     0.649231\n",
       "southern_hem      0.360482      1.000000     0.896886\n",
       "mean_global       0.649231      0.896886     1.000000"
      ]
     },
     "execution_count": 129,
     "metadata": {},
     "output_type": "execute_result"
    }
   ],
   "source": [
    "# If series are already grouped into a DataFrame, computing all correlation coeff is trivial:\n",
    "mean_sea_level.corr()"
   ]
  },
  {
   "cell_type": "markdown",
   "metadata": {},
   "source": [
    "Note: by default, the method used is the `Pearson` correlation coefficient (https://en.wikipedia.org/wiki/Pearson_product-moment_correlation_coefficient). Other methods are available (`kendall`, `spearman` using the `method` kwarg)."
   ]
  },
  {
   "cell_type": "code",
   "execution_count": 130,
   "metadata": {
    "collapsed": false
   },
   "outputs": [
    {
     "data": {
      "text/plain": [
       "<matplotlib.image.AxesImage at 0x118137e48>"
      ]
     },
     "execution_count": 130,
     "metadata": {},
     "output_type": "execute_result"
    },
    {
     "data": {
      "image/png": "[encoded data removed]",
      "text/plain": [
       "<matplotlib.figure.Figure at 0x10ed96c50>"
      ]
     },
     "metadata": {},
     "output_type": "display_data"
    }
   ],
   "source": [
    "# Visualize the correlation matrix\n",
    "plt.imshow(mean_sea_level.corr(), interpolation=\"nearest\")"
   ]
  },
  {
   "cell_type": "code",
   "execution_count": 131,
   "metadata": {
    "collapsed": false
   },
   "outputs": [],
   "source": [
    "plt.yticks?"
   ]
  },
  {
   "cell_type": "code",
   "execution_count": 132,
   "metadata": {
    "collapsed": false
   },
   "outputs": [
    {
     "data": {
      "text/plain": [
       "<matplotlib.colorbar.Colorbar at 0x11841a358>"
      ]
     },
     "execution_count": 132,
     "metadata": {},
     "output_type": "execute_result"
    },
    {
     "data": {
      "image/png": "[encoded data removed]",
      "text/plain": [
       "<matplotlib.figure.Figure at 0x118113668>"
      ]
     },
     "metadata": {},
     "output_type": "display_data"
    }
   ],
   "source": [
    "# let's make it a little better to confirm that learning about global sea level cannot be done from just \n",
    "# looking at stations in the northern hemisphere:\n",
    "plt.imshow(mean_sea_level.corr(), interpolation=\"nearest\")\n",
    "plt.xticks(np.arange(3), mean_sea_level.corr().columns)\n",
    "plt.yticks(np.arange(3), mean_sea_level.corr().index)\n",
    "plt.colorbar()"
   ]
  },
  {
   "cell_type": "markdown",
   "metadata": {},
   "source": [
    "### OLS"
   ]
  },
  {
   "cell_type": "markdown",
   "metadata": {},
   "source": [
    "The recommeded way to build ordinaty least square regressions is by using `statsmodels`."
   ]
  },
  {
   "cell_type": "code",
   "execution_count": 133,
   "metadata": {
    "collapsed": false
   },
   "outputs": [],
   "source": [
    "import statsmodels.formula.api as sm"
   ]
  },
  {
   "cell_type": "code",
   "execution_count": 134,
   "metadata": {
    "collapsed": false
   },
   "outputs": [],
   "source": [
    "sm_model = sm.ols(formula=\"mean_global ~ northern_hem + southern_hem\", data=mean_sea_level).fit()"
   ]
  },
  {
   "cell_type": "code",
   "execution_count": 135,
   "metadata": {
    "collapsed": false
   },
   "outputs": [
    {
     "data": {
      "text/plain": [
       "Intercept       1.468349\n",
       "northern_hem    0.333625\n",
       "southern_hem    0.735599\n",
       "dtype: float64"
      ]
     },
     "execution_count": 135,
     "metadata": {},
     "output_type": "execute_result"
    }
   ],
   "source": [
    "sm_model.params"
   ]
  },
  {
   "cell_type": "code",
   "execution_count": 136,
   "metadata": {
    "collapsed": false
   },
   "outputs": [
    {
     "data": {
      "text/plain": [
       "pandas.core.series.Series"
      ]
     },
     "execution_count": 136,
     "metadata": {},
     "output_type": "execute_result"
    }
   ],
   "source": [
    "type(sm_model.params)"
   ]
  },
  {
   "cell_type": "code",
   "execution_count": 137,
   "metadata": {
    "collapsed": false
   },
   "outputs": [
    {
     "data": {
      "text/html": [
       "<table class=\"simpletable\">\n",
       "<caption>OLS Regression Results</caption>\n",
       "<tr>\n",
       "  <th>Dep. Variable:</th>       <td>mean_global</td>   <th>  R-squared:         </th> <td>   0.988</td> \n",
       "</tr>\n",
       "<tr>\n",
       "  <th>Model:</th>                   <td>OLS</td>       <th>  Adj. R-squared:    </th> <td>   0.988</td> \n",
       "</tr>\n",
       "<tr>\n",
       "  <th>Method:</th>             <td>Least Squares</td>  <th>  F-statistic:       </th> <td>3.188e+04</td>\n",
       "</tr>\n",
       "<tr>\n",
       "  <th>Date:</th>             <td>Fri, 30 Dec 2016</td> <th>  Prob (F-statistic):</th>  <td>  0.00</td>  \n",
       "</tr>\n",
       "<tr>\n",
       "  <th>Time:</th>                 <td>19:36:54</td>     <th>  Log-Likelihood:    </th> <td> -1765.7</td> \n",
       "</tr>\n",
       "<tr>\n",
       "  <th>No. Observations:</th>      <td>   780</td>      <th>  AIC:               </th> <td>   3537.</td> \n",
       "</tr>\n",
       "<tr>\n",
       "  <th>Df Residuals:</th>          <td>   777</td>      <th>  BIC:               </th> <td>   3551.</td> \n",
       "</tr>\n",
       "<tr>\n",
       "  <th>Df Model:</th>              <td>     2</td>      <th>                     </th>     <td> </td>    \n",
       "</tr>\n",
       "<tr>\n",
       "  <th>Covariance Type:</th>      <td>nonrobust</td>    <th>                     </th>     <td> </td>    \n",
       "</tr>\n",
       "</table>\n",
       "<table class=\"simpletable\">\n",
       "<tr>\n",
       "        <td></td>          <th>coef</th>     <th>std err</th>      <th>t</th>      <th>P>|t|</th> <th>[95.0% Conf. Int.]</th> \n",
       "</tr>\n",
       "<tr>\n",
       "  <th>Intercept</th>    <td>    1.4683</td> <td>    0.138</td> <td>   10.651</td> <td> 0.000</td> <td>    1.198     1.739</td>\n",
       "</tr>\n",
       "<tr>\n",
       "  <th>northern_hem</th> <td>    0.3336</td> <td>    0.003</td> <td>  108.839</td> <td> 0.000</td> <td>    0.328     0.340</td>\n",
       "</tr>\n",
       "<tr>\n",
       "  <th>southern_hem</th> <td>    0.7356</td> <td>    0.004</td> <td>  191.198</td> <td> 0.000</td> <td>    0.728     0.743</td>\n",
       "</tr>\n",
       "</table>\n",
       "<table class=\"simpletable\">\n",
       "<tr>\n",
       "  <th>Omnibus:</th>       <td>86.727</td> <th>  Durbin-Watson:     </th> <td>   0.134</td>\n",
       "</tr>\n",
       "<tr>\n",
       "  <th>Prob(Omnibus):</th> <td> 0.000</td> <th>  Jarque-Bera (JB):  </th> <td>  29.349</td>\n",
       "</tr>\n",
       "<tr>\n",
       "  <th>Skew:</th>          <td> 0.206</td> <th>  Prob(JB):          </th> <td>4.24e-07</td>\n",
       "</tr>\n",
       "<tr>\n",
       "  <th>Kurtosis:</th>      <td> 2.144</td> <th>  Cond. No.          </th> <td>    75.8</td>\n",
       "</tr>\n",
       "</table>"
      ],
      "text/plain": [
       "<class 'statsmodels.iolib.summary.Summary'>\n",
       "\"\"\"\n",
       "                            OLS Regression Results                            \n",
       "==============================================================================\n",
       "Dep. Variable:            mean_global   R-squared:                       0.988\n",
       "Model:                            OLS   Adj. R-squared:                  0.988\n",
       "Method:                 Least Squares   F-statistic:                 3.188e+04\n",
       "Date:                Fri, 30 Dec 2016   Prob (F-statistic):               0.00\n",
       "Time:                        19:36:54   Log-Likelihood:                -1765.7\n",
       "No. Observations:                 780   AIC:                             3537.\n",
       "Df Residuals:                     777   BIC:                             3551.\n",
       "Df Model:                           2                                         \n",
       "Covariance Type:            nonrobust                                         \n",
       "================================================================================\n",
       "                   coef    std err          t      P>|t|      [95.0% Conf. Int.]\n",
       "--------------------------------------------------------------------------------\n",
       "Intercept        1.4683      0.138     10.651      0.000         1.198     1.739\n",
       "northern_hem     0.3336      0.003    108.839      0.000         0.328     0.340\n",
       "southern_hem     0.7356      0.004    191.198      0.000         0.728     0.743\n",
       "==============================================================================\n",
       "Omnibus:                       86.727   Durbin-Watson:                   0.134\n",
       "Prob(Omnibus):                  0.000   Jarque-Bera (JB):               29.349\n",
       "Skew:                           0.206   Prob(JB):                     4.24e-07\n",
       "Kurtosis:                       2.144   Cond. No.                         75.8\n",
       "==============================================================================\n",
       "\n",
       "Warnings:\n",
       "[1] Standard Errors assume that the covariance matrix of the errors is correctly specified.\n",
       "\"\"\""
      ]
     },
     "execution_count": 137,
     "metadata": {},
     "output_type": "execute_result"
    }
   ],
   "source": [
    "sm_model.summary()"
   ]
  },
  {
   "cell_type": "code",
   "execution_count": 138,
   "metadata": {
    "collapsed": false
   },
   "outputs": [
    {
     "data": {
      "text/plain": [
       "<matplotlib.legend.Legend at 0x11a3e79e8>"
      ]
     },
     "execution_count": 138,
     "metadata": {},
     "output_type": "execute_result"
    },
    {
     "data": {
      "image/png": "[encoded data removed]",
      "text/plain": [
       "<matplotlib.figure.Figure at 0x11a3e79b0>"
      ]
     },
     "metadata": {},
     "output_type": "display_data"
    }
   ],
   "source": [
    "plt.figure(figsize=LARGE_FIGSIZE)\n",
    "mean_sea_level[\"mean_global\"].plot()\n",
    "sm_model.fittedvalues.plot(label=\"OLS prediction\")\n",
    "plt.legend(loc=\"upper left\")"
   ]
  },
  {
   "cell_type": "markdown",
   "metadata": {},
   "source": [
    "### An interlude: data alignment"
   ]
  },
  {
   "cell_type": "markdown",
   "metadata": {},
   "source": [
    "#### Converting the floating point date to a timestamp"
   ]
  },
  {
   "cell_type": "markdown",
   "metadata": {},
   "source": [
    "Now, we would like to look for correlations between our monthly temperatures and the sea levels we have. For this to be possible, some data alignment must be done since the time scales are very different for the 2 datasets. "
   ]
  },
  {
   "cell_type": "code",
   "execution_count": 139,
   "metadata": {
    "collapsed": false
   },
   "outputs": [
    {
     "data": {
      "text/plain": [
       "Float64Index([1992.9323, 1992.9595, 1992.9866, 1993.0138, 1993.0409, 1993.0681,\n",
       "              1993.0952, 1993.1223, 1993.1495, 1993.1766,\n",
       "              ...\n",
       "              2016.3068,  2016.334, 2016.3611, 2016.3883, 2016.4154, 2016.4426,\n",
       "              2016.4697, 2016.4969,  2016.524, 2016.5512],\n",
       "             dtype='float64', name='date', length=869)"
      ]
     },
     "execution_count": 139,
     "metadata": {},
     "output_type": "execute_result"
    }
   ],
   "source": [
    "mean_sea_level[\"mean_global\"].index"
   ]
  },
  {
   "cell_type": "code",
   "execution_count": 140,
   "metadata": {
    "collapsed": false
   },
   "outputs": [
    {
     "data": {
      "text/plain": [
       "PeriodIndex(['1880-01', '1880-02', '1880-03', '1880-04', '1880-05', '1880-06',\n",
       "             '1880-07', '1880-08', '1880-09', '1880-10',\n",
       "             ...\n",
       "             '2015-03', '2015-04', '2015-05', '2015-06', '2015-07', '2015-08',\n",
       "             '2015-09', '2015-10', '2015-11', '2015-12'],\n",
       "            dtype='int64', length=1632, freq='M')"
      ]
     },
     "execution_count": 140,
     "metadata": {},
     "output_type": "execute_result"
    }
   ],
   "source": [
    "giss_temp_series.index"
   ]
  },
  {
   "cell_type": "code",
   "execution_count": 141,
   "metadata": {
    "collapsed": false
   },
   "outputs": [],
   "source": [
    "DAYS_PER_YEAR = {}"
   ]
  },
  {
   "cell_type": "code",
   "execution_count": 142,
   "metadata": {
    "collapsed": false
   },
   "outputs": [],
   "source": [
    "import calendar\n",
    "# Let's first convert the floating point dates in the sea level to timestamps:\n",
    "def floating_year_to_timestamp(float_date):\n",
    "    \"\"\" Convert a date as a floating point year number to a pandas timestamp object.\n",
    "    \"\"\"\n",
    "    year = int(float_date)\n",
    "    days_per_year = 366 if calendar.isleap(year) else 365\n",
    "    remainder = float_date - year\n",
    "    daynum = 1 + remainder * (days_per_year - 1)\n",
    "    daynum = int(round(daynum))\n",
    "    # Convert day number to month and day\n",
    "    day = daynum\n",
    "    month = 1\n",
    "    while month < 13:\n",
    "        month_days = calendar.monthrange(year, month)[1]\n",
    "        if day <= month_days:\n",
    "            return pd.Timestamp(str(year)+\"/\"+str(month)+\"/\"+str(day))\n",
    "        day -= month_days\n",
    "        month += 1\n",
    "    raise ValueError('{} does not have {} days'.format(year, daynum))"
   ]
  },
  {
   "cell_type": "code",
   "execution_count": 143,
   "metadata": {
    "collapsed": false
   },
   "outputs": [
    {
     "data": {
      "text/plain": [
       "(Timestamp('1996-01-01 00:00:00'),\n",
       " Timestamp('1996-07-02 00:00:00'),\n",
       " Timestamp('1996-12-31 00:00:00'))"
      ]
     },
     "execution_count": 143,
     "metadata": {},
     "output_type": "execute_result"
    }
   ],
   "source": [
    "floating_year_to_timestamp(1996.0), floating_year_to_timestamp(1996.5), floating_year_to_timestamp(1996.9999)"
   ]
  },
  {
   "cell_type": "code",
   "execution_count": 144,
   "metadata": {
    "collapsed": false
   },
   "outputs": [
    {
     "data": {
      "text/plain": [
       "0     1992-12-06\n",
       "1     1992-12-16\n",
       "2     1992-12-26\n",
       "3     1993-01-06\n",
       "4     1993-01-16\n",
       "5     1993-01-26\n",
       "6     1993-02-05\n",
       "7     1993-02-15\n",
       "         ...    \n",
       "861   2016-05-12\n",
       "862   2016-05-22\n",
       "863   2016-06-01\n",
       "864   2016-06-11\n",
       "865   2016-06-20\n",
       "866   2016-06-30\n",
       "867   2016-07-10\n",
       "868   2016-07-20\n",
       "Name: date, dtype: datetime64[ns]"
      ]
     },
     "execution_count": 144,
     "metadata": {},
     "output_type": "execute_result"
    }
   ],
   "source": [
    "dt_index = pd.Series(mean_sea_level[\"mean_global\"].index).apply(floating_year_to_timestamp)\n",
    "dt_index"
   ]
  },
  {
   "cell_type": "code",
   "execution_count": 145,
   "metadata": {
    "collapsed": false
   },
   "outputs": [
    {
     "data": {
      "text/html": [
       "<div>\n",
       "<table border=\"1\" class=\"dataframe\">\n",
       "  <thead>\n",
       "    <tr style=\"text-align: right;\">\n",
       "      <th></th>\n",
       "      <th>northern_hem</th>\n",
       "      <th>southern_hem</th>\n",
       "      <th>mean_global</th>\n",
       "    </tr>\n",
       "    <tr>\n",
       "      <th>date</th>\n",
       "      <th></th>\n",
       "      <th></th>\n",
       "      <th></th>\n",
       "    </tr>\n",
       "  </thead>\n",
       "  <tbody>\n",
       "    <tr>\n",
       "      <th>1992-12-06</th>\n",
       "      <td>13.717</td>\n",
       "      <td>2.517</td>\n",
       "      <td>NaN</td>\n",
       "    </tr>\n",
       "    <tr>\n",
       "      <th>1992-12-16</th>\n",
       "      <td>1.328</td>\n",
       "      <td>-7.645</td>\n",
       "      <td>-5.818</td>\n",
       "    </tr>\n",
       "    <tr>\n",
       "      <th>1992-12-26</th>\n",
       "      <td>-13.375</td>\n",
       "      <td>-2.267</td>\n",
       "      <td>-7.525</td>\n",
       "    </tr>\n",
       "    <tr>\n",
       "      <th>1993-01-06</th>\n",
       "      <td>-24.723</td>\n",
       "      <td>0.855</td>\n",
       "      <td>-9.215</td>\n",
       "    </tr>\n",
       "    <tr>\n",
       "      <th>1993-01-16</th>\n",
       "      <td>-29.231</td>\n",
       "      <td>-2.020</td>\n",
       "      <td>-11.796</td>\n",
       "    </tr>\n",
       "    <tr>\n",
       "      <th>1993-01-26</th>\n",
       "      <td>-32.538</td>\n",
       "      <td>-0.398</td>\n",
       "      <td>-11.291</td>\n",
       "    </tr>\n",
       "    <tr>\n",
       "      <th>1993-02-05</th>\n",
       "      <td>-35.588</td>\n",
       "      <td>4.102</td>\n",
       "      <td>-9.569</td>\n",
       "    </tr>\n",
       "    <tr>\n",
       "      <th>1993-02-15</th>\n",
       "      <td>-26.579</td>\n",
       "      <td>6.787</td>\n",
       "      <td>-3.714</td>\n",
       "    </tr>\n",
       "    <tr>\n",
       "      <th>...</th>\n",
       "      <td>...</td>\n",
       "      <td>...</td>\n",
       "      <td>...</td>\n",
       "    </tr>\n",
       "    <tr>\n",
       "      <th>2016-05-12</th>\n",
       "      <td>56.282</td>\n",
       "      <td>66.331</td>\n",
       "      <td>NaN</td>\n",
       "    </tr>\n",
       "    <tr>\n",
       "      <th>2016-05-22</th>\n",
       "      <td>63.273</td>\n",
       "      <td>64.067</td>\n",
       "      <td>NaN</td>\n",
       "    </tr>\n",
       "    <tr>\n",
       "      <th>2016-06-01</th>\n",
       "      <td>69.371</td>\n",
       "      <td>68.305</td>\n",
       "      <td>NaN</td>\n",
       "    </tr>\n",
       "    <tr>\n",
       "      <th>2016-06-11</th>\n",
       "      <td>75.595</td>\n",
       "      <td>67.053</td>\n",
       "      <td>NaN</td>\n",
       "    </tr>\n",
       "    <tr>\n",
       "      <th>2016-06-20</th>\n",
       "      <td>80.087</td>\n",
       "      <td>65.238</td>\n",
       "      <td>NaN</td>\n",
       "    </tr>\n",
       "    <tr>\n",
       "      <th>2016-06-30</th>\n",
       "      <td>81.619</td>\n",
       "      <td>54.950</td>\n",
       "      <td>NaN</td>\n",
       "    </tr>\n",
       "    <tr>\n",
       "      <th>2016-07-10</th>\n",
       "      <td>83.580</td>\n",
       "      <td>53.514</td>\n",
       "      <td>NaN</td>\n",
       "    </tr>\n",
       "    <tr>\n",
       "      <th>2016-07-20</th>\n",
       "      <td>87.190</td>\n",
       "      <td>55.389</td>\n",
       "      <td>NaN</td>\n",
       "    </tr>\n",
       "  </tbody>\n",
       "</table>\n",
       "<p>869 rows × 3 columns</p>\n",
       "</div>"
      ],
      "text/plain": [
       "            northern_hem  southern_hem  mean_global\n",
       "date                                               \n",
       "1992-12-06        13.717         2.517          NaN\n",
       "1992-12-16         1.328        -7.645       -5.818\n",
       "1992-12-26       -13.375        -2.267       -7.525\n",
       "1993-01-06       -24.723         0.855       -9.215\n",
       "1993-01-16       -29.231        -2.020      -11.796\n",
       "1993-01-26       -32.538        -0.398      -11.291\n",
       "1993-02-05       -35.588         4.102       -9.569\n",
       "1993-02-15       -26.579         6.787       -3.714\n",
       "...                  ...           ...          ...\n",
       "2016-05-12        56.282        66.331          NaN\n",
       "2016-05-22        63.273        64.067          NaN\n",
       "2016-06-01        69.371        68.305          NaN\n",
       "2016-06-11        75.595        67.053          NaN\n",
       "2016-06-20        80.087        65.238          NaN\n",
       "2016-06-30        81.619        54.950          NaN\n",
       "2016-07-10        83.580        53.514          NaN\n",
       "2016-07-20        87.190        55.389          NaN\n",
       "\n",
       "[869 rows x 3 columns]"
      ]
     },
     "execution_count": 145,
     "metadata": {},
     "output_type": "execute_result"
    }
   ],
   "source": [
    "mean_sea_level = mean_sea_level.reset_index(drop=True)\n",
    "mean_sea_level.index = dt_index\n",
    "mean_sea_level"
   ]
  },
  {
   "cell_type": "markdown",
   "metadata": {},
   "source": [
    "Now, how to align the 2 series? Is this one sampled regularly so that the month temperatures can be upscaled to that frequency?"
   ]
  },
  {
   "cell_type": "markdown",
   "metadata": {},
   "source": [
    "#### Computing the difference between successive values"
   ]
  },
  {
   "cell_type": "markdown",
   "metadata": {},
   "source": [
    "What is the frequency of that new index?"
   ]
  },
  {
   "cell_type": "code",
   "execution_count": 146,
   "metadata": {
    "collapsed": false
   },
   "outputs": [
    {
     "data": {
      "text/plain": [
       "dtype('<M8[ns]')"
      ]
     },
     "execution_count": 146,
     "metadata": {},
     "output_type": "execute_result"
    }
   ],
   "source": [
    "dt_index.dtype"
   ]
  },
  {
   "cell_type": "code",
   "execution_count": 147,
   "metadata": {
    "collapsed": false
   },
   "outputs": [
    {
     "data": {
      "text/plain": [
       "0        NaT\n",
       "1     0 days\n",
       "2     0 days\n",
       "3     0 days\n",
       "4     0 days\n",
       "5     0 days\n",
       "6     0 days\n",
       "7     0 days\n",
       "       ...  \n",
       "861   0 days\n",
       "862   0 days\n",
       "863   0 days\n",
       "864   0 days\n",
       "865   0 days\n",
       "866   0 days\n",
       "867   0 days\n",
       "868      NaT\n",
       "Name: date, dtype: timedelta64[ns]"
      ]
     },
     "execution_count": 147,
     "metadata": {},
     "output_type": "execute_result"
    }
   ],
   "source": [
    "# What is the frequency of the new index? The numpy way to compute differences between all values doesn't work:\n",
    "dt_index[1:] - dt_index[:-1]"
   ]
  },
  {
   "cell_type": "markdown",
   "metadata": {},
   "source": [
    "**IMPORTANT Note:** The above failure is due to the fact that operations between series automatically align them based on their index."
   ]
  },
  {
   "cell_type": "code",
   "execution_count": 148,
   "metadata": {
    "collapsed": false
   },
   "outputs": [
    {
     "data": {
      "text/plain": [
       "0            NaT\n",
       "1     1992-12-06\n",
       "2     1992-12-16\n",
       "3     1992-12-26\n",
       "4     1993-01-06\n",
       "5     1993-01-16\n",
       "6     1993-01-26\n",
       "7     1993-02-05\n",
       "         ...    \n",
       "861   2016-05-02\n",
       "862   2016-05-12\n",
       "863   2016-05-22\n",
       "864   2016-06-01\n",
       "865   2016-06-11\n",
       "866   2016-06-20\n",
       "867   2016-06-30\n",
       "868   2016-07-10\n",
       "Name: date, dtype: datetime64[ns]"
      ]
     },
     "execution_count": 148,
     "metadata": {},
     "output_type": "execute_result"
    }
   ],
   "source": [
    "# There is a method for shifting values up/down the index:\n",
    "dt_index.shift()"
   ]
  },
  {
   "cell_type": "code",
   "execution_count": 149,
   "metadata": {
    "collapsed": false
   },
   "outputs": [
    {
     "data": {
      "text/plain": [
       "0         NaT\n",
       "1     10 days\n",
       "2     10 days\n",
       "3     11 days\n",
       "4     10 days\n",
       "5     10 days\n",
       "6     10 days\n",
       "7     10 days\n",
       "        ...  \n",
       "861   10 days\n",
       "862   10 days\n",
       "863   10 days\n",
       "864   10 days\n",
       "865    9 days\n",
       "866   10 days\n",
       "867   10 days\n",
       "868   10 days\n",
       "Name: date, dtype: timedelta64[ns]"
      ]
     },
     "execution_count": 149,
     "metadata": {},
     "output_type": "execute_result"
    }
   ],
   "source": [
    "# So the distances can be computed with \n",
    "dt_index - dt_index.shift()"
   ]
  },
  {
   "cell_type": "code",
   "execution_count": 150,
   "metadata": {
    "collapsed": false
   },
   "outputs": [
    {
     "data": {
      "text/html": [
       "<div>\n",
       "<table border=\"1\" class=\"dataframe\">\n",
       "  <thead>\n",
       "    <tr style=\"text-align: right;\">\n",
       "      <th></th>\n",
       "      <th>northern_hem</th>\n",
       "      <th>southern_hem</th>\n",
       "      <th>mean_global</th>\n",
       "    </tr>\n",
       "    <tr>\n",
       "      <th>date</th>\n",
       "      <th></th>\n",
       "      <th></th>\n",
       "      <th></th>\n",
       "    </tr>\n",
       "  </thead>\n",
       "  <tbody>\n",
       "    <tr>\n",
       "      <th>1992-12</th>\n",
       "      <td>0.556667</td>\n",
       "      <td>-2.465000</td>\n",
       "      <td>-6.671500</td>\n",
       "    </tr>\n",
       "    <tr>\n",
       "      <th>1993-01</th>\n",
       "      <td>-28.830667</td>\n",
       "      <td>-0.521000</td>\n",
       "      <td>-10.767333</td>\n",
       "    </tr>\n",
       "    <tr>\n",
       "      <th>1993-02</th>\n",
       "      <td>-30.596333</td>\n",
       "      <td>7.068000</td>\n",
       "      <td>-5.251333</td>\n",
       "    </tr>\n",
       "    <tr>\n",
       "      <th>1993-03</th>\n",
       "      <td>-32.431667</td>\n",
       "      <td>6.967000</td>\n",
       "      <td>-5.136333</td>\n",
       "    </tr>\n",
       "    <tr>\n",
       "      <th>1993-04</th>\n",
       "      <td>-23.668000</td>\n",
       "      <td>1.549667</td>\n",
       "      <td>-1.118000</td>\n",
       "    </tr>\n",
       "    <tr>\n",
       "      <th>1993-05</th>\n",
       "      <td>-21.731333</td>\n",
       "      <td>-2.863000</td>\n",
       "      <td>-6.319667</td>\n",
       "    </tr>\n",
       "    <tr>\n",
       "      <th>1993-06</th>\n",
       "      <td>-4.644333</td>\n",
       "      <td>-4.418000</td>\n",
       "      <td>-0.902333</td>\n",
       "    </tr>\n",
       "    <tr>\n",
       "      <th>1993-07</th>\n",
       "      <td>0.172667</td>\n",
       "      <td>-12.684667</td>\n",
       "      <td>-4.508000</td>\n",
       "    </tr>\n",
       "    <tr>\n",
       "      <th>...</th>\n",
       "      <td>...</td>\n",
       "      <td>...</td>\n",
       "      <td>...</td>\n",
       "    </tr>\n",
       "    <tr>\n",
       "      <th>2015-12</th>\n",
       "      <td>68.749000</td>\n",
       "      <td>77.260667</td>\n",
       "      <td>NaN</td>\n",
       "    </tr>\n",
       "    <tr>\n",
       "      <th>2016-01</th>\n",
       "      <td>44.881667</td>\n",
       "      <td>83.589000</td>\n",
       "      <td>NaN</td>\n",
       "    </tr>\n",
       "    <tr>\n",
       "      <th>2016-02</th>\n",
       "      <td>46.538000</td>\n",
       "      <td>88.074333</td>\n",
       "      <td>NaN</td>\n",
       "    </tr>\n",
       "    <tr>\n",
       "      <th>2016-03</th>\n",
       "      <td>40.144667</td>\n",
       "      <td>85.990333</td>\n",
       "      <td>NaN</td>\n",
       "    </tr>\n",
       "    <tr>\n",
       "      <th>2016-04</th>\n",
       "      <td>50.071333</td>\n",
       "      <td>84.388667</td>\n",
       "      <td>NaN</td>\n",
       "    </tr>\n",
       "    <tr>\n",
       "      <th>2016-05</th>\n",
       "      <td>56.657000</td>\n",
       "      <td>67.104667</td>\n",
       "      <td>NaN</td>\n",
       "    </tr>\n",
       "    <tr>\n",
       "      <th>2016-06</th>\n",
       "      <td>76.668000</td>\n",
       "      <td>63.886500</td>\n",
       "      <td>NaN</td>\n",
       "    </tr>\n",
       "    <tr>\n",
       "      <th>2016-07</th>\n",
       "      <td>85.385000</td>\n",
       "      <td>54.451500</td>\n",
       "      <td>NaN</td>\n",
       "    </tr>\n",
       "  </tbody>\n",
       "</table>\n",
       "<p>284 rows × 3 columns</p>\n",
       "</div>"
      ],
      "text/plain": [
       "         northern_hem  southern_hem  mean_global\n",
       "date                                            \n",
       "1992-12      0.556667     -2.465000    -6.671500\n",
       "1993-01    -28.830667     -0.521000   -10.767333\n",
       "1993-02    -30.596333      7.068000    -5.251333\n",
       "1993-03    -32.431667      6.967000    -5.136333\n",
       "1993-04    -23.668000      1.549667    -1.118000\n",
       "1993-05    -21.731333     -2.863000    -6.319667\n",
       "1993-06     -4.644333     -4.418000    -0.902333\n",
       "1993-07      0.172667    -12.684667    -4.508000\n",
       "...               ...           ...          ...\n",
       "2015-12     68.749000     77.260667          NaN\n",
       "2016-01     44.881667     83.589000          NaN\n",
       "2016-02     46.538000     88.074333          NaN\n",
       "2016-03     40.144667     85.990333          NaN\n",
       "2016-04     50.071333     84.388667          NaN\n",
       "2016-05     56.657000     67.104667          NaN\n",
       "2016-06     76.668000     63.886500          NaN\n",
       "2016-07     85.385000     54.451500          NaN\n",
       "\n",
       "[284 rows x 3 columns]"
      ]
     },
     "execution_count": 150,
     "metadata": {},
     "output_type": "execute_result"
    }
   ],
   "source": [
    "# Not constant reads apparently. Let's downscale the frequency of the sea levels \n",
    "# to monthly, like the temperature reads we have:\n",
    "monthly_mean_sea_level = mean_sea_level.resample(\"MS\").mean().to_period()\n",
    "monthly_mean_sea_level"
   ]
  },
  {
   "cell_type": "code",
   "execution_count": 151,
   "metadata": {
    "collapsed": false
   },
   "outputs": [
    {
     "data": {
      "text/plain": [
       "(1880-01   NaN\n",
       " 1880-02   NaN\n",
       " 1880-03   NaN\n",
       " 1880-04   NaN\n",
       " 1880-05   NaN\n",
       " 1880-06   NaN\n",
       " 1880-07   NaN\n",
       " 1880-08   NaN\n",
       "            ..\n",
       " 2015-12   NaN\n",
       " 2016-01   NaN\n",
       " 2016-02   NaN\n",
       " 2016-03   NaN\n",
       " 2016-04   NaN\n",
       " 2016-05   NaN\n",
       " 2016-06   NaN\n",
       " 2016-07   NaN\n",
       " Freq: M, Name: mean_global, dtype: float64, 1880-01   -34.0\n",
       " 1880-02   -27.0\n",
       " 1880-03   -22.0\n",
       " 1880-04   -30.0\n",
       " 1880-05   -16.0\n",
       " 1880-06   -24.0\n",
       " 1880-07   -19.0\n",
       " 1880-08   -12.0\n",
       "            ... \n",
       " 2015-12     NaN\n",
       " 2016-01     NaN\n",
       " 2016-02     NaN\n",
       " 2016-03     NaN\n",
       " 2016-04     NaN\n",
       " 2016-05     NaN\n",
       " 2016-06     NaN\n",
       " 2016-07     NaN\n",
       " Freq: M, Name: Temp anomaly, dtype: float32)"
      ]
     },
     "execution_count": 151,
     "metadata": {},
     "output_type": "execute_result"
    }
   ],
   "source": [
    "monthly_mean_sea_level[\"mean_global\"].align(giss_temp_series)"
   ]
  },
  {
   "cell_type": "code",
   "execution_count": 152,
   "metadata": {
    "collapsed": false
   },
   "outputs": [],
   "source": [
    "giss_temp_series.align?"
   ]
  },
  {
   "cell_type": "code",
   "execution_count": 153,
   "metadata": {
    "collapsed": false
   },
   "outputs": [
    {
     "data": {
      "text/plain": [
       "(1992-12    -6.671500\n",
       " 1993-01   -10.767333\n",
       " 1993-02    -5.251333\n",
       " 1993-03    -5.136333\n",
       " 1993-04    -1.118000\n",
       " 1993-05    -6.319667\n",
       " 1993-06    -0.902333\n",
       " 1993-07    -4.508000\n",
       "              ...    \n",
       " 2015-05          NaN\n",
       " 2015-06          NaN\n",
       " 2015-07          NaN\n",
       " 2015-08          NaN\n",
       " 2015-09          NaN\n",
       " 2015-10          NaN\n",
       " 2015-11          NaN\n",
       " 2015-12          NaN\n",
       " Freq: M, Name: mean_global, dtype: float64, 1992-12    18.0\n",
       " 1993-01    34.0\n",
       " 1993-02    37.0\n",
       " 1993-03    33.0\n",
       " 1993-04    22.0\n",
       " 1993-05    23.0\n",
       " 1993-06    19.0\n",
       " 1993-07    24.0\n",
       "            ... \n",
       " 2015-05     NaN\n",
       " 2015-06     NaN\n",
       " 2015-07     NaN\n",
       " 2015-08     NaN\n",
       " 2015-09     NaN\n",
       " 2015-10     NaN\n",
       " 2015-11     NaN\n",
       " 2015-12     NaN\n",
       " Freq: M, Name: Temp anomaly, dtype: float32)"
      ]
     },
     "execution_count": 153,
     "metadata": {},
     "output_type": "execute_result"
    }
   ],
   "source": [
    "# Now that the series are using the same type and frequency of indexes, to align them is trivial:\n",
    "monthly_mean_sea_level[\"mean_global\"].align(giss_temp_series, join='inner')"
   ]
  },
  {
   "cell_type": "code",
   "execution_count": 154,
   "metadata": {
    "collapsed": false
   },
   "outputs": [],
   "source": [
    "aligned_sl, aligned_temp = monthly_mean_sea_level[\"mean_global\"].align(giss_temp_series, join='inner')\n",
    "aligned_df = pd.DataFrame({\"mean_sea_level\": aligned_sl, \"mean_global_temp\": aligned_temp})"
   ]
  },
  {
   "cell_type": "markdown",
   "metadata": {},
   "source": [
    "The alignment can even be done on an entire dataframe:"
   ]
  },
  {
   "cell_type": "code",
   "execution_count": 155,
   "metadata": {
    "collapsed": false
   },
   "outputs": [
    {
     "data": {
      "text/plain": [
       "(         northern_hem  southern_hem  mean_global\n",
       " 1992-12      0.556667     -2.465000    -6.671500\n",
       " 1993-01    -28.830667     -0.521000   -10.767333\n",
       " 1993-02    -30.596333      7.068000    -5.251333\n",
       " 1993-03    -32.431667      6.967000    -5.136333\n",
       " 1993-04    -23.668000      1.549667    -1.118000\n",
       " 1993-05    -21.731333     -2.863000    -6.319667\n",
       " 1993-06     -4.644333     -4.418000    -0.902333\n",
       " 1993-07      0.172667    -12.684667    -4.508000\n",
       " ...               ...           ...          ...\n",
       " 2015-05     43.444000     71.664750          NaN\n",
       " 2015-06     59.716000     71.828667          NaN\n",
       " 2015-07     72.460667     60.819000          NaN\n",
       " 2015-08     89.157000     62.902000          NaN\n",
       " 2015-09     93.290333     61.620333          NaN\n",
       " 2015-10     96.100667     70.860667          NaN\n",
       " 2015-11     79.575667     71.419000          NaN\n",
       " 2015-12     68.749000     77.260667          NaN\n",
       " \n",
       " [277 rows x 3 columns], 1992-12    18.0\n",
       " 1993-01    34.0\n",
       " 1993-02    37.0\n",
       " 1993-03    33.0\n",
       " 1993-04    22.0\n",
       " 1993-05    23.0\n",
       " 1993-06    19.0\n",
       " 1993-07    24.0\n",
       "            ... \n",
       " 2015-05     NaN\n",
       " 2015-06     NaN\n",
       " 2015-07     NaN\n",
       " 2015-08     NaN\n",
       " 2015-09     NaN\n",
       " 2015-10     NaN\n",
       " 2015-11     NaN\n",
       " 2015-12     NaN\n",
       " Freq: M, Name: Temp anomaly, dtype: float32)"
      ]
     },
     "execution_count": 155,
     "metadata": {},
     "output_type": "execute_result"
    }
   ],
   "source": [
    "monthly_mean_sea_level.align(giss_temp_series, axis=0, join='inner')"
   ]
  },
  {
   "cell_type": "code",
   "execution_count": 156,
   "metadata": {
    "collapsed": false
   },
   "outputs": [
    {
     "data": {
      "text/html": [
       "<div>\n",
       "<table border=\"1\" class=\"dataframe\">\n",
       "  <thead>\n",
       "    <tr style=\"text-align: right;\">\n",
       "      <th></th>\n",
       "      <th>northern_hem</th>\n",
       "      <th>southern_hem</th>\n",
       "      <th>mean_global</th>\n",
       "      <th>global_temp</th>\n",
       "    </tr>\n",
       "  </thead>\n",
       "  <tbody>\n",
       "    <tr>\n",
       "      <th>1992-12</th>\n",
       "      <td>0.556667</td>\n",
       "      <td>-2.465000</td>\n",
       "      <td>-6.671500</td>\n",
       "      <td>18.0</td>\n",
       "    </tr>\n",
       "    <tr>\n",
       "      <th>1993-01</th>\n",
       "      <td>-28.830667</td>\n",
       "      <td>-0.521000</td>\n",
       "      <td>-10.767333</td>\n",
       "      <td>34.0</td>\n",
       "    </tr>\n",
       "    <tr>\n",
       "      <th>1993-02</th>\n",
       "      <td>-30.596333</td>\n",
       "      <td>7.068000</td>\n",
       "      <td>-5.251333</td>\n",
       "      <td>37.0</td>\n",
       "    </tr>\n",
       "    <tr>\n",
       "      <th>1993-03</th>\n",
       "      <td>-32.431667</td>\n",
       "      <td>6.967000</td>\n",
       "      <td>-5.136333</td>\n",
       "      <td>33.0</td>\n",
       "    </tr>\n",
       "    <tr>\n",
       "      <th>1993-04</th>\n",
       "      <td>-23.668000</td>\n",
       "      <td>1.549667</td>\n",
       "      <td>-1.118000</td>\n",
       "      <td>22.0</td>\n",
       "    </tr>\n",
       "    <tr>\n",
       "      <th>1993-05</th>\n",
       "      <td>-21.731333</td>\n",
       "      <td>-2.863000</td>\n",
       "      <td>-6.319667</td>\n",
       "      <td>23.0</td>\n",
       "    </tr>\n",
       "    <tr>\n",
       "      <th>1993-06</th>\n",
       "      <td>-4.644333</td>\n",
       "      <td>-4.418000</td>\n",
       "      <td>-0.902333</td>\n",
       "      <td>19.0</td>\n",
       "    </tr>\n",
       "    <tr>\n",
       "      <th>1993-07</th>\n",
       "      <td>0.172667</td>\n",
       "      <td>-12.684667</td>\n",
       "      <td>-4.508000</td>\n",
       "      <td>24.0</td>\n",
       "    </tr>\n",
       "    <tr>\n",
       "      <th>...</th>\n",
       "      <td>...</td>\n",
       "      <td>...</td>\n",
       "      <td>...</td>\n",
       "      <td>...</td>\n",
       "    </tr>\n",
       "    <tr>\n",
       "      <th>2015-05</th>\n",
       "      <td>43.444000</td>\n",
       "      <td>71.664750</td>\n",
       "      <td>NaN</td>\n",
       "      <td>NaN</td>\n",
       "    </tr>\n",
       "    <tr>\n",
       "      <th>2015-06</th>\n",
       "      <td>59.716000</td>\n",
       "      <td>71.828667</td>\n",
       "      <td>NaN</td>\n",
       "      <td>NaN</td>\n",
       "    </tr>\n",
       "    <tr>\n",
       "      <th>2015-07</th>\n",
       "      <td>72.460667</td>\n",
       "      <td>60.819000</td>\n",
       "      <td>NaN</td>\n",
       "      <td>NaN</td>\n",
       "    </tr>\n",
       "    <tr>\n",
       "      <th>2015-08</th>\n",
       "      <td>89.157000</td>\n",
       "      <td>62.902000</td>\n",
       "      <td>NaN</td>\n",
       "      <td>NaN</td>\n",
       "    </tr>\n",
       "    <tr>\n",
       "      <th>2015-09</th>\n",
       "      <td>93.290333</td>\n",
       "      <td>61.620333</td>\n",
       "      <td>NaN</td>\n",
       "      <td>NaN</td>\n",
       "    </tr>\n",
       "    <tr>\n",
       "      <th>2015-10</th>\n",
       "      <td>96.100667</td>\n",
       "      <td>70.860667</td>\n",
       "      <td>NaN</td>\n",
       "      <td>NaN</td>\n",
       "    </tr>\n",
       "    <tr>\n",
       "      <th>2015-11</th>\n",
       "      <td>79.575667</td>\n",
       "      <td>71.419000</td>\n",
       "      <td>NaN</td>\n",
       "      <td>NaN</td>\n",
       "    </tr>\n",
       "    <tr>\n",
       "      <th>2015-12</th>\n",
       "      <td>68.749000</td>\n",
       "      <td>77.260667</td>\n",
       "      <td>NaN</td>\n",
       "      <td>NaN</td>\n",
       "    </tr>\n",
       "  </tbody>\n",
       "</table>\n",
       "<p>277 rows × 4 columns</p>\n",
       "</div>"
      ],
      "text/plain": [
       "         northern_hem  southern_hem  mean_global  global_temp\n",
       "1992-12      0.556667     -2.465000    -6.671500         18.0\n",
       "1993-01    -28.830667     -0.521000   -10.767333         34.0\n",
       "1993-02    -30.596333      7.068000    -5.251333         37.0\n",
       "1993-03    -32.431667      6.967000    -5.136333         33.0\n",
       "1993-04    -23.668000      1.549667    -1.118000         22.0\n",
       "1993-05    -21.731333     -2.863000    -6.319667         23.0\n",
       "1993-06     -4.644333     -4.418000    -0.902333         19.0\n",
       "1993-07      0.172667    -12.684667    -4.508000         24.0\n",
       "...               ...           ...          ...          ...\n",
       "2015-05     43.444000     71.664750          NaN          NaN\n",
       "2015-06     59.716000     71.828667          NaN          NaN\n",
       "2015-07     72.460667     60.819000          NaN          NaN\n",
       "2015-08     89.157000     62.902000          NaN          NaN\n",
       "2015-09     93.290333     61.620333          NaN          NaN\n",
       "2015-10     96.100667     70.860667          NaN          NaN\n",
       "2015-11     79.575667     71.419000          NaN          NaN\n",
       "2015-12     68.749000     77.260667          NaN          NaN\n",
       "\n",
       "[277 rows x 4 columns]"
      ]
     },
     "execution_count": 156,
     "metadata": {},
     "output_type": "execute_result"
    }
   ],
   "source": [
    "aligned_sea_levels, aligned_temp = monthly_mean_sea_level.align(giss_temp_series, axis=0, join='inner')\n",
    "aligned_monthly_data = aligned_sea_levels.copy()\n",
    "aligned_monthly_data[\"global_temp\"] = aligned_temp\n",
    "aligned_monthly_data"
   ]
  },
  {
   "cell_type": "markdown",
   "metadata": {},
   "source": [
    "### Correlations between sea levels and temperatures"
   ]
  },
  {
   "cell_type": "code",
   "execution_count": 157,
   "metadata": {
    "collapsed": false
   },
   "outputs": [
    {
     "data": {
      "text/plain": [
       "<matplotlib.axes._subplots.AxesSubplot at 0x11a2c6940>"
      ]
     },
     "execution_count": 157,
     "metadata": {},
     "output_type": "execute_result"
    },
    {
     "data": {
      "image/png": "[encoded data removed]",
      "text/plain": [
       "<matplotlib.figure.Figure at 0x11a315908>"
      ]
     },
     "metadata": {},
     "output_type": "display_data"
    }
   ],
   "source": [
    "aligned_monthly_data.plot(figsize=LARGE_FIGSIZE)"
   ]
  },
  {
   "cell_type": "code",
   "execution_count": 158,
   "metadata": {
    "collapsed": false
   },
   "outputs": [
    {
     "data": {
      "text/html": [
       "<div>\n",
       "<table border=\"1\" class=\"dataframe\">\n",
       "  <thead>\n",
       "    <tr style=\"text-align: right;\">\n",
       "      <th></th>\n",
       "      <th>northern_hem</th>\n",
       "      <th>southern_hem</th>\n",
       "      <th>mean_global</th>\n",
       "      <th>global_temp</th>\n",
       "    </tr>\n",
       "  </thead>\n",
       "  <tbody>\n",
       "    <tr>\n",
       "      <th>northern_hem</th>\n",
       "      <td>1.000000</td>\n",
       "      <td>0.349101</td>\n",
       "      <td>0.658666</td>\n",
       "      <td>0.378089</td>\n",
       "    </tr>\n",
       "    <tr>\n",
       "      <th>southern_hem</th>\n",
       "      <td>0.349101</td>\n",
       "      <td>1.000000</td>\n",
       "      <td>0.901072</td>\n",
       "      <td>0.597901</td>\n",
       "    </tr>\n",
       "    <tr>\n",
       "      <th>mean_global</th>\n",
       "      <td>0.658666</td>\n",
       "      <td>0.901072</td>\n",
       "      <td>1.000000</td>\n",
       "      <td>0.620717</td>\n",
       "    </tr>\n",
       "    <tr>\n",
       "      <th>global_temp</th>\n",
       "      <td>0.378089</td>\n",
       "      <td>0.597901</td>\n",
       "      <td>0.620717</td>\n",
       "      <td>1.000000</td>\n",
       "    </tr>\n",
       "  </tbody>\n",
       "</table>\n",
       "</div>"
      ],
      "text/plain": [
       "              northern_hem  southern_hem  mean_global  global_temp\n",
       "northern_hem      1.000000      0.349101     0.658666     0.378089\n",
       "southern_hem      0.349101      1.000000     0.901072     0.597901\n",
       "mean_global       0.658666      0.901072     1.000000     0.620717\n",
       "global_temp       0.378089      0.597901     0.620717     1.000000"
      ]
     },
     "execution_count": 158,
     "metadata": {},
     "output_type": "execute_result"
    }
   ],
   "source": [
    "aligned_monthly_data.corr()"
   ]
  },
  {
   "cell_type": "code",
   "execution_count": 159,
   "metadata": {
    "collapsed": false
   },
   "outputs": [
    {
     "data": {
      "text/plain": [
       "0.35748527157977117"
      ]
     },
     "execution_count": 159,
     "metadata": {},
     "output_type": "execute_result"
    }
   ],
   "source": [
    "model = sm.ols(\"southern_hem ~ global_temp\", data=aligned_monthly_data)\n",
    "params = model.fit()\n",
    "params.rsquared"
   ]
  },
  {
   "cell_type": "markdown",
   "metadata": {},
   "source": [
    "What if we had done the analysis yearly instead of monthly to remove seasonal variations?"
   ]
  },
  {
   "cell_type": "code",
   "execution_count": 160,
   "metadata": {
    "collapsed": false
   },
   "outputs": [
    {
     "data": {
      "text/plain": [
       "<matplotlib.axes._subplots.AxesSubplot at 0x11a34a550>"
      ]
     },
     "execution_count": 160,
     "metadata": {},
     "output_type": "execute_result"
    },
    {
     "data": {
      "image/png": "[encoded data removed]",
      "text/plain": [
       "<matplotlib.figure.Figure at 0x11a365d30>"
      ]
     },
     "metadata": {},
     "output_type": "display_data"
    }
   ],
   "source": [
    "aligned_yearly_data = aligned_monthly_data.resample(\"A\").mean()\n",
    "aligned_yearly_data.plot()"
   ]
  },
  {
   "cell_type": "code",
   "execution_count": 161,
   "metadata": {
    "collapsed": false
   },
   "outputs": [
    {
     "data": {
      "text/html": [
       "<div>\n",
       "<table border=\"1\" class=\"dataframe\">\n",
       "  <thead>\n",
       "    <tr style=\"text-align: right;\">\n",
       "      <th></th>\n",
       "      <th>northern_hem</th>\n",
       "      <th>southern_hem</th>\n",
       "      <th>mean_global</th>\n",
       "      <th>global_temp</th>\n",
       "    </tr>\n",
       "  </thead>\n",
       "  <tbody>\n",
       "    <tr>\n",
       "      <th>northern_hem</th>\n",
       "      <td>1.000000</td>\n",
       "      <td>0.989688</td>\n",
       "      <td>0.992187</td>\n",
       "      <td>0.821351</td>\n",
       "    </tr>\n",
       "    <tr>\n",
       "      <th>southern_hem</th>\n",
       "      <td>0.989688</td>\n",
       "      <td>1.000000</td>\n",
       "      <td>0.994649</td>\n",
       "      <td>0.820091</td>\n",
       "    </tr>\n",
       "    <tr>\n",
       "      <th>mean_global</th>\n",
       "      <td>0.992187</td>\n",
       "      <td>0.994649</td>\n",
       "      <td>1.000000</td>\n",
       "      <td>0.832198</td>\n",
       "    </tr>\n",
       "    <tr>\n",
       "      <th>global_temp</th>\n",
       "      <td>0.821351</td>\n",
       "      <td>0.820091</td>\n",
       "      <td>0.832198</td>\n",
       "      <td>1.000000</td>\n",
       "    </tr>\n",
       "  </tbody>\n",
       "</table>\n",
       "</div>"
      ],
      "text/plain": [
       "              northern_hem  southern_hem  mean_global  global_temp\n",
       "northern_hem      1.000000      0.989688     0.992187     0.821351\n",
       "southern_hem      0.989688      1.000000     0.994649     0.820091\n",
       "mean_global       0.992187      0.994649     1.000000     0.832198\n",
       "global_temp       0.821351      0.820091     0.832198     1.000000"
      ]
     },
     "execution_count": 161,
     "metadata": {},
     "output_type": "execute_result"
    }
   ],
   "source": [
    "aligned_yearly_data.corr()"
   ]
  },
  {
   "cell_type": "code",
   "execution_count": 162,
   "metadata": {
    "collapsed": false
   },
   "outputs": [
    {
     "data": {
      "text/plain": [
       "0.6725492407603153"
      ]
     },
     "execution_count": 162,
     "metadata": {},
     "output_type": "execute_result"
    }
   ],
   "source": [
    "model = sm.ols(\"southern_hem ~ global_temp\", data=aligned_yearly_data).fit()\n",
    "model.rsquared"
   ]
  },
  {
   "cell_type": "markdown",
   "metadata": {},
   "source": [
    "## 11. Predictions from auto regression models"
   ]
  },
  {
   "cell_type": "markdown",
   "metadata": {},
   "source": [
    "An auto-regresssive model fits existing data and build a (potentially predictive) model of the data fitted. We use the timeseries analysis (`tsa`) submodule of `statsmodels` to make out-of-sample predictions for the upcoming decades:"
   ]
  },
  {
   "cell_type": "code",
   "execution_count": 163,
   "metadata": {
    "collapsed": true
   },
   "outputs": [],
   "source": [
    "from statsmodels.tsa.api import AR"
   ]
  },
  {
   "cell_type": "code",
   "execution_count": 164,
   "metadata": {
    "collapsed": false
   },
   "outputs": [],
   "source": [
    "import statsmodels as sm\n",
    "# Let's remove seasonal variations by resampling annually\n",
    "data = giss_temp_series.resample(\"A\").mean().to_timestamp()\n",
    "ar_model = AR(data, freq='A')\n",
    "ar_res = ar_model.fit(maxlag=60, disp=True)"
   ]
  },
  {
   "cell_type": "code",
   "execution_count": 165,
   "metadata": {
    "collapsed": false
   },
   "outputs": [
    {
     "name": "stderr",
     "output_type": "stream",
     "text": [
      "/Users/dbalduini/anaconda/envs/ml-env-py3/lib/python3.5/site-packages/statsmodels/base/data.py:503: FutureWarning: TimeSeries is deprecated. Please use Series\n",
      "  return TimeSeries(result, index=self.predict_dates)\n"
     ]
    },
    {
     "data": {
      "text/plain": [
       "<matplotlib.legend.Legend at 0x11b219828>"
      ]
     },
     "execution_count": 165,
     "metadata": {},
     "output_type": "execute_result"
    },
    {
     "data": {
      "image/png": "[encoded data removed]",
      "text/plain": [
       "<matplotlib.figure.Figure at 0x11b2ceac8>"
      ]
     },
     "metadata": {},
     "output_type": "display_data"
    }
   ],
   "source": [
    "plt.figure(figsize=LARGE_FIGSIZE)\n",
    "pred = ar_res.predict(start='1950-1-1', end='2070')\n",
    "data.plot(style='k', label=\"Historical Data\")\n",
    "pred.plot(style='r', label=\"Predicted Data\")\n",
    "plt.ylabel(\"Temperature variation (0.01 degC)\")\n",
    "plt.legend()"
   ]
  },
  {
   "cell_type": "markdown",
   "metadata": {},
   "source": [
    "**EXERCISE:** Make another auto-regression on the sea level of the Atlantic ocean to estimate how much New York is going to flood in the coming century. \n",
    "\n",
    "1. You can find the historical sea levels of the Atlantic ocean at http://sealevel.colorado.edu/files/current/sl_Atlantic_Ocean.txt or locally in `data/sea_levels/sl_Atlantic_Ocean.txt`. \n",
    "2. A little more work but more precise: extract the ID of a station in NewYork from the `local_sea_level_stations` dataset, and use it to download timeseries in NY (URL would be http://www.psmsl.org/data/obtaining/met.monthly.data/< ID >.metdata)."
   ]
  },
  {
   "cell_type": "code",
   "execution_count": 166,
   "metadata": {
    "collapsed": false
   },
   "outputs": [],
   "source": [
    "# Your code here"
   ]
  }
 ],
 "metadata": {
  "anaconda-cloud": {},
  "kernelspec": {
   "display_name": "Python 3",
   "language": "python",
   "name": "python3"
  },
  "language_info": {
   "codemirror_mode": {
    "name": "ipython",
    "version": 3
   },
   "file_extension": ".py",
   "mimetype": "text/x-python",
   "name": "python",
   "nbconvert_exporter": "python",
   "pygments_lexer": "ipython3",
   "version": "3.5.2"
  }
 },
 "nbformat": 4,
 "nbformat_minor": 0
}
